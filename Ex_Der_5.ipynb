{
 "cells": [
  {
   "cell_type": "markdown",
   "metadata": {
    "collapsed": true
   },
   "source": [
    "### Задание 5. Анализ стратегий спрэд на рынке фьючерсов"
   ]
  },
  {
   "cell_type": "code",
   "execution_count": null,
   "metadata": {
    "collapsed": true
   },
   "outputs": [],
   "source": [
    "## Цель задания:\n",
    "### 1. Получить навык работы с биржевой иформацией на срочном рынке\n",
    "### 2. Идентифицировать спрэд на рынке фьючерсов\n",
    "### 3. Сравнить различные стратегии работы с ПФИ с точки зрения соотношения риск-доходность\n",
    "### Данные по срочному рынку МОЕХ можно взять с сайта www.moex.com/ru/derivatives"
   ]
  },
  {
   "cell_type": "markdown",
   "metadata": {
    "collapsed": true
   },
   "source": [
    "## 1.Загрузка библиотек"
   ]
  },
  {
   "cell_type": "code",
   "execution_count": 1,
   "metadata": {
    "collapsed": true
   },
   "outputs": [],
   "source": [
    "import numpy as np\n",
    "import pandas as pd"
   ]
  },
  {
   "cell_type": "code",
   "execution_count": 2,
   "metadata": {
    "collapsed": true
   },
   "outputs": [],
   "source": [
    "from __future__ import division"
   ]
  },
  {
   "cell_type": "code",
   "execution_count": 3,
   "metadata": {
    "collapsed": true
   },
   "outputs": [],
   "source": [
    "from scipy import stats"
   ]
  },
  {
   "cell_type": "code",
   "execution_count": null,
   "metadata": {
    "collapsed": true
   },
   "outputs": [],
   "source": [
    "import matplotlib.pyplot as plt # графическая библиотека\n",
    "%matplotlib inline "
   ]
  },
  {
   "cell_type": "code",
   "execution_count": 5,
   "metadata": {
    "collapsed": true
   },
   "outputs": [],
   "source": [
    "from datetime import datetime"
   ]
  },
  {
   "cell_type": "markdown",
   "metadata": {
    "collapsed": true
   },
   "source": [
    "## 2.Загрузка данных и их преобразование в необходимый формат"
   ]
  },
  {
   "cell_type": "markdown",
   "metadata": {},
   "source": [
    "### В задании рассмотрим построение фьючерсных стратегий на примере индекса РТС "
   ]
  },
  {
   "cell_type": "code",
   "execution_count": 6,
   "metadata": {
    "collapsed": true
   },
   "outputs": [],
   "source": [
    "path='/home/maxime/Documentos/Derivatives/LIBOR/'"
   ]
  },
  {
   "cell_type": "markdown",
   "metadata": {},
   "source": [
    "### Загрузка данных по индексу РТС (рынок спот для индекса). Данные необходимы для сравнительной динамики."
   ]
  },
  {
   "cell_type": "code",
   "execution_count": 7,
   "metadata": {
    "collapsed": true
   },
   "outputs": [],
   "source": [
    "RTSI=pd.read_csv(path+'RTSI.csv',skiprows=3,delimiter=';',usecols=[2,5],names=['Date','Close'])"
   ]
  },
  {
   "cell_type": "code",
   "execution_count": 8,
   "metadata": {},
   "outputs": [
    {
     "data": {
      "text/html": [
       "<div>\n",
       "<style scoped>\n",
       "    .dataframe tbody tr th:only-of-type {\n",
       "        vertical-align: middle;\n",
       "    }\n",
       "\n",
       "    .dataframe tbody tr th {\n",
       "        vertical-align: top;\n",
       "    }\n",
       "\n",
       "    .dataframe thead th {\n",
       "        text-align: right;\n",
       "    }\n",
       "</style>\n",
       "<table border=\"1\" class=\"dataframe\">\n",
       "  <thead>\n",
       "    <tr style=\"text-align: right;\">\n",
       "      <th></th>\n",
       "      <th>Date</th>\n",
       "      <th>Close</th>\n",
       "    </tr>\n",
       "  </thead>\n",
       "  <tbody>\n",
       "    <tr>\n",
       "      <th>0</th>\n",
       "      <td>2019-01-24</td>\n",
       "      <td>1188,15</td>\n",
       "    </tr>\n",
       "    <tr>\n",
       "      <th>1</th>\n",
       "      <td>2019-01-23</td>\n",
       "      <td>1186,51</td>\n",
       "    </tr>\n",
       "    <tr>\n",
       "      <th>2</th>\n",
       "      <td>2019-01-22</td>\n",
       "      <td>1169,79</td>\n",
       "    </tr>\n",
       "    <tr>\n",
       "      <th>3</th>\n",
       "      <td>2019-01-21</td>\n",
       "      <td>1171,09</td>\n",
       "    </tr>\n",
       "    <tr>\n",
       "      <th>4</th>\n",
       "      <td>2019-01-18</td>\n",
       "      <td>1176,42</td>\n",
       "    </tr>\n",
       "  </tbody>\n",
       "</table>\n",
       "</div>"
      ],
      "text/plain": [
       "         Date    Close\n",
       "0  2019-01-24  1188,15\n",
       "1  2019-01-23  1186,51\n",
       "2  2019-01-22  1169,79\n",
       "3  2019-01-21  1171,09\n",
       "4  2019-01-18  1176,42"
      ]
     },
     "execution_count": 8,
     "metadata": {},
     "output_type": "execute_result"
    }
   ],
   "source": [
    "RTSI.head()"
   ]
  },
  {
   "cell_type": "code",
   "execution_count": 9,
   "metadata": {},
   "outputs": [
    {
     "data": {
      "text/plain": [
       "Date     object\n",
       "Close    object\n",
       "dtype: object"
      ]
     },
     "execution_count": 9,
     "metadata": {},
     "output_type": "execute_result"
    }
   ],
   "source": [
    "RTSI.dtypes"
   ]
  },
  {
   "cell_type": "code",
   "execution_count": 10,
   "metadata": {
    "collapsed": true
   },
   "outputs": [],
   "source": [
    "RTSI['Date']=RTSI['Date'].apply(lambda x:datetime.strptime(x, '%Y-%m-%d')) \n",
    "### преобразование поля даты в необходимый формат"
   ]
  },
  {
   "cell_type": "code",
   "execution_count": 11,
   "metadata": {
    "collapsed": true
   },
   "outputs": [],
   "source": [
    "RTSI['Close']=RTSI['Close'].apply(lambda x:(str(x).replace(',','.')))\n",
    "RTSI['Close']=RTSI['Close'].apply(pd.to_numeric, errors='coerce')\n",
    "# преобразование полей  в числовой формат"
   ]
  },
  {
   "cell_type": "code",
   "execution_count": 12,
   "metadata": {},
   "outputs": [
    {
     "data": {
      "text/html": [
       "<div>\n",
       "<style scoped>\n",
       "    .dataframe tbody tr th:only-of-type {\n",
       "        vertical-align: middle;\n",
       "    }\n",
       "\n",
       "    .dataframe tbody tr th {\n",
       "        vertical-align: top;\n",
       "    }\n",
       "\n",
       "    .dataframe thead th {\n",
       "        text-align: right;\n",
       "    }\n",
       "</style>\n",
       "<table border=\"1\" class=\"dataframe\">\n",
       "  <thead>\n",
       "    <tr style=\"text-align: right;\">\n",
       "      <th></th>\n",
       "      <th>Date</th>\n",
       "      <th>Close</th>\n",
       "    </tr>\n",
       "  </thead>\n",
       "  <tbody>\n",
       "    <tr>\n",
       "      <th>0</th>\n",
       "      <td>2019-01-24</td>\n",
       "      <td>1188.15</td>\n",
       "    </tr>\n",
       "    <tr>\n",
       "      <th>1</th>\n",
       "      <td>2019-01-23</td>\n",
       "      <td>1186.51</td>\n",
       "    </tr>\n",
       "    <tr>\n",
       "      <th>2</th>\n",
       "      <td>2019-01-22</td>\n",
       "      <td>1169.79</td>\n",
       "    </tr>\n",
       "    <tr>\n",
       "      <th>3</th>\n",
       "      <td>2019-01-21</td>\n",
       "      <td>1171.09</td>\n",
       "    </tr>\n",
       "    <tr>\n",
       "      <th>4</th>\n",
       "      <td>2019-01-18</td>\n",
       "      <td>1176.42</td>\n",
       "    </tr>\n",
       "  </tbody>\n",
       "</table>\n",
       "</div>"
      ],
      "text/plain": [
       "        Date    Close\n",
       "0 2019-01-24  1188.15\n",
       "1 2019-01-23  1186.51\n",
       "2 2019-01-22  1169.79\n",
       "3 2019-01-21  1171.09\n",
       "4 2019-01-18  1176.42"
      ]
     },
     "execution_count": 12,
     "metadata": {},
     "output_type": "execute_result"
    }
   ],
   "source": [
    "RTSI.head()"
   ]
  },
  {
   "cell_type": "markdown",
   "metadata": {
    "collapsed": true
   },
   "source": [
    "### Фьючерс на индекс RTS - июнь 2019"
   ]
  },
  {
   "cell_type": "code",
   "execution_count": 13,
   "metadata": {
    "collapsed": true
   },
   "outputs": [],
   "source": [
    "RTS_06=pd.read_csv(path+'RIM9-ru.csv',delimiter=';',header=None)"
   ]
  },
  {
   "cell_type": "code",
   "execution_count": 14,
   "metadata": {
    "collapsed": true
   },
   "outputs": [],
   "source": [
    "RTS_06=pd.read_csv(path+'RIM9-ru.csv',delimiter=';',skiprows=3,usecols=[0,2,10,11,12,13],names=['Date','Sett',\n",
    " 'Vol_rub','Vol_contr','Open_int_rub','Open_int_contr'])"
   ]
  },
  {
   "cell_type": "code",
   "execution_count": 15,
   "metadata": {},
   "outputs": [
    {
     "data": {
      "text/plain": [
       "Date               object\n",
       "Sett                int64\n",
       "Vol_rub           float64\n",
       "Vol_contr         float64\n",
       "Open_int_rub        int64\n",
       "Open_int_contr      int64\n",
       "dtype: object"
      ]
     },
     "execution_count": 15,
     "metadata": {},
     "output_type": "execute_result"
    }
   ],
   "source": [
    "RTS_06.dtypes"
   ]
  },
  {
   "cell_type": "code",
   "execution_count": 16,
   "metadata": {},
   "outputs": [
    {
     "data": {
      "text/html": [
       "<div>\n",
       "<style scoped>\n",
       "    .dataframe tbody tr th:only-of-type {\n",
       "        vertical-align: middle;\n",
       "    }\n",
       "\n",
       "    .dataframe tbody tr th {\n",
       "        vertical-align: top;\n",
       "    }\n",
       "\n",
       "    .dataframe thead th {\n",
       "        text-align: right;\n",
       "    }\n",
       "</style>\n",
       "<table border=\"1\" class=\"dataframe\">\n",
       "  <thead>\n",
       "    <tr style=\"text-align: right;\">\n",
       "      <th></th>\n",
       "      <th>Date</th>\n",
       "      <th>Sett</th>\n",
       "      <th>Vol_rub</th>\n",
       "      <th>Vol_contr</th>\n",
       "      <th>Open_int_rub</th>\n",
       "      <th>Open_int_contr</th>\n",
       "    </tr>\n",
       "  </thead>\n",
       "  <tbody>\n",
       "    <tr>\n",
       "      <th>406</th>\n",
       "      <td>18.01.2019</td>\n",
       "      <td>116230</td>\n",
       "      <td>131568974.0</td>\n",
       "      <td>859.0</td>\n",
       "      <td>420071053</td>\n",
       "      <td>2728</td>\n",
       "    </tr>\n",
       "    <tr>\n",
       "      <th>407</th>\n",
       "      <td>21.01.2019</td>\n",
       "      <td>116190</td>\n",
       "      <td>24885398.0</td>\n",
       "      <td>161.0</td>\n",
       "      <td>445823827</td>\n",
       "      <td>2890</td>\n",
       "    </tr>\n",
       "    <tr>\n",
       "      <th>408</th>\n",
       "      <td>22.01.2019</td>\n",
       "      <td>115750</td>\n",
       "      <td>38372056.0</td>\n",
       "      <td>250.0</td>\n",
       "      <td>422698508</td>\n",
       "      <td>2746</td>\n",
       "    </tr>\n",
       "    <tr>\n",
       "      <th>409</th>\n",
       "      <td>23.01.2019</td>\n",
       "      <td>117190</td>\n",
       "      <td>41442355.0</td>\n",
       "      <td>268.0</td>\n",
       "      <td>452592214</td>\n",
       "      <td>2916</td>\n",
       "    </tr>\n",
       "    <tr>\n",
       "      <th>410</th>\n",
       "      <td>24.01.2019</td>\n",
       "      <td>117910</td>\n",
       "      <td>92853297.0</td>\n",
       "      <td>601.0</td>\n",
       "      <td>531332173</td>\n",
       "      <td>3426</td>\n",
       "    </tr>\n",
       "  </tbody>\n",
       "</table>\n",
       "</div>"
      ],
      "text/plain": [
       "           Date    Sett      Vol_rub  Vol_contr  Open_int_rub  Open_int_contr\n",
       "406  18.01.2019  116230  131568974.0      859.0     420071053            2728\n",
       "407  21.01.2019  116190   24885398.0      161.0     445823827            2890\n",
       "408  22.01.2019  115750   38372056.0      250.0     422698508            2746\n",
       "409  23.01.2019  117190   41442355.0      268.0     452592214            2916\n",
       "410  24.01.2019  117910   92853297.0      601.0     531332173            3426"
      ]
     },
     "execution_count": 16,
     "metadata": {},
     "output_type": "execute_result"
    }
   ],
   "source": [
    "RTS_06.tail()"
   ]
  },
  {
   "cell_type": "code",
   "execution_count": 17,
   "metadata": {
    "collapsed": true
   },
   "outputs": [],
   "source": [
    "RTS_06['Date']=RTS_06['Date'].apply(lambda x:datetime.strptime(x, '%d.%m.%Y')) \n",
    "### преобразование поля даты в необходимый формат"
   ]
  },
  {
   "cell_type": "markdown",
   "metadata": {
    "collapsed": true
   },
   "source": [
    "### Фьючерс на индекс RTS - март 2019"
   ]
  },
  {
   "cell_type": "code",
   "execution_count": 18,
   "metadata": {
    "collapsed": true
   },
   "outputs": [],
   "source": [
    "RTS_03=pd.read_csv(path+'RIH9-ru.csv',header=None,delimiter=';',skiprows=3,usecols=[0,2,10,11,12,13],names=['Date','Sett',\n",
    " 'Vol_rub','Vol_contr','Open_int_rub','Open_int_contr'])"
   ]
  },
  {
   "cell_type": "code",
   "execution_count": 19,
   "metadata": {},
   "outputs": [
    {
     "data": {
      "text/plain": [
       "Date               object\n",
       "Sett                int64\n",
       "Vol_rub           float64\n",
       "Vol_contr         float64\n",
       "Open_int_rub      float64\n",
       "Open_int_contr    float64\n",
       "dtype: object"
      ]
     },
     "execution_count": 19,
     "metadata": {},
     "output_type": "execute_result"
    }
   ],
   "source": [
    "RTS_03.dtypes"
   ]
  },
  {
   "cell_type": "code",
   "execution_count": 20,
   "metadata": {},
   "outputs": [
    {
     "data": {
      "text/html": [
       "<div>\n",
       "<style scoped>\n",
       "    .dataframe tbody tr th:only-of-type {\n",
       "        vertical-align: middle;\n",
       "    }\n",
       "\n",
       "    .dataframe tbody tr th {\n",
       "        vertical-align: top;\n",
       "    }\n",
       "\n",
       "    .dataframe thead th {\n",
       "        text-align: right;\n",
       "    }\n",
       "</style>\n",
       "<table border=\"1\" class=\"dataframe\">\n",
       "  <thead>\n",
       "    <tr style=\"text-align: right;\">\n",
       "      <th></th>\n",
       "      <th>Date</th>\n",
       "      <th>Sett</th>\n",
       "      <th>Vol_rub</th>\n",
       "      <th>Vol_contr</th>\n",
       "      <th>Open_int_rub</th>\n",
       "      <th>Open_int_contr</th>\n",
       "    </tr>\n",
       "  </thead>\n",
       "  <tbody>\n",
       "    <tr>\n",
       "      <th>468</th>\n",
       "      <td>18.01.2019</td>\n",
       "      <td>117550</td>\n",
       "      <td>5.622201e+10</td>\n",
       "      <td>362982.0</td>\n",
       "      <td>4.818714e+10</td>\n",
       "      <td>309420.0</td>\n",
       "    </tr>\n",
       "    <tr>\n",
       "      <th>469</th>\n",
       "      <td>21.01.2019</td>\n",
       "      <td>117480</td>\n",
       "      <td>3.591938e+10</td>\n",
       "      <td>229731.0</td>\n",
       "      <td>4.815167e+10</td>\n",
       "      <td>308710.0</td>\n",
       "    </tr>\n",
       "    <tr>\n",
       "      <th>470</th>\n",
       "      <td>22.01.2019</td>\n",
       "      <td>117010</td>\n",
       "      <td>4.790968e+10</td>\n",
       "      <td>308337.0</td>\n",
       "      <td>4.941802e+10</td>\n",
       "      <td>317580.0</td>\n",
       "    </tr>\n",
       "    <tr>\n",
       "      <th>471</th>\n",
       "      <td>23.01.2019</td>\n",
       "      <td>118620</td>\n",
       "      <td>5.427732e+10</td>\n",
       "      <td>347327.0</td>\n",
       "      <td>5.075775e+10</td>\n",
       "      <td>323084.0</td>\n",
       "    </tr>\n",
       "    <tr>\n",
       "      <th>472</th>\n",
       "      <td>24.01.2019</td>\n",
       "      <td>119040</td>\n",
       "      <td>6.505934e+10</td>\n",
       "      <td>416764.0</td>\n",
       "      <td>5.070039e+10</td>\n",
       "      <td>323810.0</td>\n",
       "    </tr>\n",
       "  </tbody>\n",
       "</table>\n",
       "</div>"
      ],
      "text/plain": [
       "           Date    Sett       Vol_rub  Vol_contr  Open_int_rub  Open_int_contr\n",
       "468  18.01.2019  117550  5.622201e+10   362982.0  4.818714e+10        309420.0\n",
       "469  21.01.2019  117480  3.591938e+10   229731.0  4.815167e+10        308710.0\n",
       "470  22.01.2019  117010  4.790968e+10   308337.0  4.941802e+10        317580.0\n",
       "471  23.01.2019  118620  5.427732e+10   347327.0  5.075775e+10        323084.0\n",
       "472  24.01.2019  119040  6.505934e+10   416764.0  5.070039e+10        323810.0"
      ]
     },
     "execution_count": 20,
     "metadata": {},
     "output_type": "execute_result"
    }
   ],
   "source": [
    "RTS_03.tail()"
   ]
  },
  {
   "cell_type": "code",
   "execution_count": 21,
   "metadata": {},
   "outputs": [
    {
     "data": {
      "text/plain": [
       "Date               object\n",
       "Sett                int64\n",
       "Vol_rub           float64\n",
       "Vol_contr         float64\n",
       "Open_int_rub      float64\n",
       "Open_int_contr    float64\n",
       "dtype: object"
      ]
     },
     "execution_count": 21,
     "metadata": {},
     "output_type": "execute_result"
    }
   ],
   "source": [
    "RTS_03.dtypes"
   ]
  },
  {
   "cell_type": "code",
   "execution_count": 22,
   "metadata": {
    "collapsed": true
   },
   "outputs": [],
   "source": [
    "RTS_03['Date']=RTS_03['Date'].apply(lambda x:datetime.strptime(x, '%d.%m.%Y')) \n",
    "# преобразование поля даты в необходимый формат"
   ]
  },
  {
   "cell_type": "markdown",
   "metadata": {},
   "source": [
    "## 3. Визуальный анализ динамики индекса РТС и фьючерсных контрактов"
   ]
  },
  {
   "cell_type": "code",
   "execution_count": 23,
   "metadata": {
    "collapsed": true
   },
   "outputs": [],
   "source": [
    "df_list=[RTSI[['Date','Close']],RTS_03[['Date','Sett']],RTS_06[['Date','Sett']]]\n",
    "# список массивов, с данными по индексу и фьючерсным контрактам"
   ]
  },
  {
   "cell_type": "code",
   "execution_count": 24,
   "metadata": {
    "collapsed": true
   },
   "outputs": [],
   "source": [
    "RTS=reduce(lambda left,right: pd.merge(left,right,on=['Date']),df_list)\n",
    "# объедиенный массив данных по индексу и фьючерсным контрактам"
   ]
  },
  {
   "cell_type": "code",
   "execution_count": 25,
   "metadata": {
    "collapsed": true
   },
   "outputs": [],
   "source": [
    "RTS.columns=['Date','RTS','RTS_03','RTS_06']"
   ]
  },
  {
   "cell_type": "code",
   "execution_count": 26,
   "metadata": {},
   "outputs": [
    {
     "data": {
      "text/html": [
       "<div>\n",
       "<style scoped>\n",
       "    .dataframe tbody tr th:only-of-type {\n",
       "        vertical-align: middle;\n",
       "    }\n",
       "\n",
       "    .dataframe tbody tr th {\n",
       "        vertical-align: top;\n",
       "    }\n",
       "\n",
       "    .dataframe thead th {\n",
       "        text-align: right;\n",
       "    }\n",
       "</style>\n",
       "<table border=\"1\" class=\"dataframe\">\n",
       "  <thead>\n",
       "    <tr style=\"text-align: right;\">\n",
       "      <th></th>\n",
       "      <th>Date</th>\n",
       "      <th>RTS</th>\n",
       "      <th>RTS_03</th>\n",
       "      <th>RTS_06</th>\n",
       "    </tr>\n",
       "  </thead>\n",
       "  <tbody>\n",
       "    <tr>\n",
       "      <th>0</th>\n",
       "      <td>2019-01-24</td>\n",
       "      <td>1188.15</td>\n",
       "      <td>119040</td>\n",
       "      <td>117910</td>\n",
       "    </tr>\n",
       "    <tr>\n",
       "      <th>1</th>\n",
       "      <td>2019-01-23</td>\n",
       "      <td>1186.51</td>\n",
       "      <td>118620</td>\n",
       "      <td>117190</td>\n",
       "    </tr>\n",
       "    <tr>\n",
       "      <th>2</th>\n",
       "      <td>2019-01-22</td>\n",
       "      <td>1169.79</td>\n",
       "      <td>117010</td>\n",
       "      <td>115750</td>\n",
       "    </tr>\n",
       "    <tr>\n",
       "      <th>3</th>\n",
       "      <td>2019-01-21</td>\n",
       "      <td>1171.09</td>\n",
       "      <td>117480</td>\n",
       "      <td>116190</td>\n",
       "    </tr>\n",
       "    <tr>\n",
       "      <th>4</th>\n",
       "      <td>2019-01-18</td>\n",
       "      <td>1176.42</td>\n",
       "      <td>117550</td>\n",
       "      <td>116230</td>\n",
       "    </tr>\n",
       "  </tbody>\n",
       "</table>\n",
       "</div>"
      ],
      "text/plain": [
       "        Date      RTS  RTS_03  RTS_06\n",
       "0 2019-01-24  1188.15  119040  117910\n",
       "1 2019-01-23  1186.51  118620  117190\n",
       "2 2019-01-22  1169.79  117010  115750\n",
       "3 2019-01-21  1171.09  117480  116190\n",
       "4 2019-01-18  1176.42  117550  116230"
      ]
     },
     "execution_count": 26,
     "metadata": {},
     "output_type": "execute_result"
    }
   ],
   "source": [
    "RTS.head()"
   ]
  },
  {
   "cell_type": "code",
   "execution_count": 27,
   "metadata": {
    "collapsed": true
   },
   "outputs": [],
   "source": [
    "RTS.sort_values(by=['Date'],axis=0,inplace=True)\n",
    "# сортировка данных по дате"
   ]
  },
  {
   "cell_type": "code",
   "execution_count": 28,
   "metadata": {},
   "outputs": [
    {
     "data": {
      "text/html": [
       "<div>\n",
       "<style scoped>\n",
       "    .dataframe tbody tr th:only-of-type {\n",
       "        vertical-align: middle;\n",
       "    }\n",
       "\n",
       "    .dataframe tbody tr th {\n",
       "        vertical-align: top;\n",
       "    }\n",
       "\n",
       "    .dataframe thead th {\n",
       "        text-align: right;\n",
       "    }\n",
       "</style>\n",
       "<table border=\"1\" class=\"dataframe\">\n",
       "  <thead>\n",
       "    <tr style=\"text-align: right;\">\n",
       "      <th></th>\n",
       "      <th>Date</th>\n",
       "      <th>RTS</th>\n",
       "      <th>RTS_03</th>\n",
       "      <th>RTS_06</th>\n",
       "    </tr>\n",
       "  </thead>\n",
       "  <tbody>\n",
       "    <tr>\n",
       "      <th>99</th>\n",
       "      <td>2018-09-03</td>\n",
       "      <td>1085.19</td>\n",
       "      <td>107060</td>\n",
       "      <td>107560</td>\n",
       "    </tr>\n",
       "    <tr>\n",
       "      <th>98</th>\n",
       "      <td>2018-09-04</td>\n",
       "      <td>1082.21</td>\n",
       "      <td>106630</td>\n",
       "      <td>106970</td>\n",
       "    </tr>\n",
       "    <tr>\n",
       "      <th>97</th>\n",
       "      <td>2018-09-05</td>\n",
       "      <td>1068.88</td>\n",
       "      <td>106190</td>\n",
       "      <td>107500</td>\n",
       "    </tr>\n",
       "    <tr>\n",
       "      <th>96</th>\n",
       "      <td>2018-09-06</td>\n",
       "      <td>1054.36</td>\n",
       "      <td>104940</td>\n",
       "      <td>105300</td>\n",
       "    </tr>\n",
       "    <tr>\n",
       "      <th>95</th>\n",
       "      <td>2018-09-07</td>\n",
       "      <td>1050.51</td>\n",
       "      <td>104680</td>\n",
       "      <td>105490</td>\n",
       "    </tr>\n",
       "  </tbody>\n",
       "</table>\n",
       "</div>"
      ],
      "text/plain": [
       "         Date      RTS  RTS_03  RTS_06\n",
       "99 2018-09-03  1085.19  107060  107560\n",
       "98 2018-09-04  1082.21  106630  106970\n",
       "97 2018-09-05  1068.88  106190  107500\n",
       "96 2018-09-06  1054.36  104940  105300\n",
       "95 2018-09-07  1050.51  104680  105490"
      ]
     },
     "execution_count": 28,
     "metadata": {},
     "output_type": "execute_result"
    }
   ],
   "source": [
    "RTS.head()"
   ]
  },
  {
   "cell_type": "code",
   "execution_count": 29,
   "metadata": {},
   "outputs": [
    {
     "data": {
      "image/png": "[encoded data removed]",
      "text/plain": [
       "<matplotlib.figure.Figure at 0x7f05a8249e10>"
      ]
     },
     "metadata": {},
     "output_type": "display_data"
    }
   ],
   "source": [
    "plt.figure(figsize=(10,6))\n",
    "_=plt.plot(RTS.tail(30)['Date'],RTS.tail(30)['RTS']*100)\n",
    "_=plt.plot(RTS.tail(30)['Date'],RTS.tail(30)['RTS_03'])\n",
    "_=plt.plot(RTS.tail(30)['Date'],RTS.tail(30)['RTS_06'])\n",
    "_=plt.legend()\n",
    "_=plt.title('RTS dynamics')"
   ]
  },
  {
   "cell_type": "markdown",
   "metadata": {},
   "source": [
    "### Показатель объема торгов является очень важным, с точки зрения построения стратегий на рынке фьючерсов. Ликвидность может оказаться ограничительным фактором для построения стратегий."
   ]
  },
  {
   "cell_type": "code",
   "execution_count": 30,
   "metadata": {},
   "outputs": [
    {
     "data": {
      "image/png": "[encoded data removed]",
      "text/plain": [
       "<matplotlib.figure.Figure at 0x7f05a8249510>"
      ]
     },
     "metadata": {},
     "output_type": "display_data"
    }
   ],
   "source": [
    "plt.figure(figsize=(10,6))\n",
    "_=plt.plot(RTS_03['Date'],RTS_03['Vol_contr'])\n",
    "_=plt.title('Volume RTS_0319 (contracts)')"
   ]
  },
  {
   "cell_type": "code",
   "execution_count": 31,
   "metadata": {},
   "outputs": [
    {
     "data": {
      "image/png": "[encoded data removed]",
      "text/plain": [
       "<matplotlib.figure.Figure at 0x7f059b5f0510>"
      ]
     },
     "metadata": {},
     "output_type": "display_data"
    }
   ],
   "source": [
    "plt.figure(figsize=(10,6))\n",
    "_=plt.plot(RTS_06['Date'],RTS_06['Vol_contr'])\n",
    "_=plt.title('Volume RTS_0619 (contracts)')"
   ]
  },
  {
   "cell_type": "markdown",
   "metadata": {},
   "source": [
    "### На основании графиков можно сделать следующие выводы:\n",
    "### 1. Котировки индекса и фьючерсных контрактов очень тесно следуют друг за другом. Вместе с тем мы видим определенные отклонения спрэда от некоторой средней величины, что открывает возможности для формирования позиций\n",
    "### 2. Основная ликвидность сосредотачивается в самом ближнем контракте\n",
    "### 3. Объемы торгов начинают существенно увеличиваются примерно за 3-4 месяца до даты истечения контракта"
   ]
  },
  {
   "cell_type": "markdown",
   "metadata": {
    "collapsed": true
   },
   "source": [
    "## 4.Построение стратегии спрэд"
   ]
  },
  {
   "cell_type": "code",
   "execution_count": 32,
   "metadata": {
    "collapsed": true
   },
   "outputs": [],
   "source": [
    "days=21\n",
    "# для анализа стратегий выбираем торговый месяц"
   ]
  },
  {
   "cell_type": "code",
   "execution_count": 33,
   "metadata": {},
   "outputs": [
    {
     "data": {
      "text/plain": [
       "Timestamp('2018-12-24 00:00:00')"
      ]
     },
     "execution_count": 33,
     "metadata": {},
     "output_type": "execute_result"
    }
   ],
   "source": [
    "RTS.iloc[-days,0]\n",
    "# дата первого дня "
   ]
  },
  {
   "cell_type": "code",
   "execution_count": 34,
   "metadata": {},
   "outputs": [
    {
     "data": {
      "text/plain": [
       "Timestamp('2019-01-24 00:00:00')"
      ]
     },
     "execution_count": 34,
     "metadata": {},
     "output_type": "execute_result"
    }
   ],
   "source": [
    "RTS.iloc[-1,0]\n",
    "# дата последнего дня "
   ]
  },
  {
   "cell_type": "markdown",
   "metadata": {
    "collapsed": true
   },
   "source": [
    "### Котировки RTS_06,RTS_03 день 1"
   ]
  },
  {
   "cell_type": "code",
   "execution_count": 35,
   "metadata": {},
   "outputs": [
    {
     "data": {
      "text/plain": [
       "(106720, 107370)"
      ]
     },
     "execution_count": 35,
     "metadata": {},
     "output_type": "execute_result"
    }
   ],
   "source": [
    "RTS.iloc[-days,3],RTS.iloc[-days,2]"
   ]
  },
  {
   "cell_type": "markdown",
   "metadata": {},
   "source": [
    "### Начальное значение спрэда "
   ]
  },
  {
   "cell_type": "code",
   "execution_count": 36,
   "metadata": {},
   "outputs": [
    {
     "data": {
      "text/plain": [
       "-650"
      ]
     },
     "execution_count": 36,
     "metadata": {},
     "output_type": "execute_result"
    }
   ],
   "source": [
    "spread_start=RTS.iloc[-days,3]- RTS.iloc[-days,2]\n",
    "spread_start"
   ]
  },
  {
   "cell_type": "markdown",
   "metadata": {
    "collapsed": true
   },
   "source": [
    "### Котировки RTS_06,RTS_03 день 21"
   ]
  },
  {
   "cell_type": "code",
   "execution_count": 37,
   "metadata": {},
   "outputs": [
    {
     "data": {
      "text/plain": [
       "(117910, 119040)"
      ]
     },
     "execution_count": 37,
     "metadata": {},
     "output_type": "execute_result"
    }
   ],
   "source": [
    "RTS.iloc[-1,3],RTS.iloc[-1,2]"
   ]
  },
  {
   "cell_type": "markdown",
   "metadata": {},
   "source": [
    "### Конечное значение спрэда "
   ]
  },
  {
   "cell_type": "code",
   "execution_count": 38,
   "metadata": {},
   "outputs": [
    {
     "data": {
      "text/plain": [
       "-1130"
      ]
     },
     "execution_count": 38,
     "metadata": {},
     "output_type": "execute_result"
    }
   ],
   "source": [
    "spread_end=RTS.iloc[-1,3]-RTS.iloc[-1,2]\n",
    "spread_end"
   ]
  },
  {
   "cell_type": "markdown",
   "metadata": {
    "collapsed": true
   },
   "source": [
    "### Изменение RTS_06"
   ]
  },
  {
   "cell_type": "code",
   "execution_count": 39,
   "metadata": {},
   "outputs": [
    {
     "data": {
      "text/plain": [
       "11190"
      ]
     },
     "execution_count": 39,
     "metadata": {},
     "output_type": "execute_result"
    }
   ],
   "source": [
    "RTS.iloc[-1,3]-RTS.iloc[-days,3]"
   ]
  },
  {
   "cell_type": "markdown",
   "metadata": {
    "collapsed": true
   },
   "source": [
    "### Изменение RTS_03"
   ]
  },
  {
   "cell_type": "code",
   "execution_count": 40,
   "metadata": {},
   "outputs": [
    {
     "data": {
      "text/plain": [
       "11670"
      ]
     },
     "execution_count": 40,
     "metadata": {},
     "output_type": "execute_result"
    }
   ],
   "source": [
    "RTS.iloc[-1,2]-RTS.iloc[-days,2]"
   ]
  },
  {
   "cell_type": "code",
   "execution_count": 41,
   "metadata": {},
   "outputs": [
    {
     "data": {
      "text/plain": [
       "-480"
      ]
     },
     "execution_count": 41,
     "metadata": {},
     "output_type": "execute_result"
    }
   ],
   "source": [
    "spread_end-spread_start"
   ]
  },
  {
   "cell_type": "markdown",
   "metadata": {},
   "source": [
    "### Т.к. спрэд уменьшился, позиция соответствует bull spread, т.е. длинная позиция по ближнему контракту и короткая позиция по дальнему "
   ]
  },
  {
   "cell_type": "code",
   "execution_count": 42,
   "metadata": {
    "collapsed": true
   },
   "outputs": [],
   "source": [
    "# определение вида спрэда\n",
    "def spread_func(spread_start, spread_end):\n",
    "    k_1=1\n",
    "    k_2=-1\n",
    "    spread='bull spread'\n",
    "    if spread_end>spread_start:\n",
    "        k_1=-1\n",
    "        k_2=1\n",
    "        spread='bear spread'\n",
    "    return (k_1,k_2,spread)"
   ]
  },
  {
   "cell_type": "code",
   "execution_count": 43,
   "metadata": {},
   "outputs": [
    {
     "data": {
      "text/plain": [
       "(1, -1, 'bull spread')"
      ]
     },
     "execution_count": 43,
     "metadata": {},
     "output_type": "execute_result"
    }
   ],
   "source": [
    "k_1,k_2,spread=spread_func(spread_start, spread_end)\n",
    "k_1,k_2,spread"
   ]
  },
  {
   "cell_type": "markdown",
   "metadata": {},
   "source": [
    "## 5.Сравнительный анализ открытой позиции и стратегии спрэд"
   ]
  },
  {
   "cell_type": "markdown",
   "metadata": {},
   "source": [
    "### Для сравнения двух вариантов работы на рынке будем использовать показатели VAR и Sharpe ratio.  Результаты приводятся к периоду, равному одному торговому месяцу. "
   ]
  },
  {
   "cell_type": "code",
   "execution_count": 44,
   "metadata": {
    "collapsed": true
   },
   "outputs": [],
   "source": [
    "spread_df=pd.DataFrame(zip(RTS.iloc[-days:,2],RTS.iloc[-days:,3],\n",
    "RTS.iloc[-days:,3]-RTS.iloc[-days:,2]),columns=['RTS_03','RTS_06','Spread'])\n",
    "# вспомогательный массив для расчета показателей риска и доходности"
   ]
  },
  {
   "cell_type": "code",
   "execution_count": 45,
   "metadata": {},
   "outputs": [
    {
     "data": {
      "text/html": [
       "<div>\n",
       "<style scoped>\n",
       "    .dataframe tbody tr th:only-of-type {\n",
       "        vertical-align: middle;\n",
       "    }\n",
       "\n",
       "    .dataframe tbody tr th {\n",
       "        vertical-align: top;\n",
       "    }\n",
       "\n",
       "    .dataframe thead th {\n",
       "        text-align: right;\n",
       "    }\n",
       "</style>\n",
       "<table border=\"1\" class=\"dataframe\">\n",
       "  <thead>\n",
       "    <tr style=\"text-align: right;\">\n",
       "      <th></th>\n",
       "      <th>RTS_03</th>\n",
       "      <th>RTS_06</th>\n",
       "      <th>Spread</th>\n",
       "    </tr>\n",
       "  </thead>\n",
       "  <tbody>\n",
       "    <tr>\n",
       "      <th>0</th>\n",
       "      <td>107370</td>\n",
       "      <td>106720</td>\n",
       "      <td>-650</td>\n",
       "    </tr>\n",
       "    <tr>\n",
       "      <th>1</th>\n",
       "      <td>105220</td>\n",
       "      <td>104740</td>\n",
       "      <td>-480</td>\n",
       "    </tr>\n",
       "    <tr>\n",
       "      <th>2</th>\n",
       "      <td>105420</td>\n",
       "      <td>104910</td>\n",
       "      <td>-510</td>\n",
       "    </tr>\n",
       "    <tr>\n",
       "      <th>3</th>\n",
       "      <td>105760</td>\n",
       "      <td>105330</td>\n",
       "      <td>-430</td>\n",
       "    </tr>\n",
       "    <tr>\n",
       "      <th>4</th>\n",
       "      <td>106660</td>\n",
       "      <td>106260</td>\n",
       "      <td>-400</td>\n",
       "    </tr>\n",
       "  </tbody>\n",
       "</table>\n",
       "</div>"
      ],
      "text/plain": [
       "   RTS_03  RTS_06  Spread\n",
       "0  107370  106720    -650\n",
       "1  105220  104740    -480\n",
       "2  105420  104910    -510\n",
       "3  105760  105330    -430\n",
       "4  106660  106260    -400"
      ]
     },
     "execution_count": 45,
     "metadata": {},
     "output_type": "execute_result"
    }
   ],
   "source": [
    "spread_df.head()"
   ]
  },
  {
   "cell_type": "code",
   "execution_count": 46,
   "metadata": {
    "collapsed": true
   },
   "outputs": [],
   "source": [
    "# расчет логарифмической доходности по котировкам фьючерсных контрактов\n",
    "spread_df[['ln_ret_RTS_03','ln_ret_RTS_06']]=spread_df[['RTS_03','RTS_06']].apply(lambda x:np.log(x)-np.log(x).shift(1))"
   ]
  },
  {
   "cell_type": "code",
   "execution_count": 47,
   "metadata": {
    "collapsed": true
   },
   "outputs": [],
   "source": [
    "spread_df=spread_df.iloc[1:,:]"
   ]
  },
  {
   "cell_type": "markdown",
   "metadata": {},
   "source": [
    "### Доходность стратегии спрэд соответствует доходности условного портфеля, состоящего из двух активов, один из которых находится в коротокой позиции, а другой в длинной"
   ]
  },
  {
   "cell_type": "code",
   "execution_count": 48,
   "metadata": {
    "collapsed": true
   },
   "outputs": [],
   "source": [
    "spread_df['ln_spread']=spread_df['ln_ret_RTS_03']*k_1+spread_df['ln_ret_RTS_06']*k_2"
   ]
  },
  {
   "cell_type": "code",
   "execution_count": 49,
   "metadata": {},
   "outputs": [
    {
     "data": {
      "text/html": [
       "<div>\n",
       "<style scoped>\n",
       "    .dataframe tbody tr th:only-of-type {\n",
       "        vertical-align: middle;\n",
       "    }\n",
       "\n",
       "    .dataframe tbody tr th {\n",
       "        vertical-align: top;\n",
       "    }\n",
       "\n",
       "    .dataframe thead th {\n",
       "        text-align: right;\n",
       "    }\n",
       "</style>\n",
       "<table border=\"1\" class=\"dataframe\">\n",
       "  <thead>\n",
       "    <tr style=\"text-align: right;\">\n",
       "      <th></th>\n",
       "      <th>RTS_03</th>\n",
       "      <th>RTS_06</th>\n",
       "      <th>Spread</th>\n",
       "      <th>ln_ret_RTS_03</th>\n",
       "      <th>ln_ret_RTS_06</th>\n",
       "      <th>ln_spread</th>\n",
       "    </tr>\n",
       "  </thead>\n",
       "  <tbody>\n",
       "    <tr>\n",
       "      <th>1</th>\n",
       "      <td>105220</td>\n",
       "      <td>104740</td>\n",
       "      <td>-480</td>\n",
       "      <td>-0.020227</td>\n",
       "      <td>-0.018727</td>\n",
       "      <td>-0.001500</td>\n",
       "    </tr>\n",
       "    <tr>\n",
       "      <th>2</th>\n",
       "      <td>105420</td>\n",
       "      <td>104910</td>\n",
       "      <td>-510</td>\n",
       "      <td>0.001899</td>\n",
       "      <td>0.001622</td>\n",
       "      <td>0.000277</td>\n",
       "    </tr>\n",
       "    <tr>\n",
       "      <th>3</th>\n",
       "      <td>105760</td>\n",
       "      <td>105330</td>\n",
       "      <td>-430</td>\n",
       "      <td>0.003220</td>\n",
       "      <td>0.003995</td>\n",
       "      <td>-0.000775</td>\n",
       "    </tr>\n",
       "    <tr>\n",
       "      <th>4</th>\n",
       "      <td>106660</td>\n",
       "      <td>106260</td>\n",
       "      <td>-400</td>\n",
       "      <td>0.008474</td>\n",
       "      <td>0.008791</td>\n",
       "      <td>-0.000317</td>\n",
       "    </tr>\n",
       "    <tr>\n",
       "      <th>5</th>\n",
       "      <td>107190</td>\n",
       "      <td>106540</td>\n",
       "      <td>-650</td>\n",
       "      <td>0.004957</td>\n",
       "      <td>0.002632</td>\n",
       "      <td>0.002325</td>\n",
       "    </tr>\n",
       "  </tbody>\n",
       "</table>\n",
       "</div>"
      ],
      "text/plain": [
       "   RTS_03  RTS_06  Spread  ln_ret_RTS_03  ln_ret_RTS_06  ln_spread\n",
       "1  105220  104740    -480      -0.020227      -0.018727  -0.001500\n",
       "2  105420  104910    -510       0.001899       0.001622   0.000277\n",
       "3  105760  105330    -430       0.003220       0.003995  -0.000775\n",
       "4  106660  106260    -400       0.008474       0.008791  -0.000317\n",
       "5  107190  106540    -650       0.004957       0.002632   0.002325"
      ]
     },
     "execution_count": 49,
     "metadata": {},
     "output_type": "execute_result"
    }
   ],
   "source": [
    "spread_df.head()"
   ]
  },
  {
   "cell_type": "code",
   "execution_count": 50,
   "metadata": {
    "collapsed": true
   },
   "outputs": [],
   "source": [
    "vector_means=spread_df[['ln_ret_RTS_03','ln_ret_RTS_06','ln_spread']].sum(axis=0)\n",
    "# вектор средних"
   ]
  },
  {
   "cell_type": "code",
   "execution_count": 51,
   "metadata": {},
   "outputs": [
    {
     "data": {
      "text/plain": [
       "ln_ret_RTS_03    0.103179\n",
       "ln_ret_RTS_06    0.099713\n",
       "ln_spread        0.003466\n",
       "dtype: float64"
      ]
     },
     "execution_count": 51,
     "metadata": {},
     "output_type": "execute_result"
    }
   ],
   "source": [
    "vector_means"
   ]
  },
  {
   "cell_type": "code",
   "execution_count": 52,
   "metadata": {
    "collapsed": true
   },
   "outputs": [],
   "source": [
    "vector_std=np.std(spread_df[['ln_ret_RTS_03','ln_ret_RTS_06','ln_spread']])\n",
    "# вектор стандартных отклонений"
   ]
  },
  {
   "cell_type": "code",
   "execution_count": 53,
   "metadata": {},
   "outputs": [
    {
     "data": {
      "text/plain": [
       "ln_ret_RTS_03    0.009049\n",
       "ln_ret_RTS_06    0.007947\n",
       "ln_spread        0.001732\n",
       "dtype: float64"
      ]
     },
     "execution_count": 53,
     "metadata": {},
     "output_type": "execute_result"
    }
   ],
   "source": [
    "vector_std"
   ]
  },
  {
   "cell_type": "markdown",
   "metadata": {},
   "source": [
    "### Расчет вариации \"портфеля\" (спрэд)"
   ]
  },
  {
   "cell_type": "code",
   "execution_count": 54,
   "metadata": {
    "collapsed": true
   },
   "outputs": [],
   "source": [
    "weights=np.array([k_1,k_2])"
   ]
  },
  {
   "cell_type": "code",
   "execution_count": 55,
   "metadata": {
    "collapsed": true
   },
   "outputs": [],
   "source": [
    "Sigma_port=np.sqrt(np.dot(np.dot(weights.T,np.cov(spread_df[['ln_ret_RTS_03','ln_ret_RTS_06']],rowvar=False)),\n",
    "                          weights.T))"
   ]
  },
  {
   "cell_type": "code",
   "execution_count": 56,
   "metadata": {},
   "outputs": [
    {
     "data": {
      "text/plain": [
       "0.0017765348201470329"
      ]
     },
     "execution_count": 56,
     "metadata": {},
     "output_type": "execute_result"
    }
   ],
   "source": [
    "Sigma_port"
   ]
  },
  {
   "cell_type": "markdown",
   "metadata": {
    "collapsed": true
   },
   "source": [
    "### VAR"
   ]
  },
  {
   "cell_type": "code",
   "execution_count": 57,
   "metadata": {
    "collapsed": true
   },
   "outputs": [],
   "source": [
    "alpha=0.05"
   ]
  },
  {
   "cell_type": "code",
   "execution_count": 58,
   "metadata": {},
   "outputs": [
    {
     "data": {
      "text/plain": [
       "ln_ret_RTS_03    0.171388\n",
       "ln_ret_RTS_06    0.159615\n",
       "ln_spread        0.016518\n",
       "dtype: float64"
      ]
     },
     "execution_count": 58,
     "metadata": {},
     "output_type": "execute_result"
    }
   ],
   "source": [
    "vector_means-stats.norm.ppf(alpha)*vector_std*np.sqrt(days)"
   ]
  },
  {
   "cell_type": "markdown",
   "metadata": {
    "collapsed": true
   },
   "source": [
    "### Sharpe ratio "
   ]
  },
  {
   "cell_type": "markdown",
   "metadata": {},
   "source": [
    "### Использование Sharpe ratio для оценки фьючерсных позиций (и вообще позиций с плечом) не так очевидно, как в случае с обычными активами. По этой причине возьмем данный показатель только в качестве некоторого индикатива. Т.к мы рассматриваем короткий период времени, пренебрежем безрисковой ставкой "
   ]
  },
  {
   "cell_type": "code",
   "execution_count": 59,
   "metadata": {},
   "outputs": [
    {
     "data": {
      "text/plain": [
       "ln_ret_RTS_03    2.488130\n",
       "ln_ret_RTS_06    2.738012\n",
       "ln_spread        0.436765\n",
       "dtype: float64"
      ]
     },
     "execution_count": 59,
     "metadata": {},
     "output_type": "execute_result"
    }
   ],
   "source": [
    "vector_means/(vector_std*np.sqrt(days))"
   ]
  },
  {
   "cell_type": "markdown",
   "metadata": {},
   "source": [
    "### Выводы:\n",
    "### 1. С точки зрения соотношения риска и доходности, открытая позияция выглядит более привлекательной\n",
    "### 2. Если принимать во внимание только риск, стратегия спрэда существенно менее рискованная\n",
    "### 3. Стратегия спрэда больше подходит для рынка с боковым трендом (отсутствие ярко выраженной динамики)"
   ]
  },
  {
   "cell_type": "code",
   "execution_count": null,
   "metadata": {
    "collapsed": true
   },
   "outputs": [],
   "source": [
    "## Задание"
   ]
  },
  {
   "cell_type": "code",
   "execution_count": null,
   "metadata": {
    "collapsed": true
   },
   "outputs": [],
   "source": [
    "### 1. Выбрать фьючерс и загрузить котировки  контрактов с двум соседними датам исполнения, также загрузить информацию по базовому активу\n",
    "### 2. Провести визуальный анализ динамики движения контрактов и базового актива (период 3 месяца)\n",
    "### 3. Для периода в один торговый месяц определить направление спрэда\n",
    "### 4. Провести сравнительный анализ открытой позиции и стратегии спрэда\n",
    "### 5. Сделать выводы"
   ]
  },
  {
   "cell_type": "code",
   "execution_count": null,
   "metadata": {
    "collapsed": true
   },
   "outputs": [],
   "source": []
  }
 ],
 "metadata": {
  "kernelspec": {
   "display_name": "Python 2",
   "language": "python",
   "name": "python2"
  },
  "language_info": {
   "codemirror_mode": {
    "name": "ipython",
    "version": 2
   },
   "file_extension": ".py",
   "mimetype": "text/x-python",
   "name": "python",
   "nbconvert_exporter": "python",
   "pygments_lexer": "ipython2",
   "version": "2.7.15"
  }
 },
 "nbformat": 4,
 "nbformat_minor": 2
}
