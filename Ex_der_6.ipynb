{
 "cells": [
  {
   "cell_type": "markdown",
   "metadata": {
    "collapsed": true
   },
   "source": [
    "# Задание 6. Изучение свойств опционов"
   ]
  },
  {
   "cell_type": "markdown",
   "metadata": {
    "collapsed": true
   },
   "source": [
    "## Цель задания:\n",
    "### 1. Получить навык работы с биржевой информацией CBOE \n",
    "### 2. Изучить свойства моделей CRR и BSM\n",
    "### 3. Построить простые опционные стратегии\n",
    "### 4. Сравнить теоретические и рыночные цены опционов\n",
    "### 5. Изучить показатель чувствительности дельта и построить реплицированный портфель\n",
    "### 6. Изучить показатель чувствительности вега и рассчитать подразумеваемую волатильность\n",
    "\n",
    "### В прилагаемом файле содержится информация об опционах на акции трех американских компаний - Apple, Microsoft и Exxon Mobile"
   ]
  },
  {
   "cell_type": "markdown",
   "metadata": {},
   "source": [
    "### Рекомендуемая литература:\n",
    "### 1.Y.Hilpish \"Derivatives Analytics with Python\"\n",
    "### 2.Y.Hilpish  \"Python for Finance\"\n",
    "### 3.J.M. Weiming \"Mastering Python for Finance\""
   ]
  },
  {
   "cell_type": "markdown",
   "metadata": {
    "collapsed": true
   },
   "source": [
    "## 1. Загрузка библиотек"
   ]
  },
  {
   "cell_type": "code",
   "execution_count": 1,
   "metadata": {
    "collapsed": true
   },
   "outputs": [],
   "source": [
    "import numpy as np\n",
    "import pandas as pd\n",
    "from scipy import stats"
   ]
  },
  {
   "cell_type": "code",
   "execution_count": 2,
   "metadata": {
    "collapsed": true
   },
   "outputs": [],
   "source": [
    "from datetime import datetime,timedelta"
   ]
  },
  {
   "cell_type": "code",
   "execution_count": 3,
   "metadata": {
    "collapsed": true
   },
   "outputs": [],
   "source": [
    "from __future__ import division"
   ]
  },
  {
   "cell_type": "code",
   "execution_count": 4,
   "metadata": {
    "collapsed": true
   },
   "outputs": [],
   "source": [
    "import networkx as nx # библиотеке визуализации графов"
   ]
  },
  {
   "cell_type": "code",
   "execution_count": 5,
   "metadata": {
    "collapsed": true
   },
   "outputs": [],
   "source": [
    "import matplotlib.pyplot as plt # графическая библиотека\n",
    "%matplotlib inline "
   ]
  },
  {
   "cell_type": "markdown",
   "metadata": {
    "collapsed": true
   },
   "source": [
    "## 2. Загрузка и подготовка данных"
   ]
  },
  {
   "cell_type": "code",
   "execution_count": 6,
   "metadata": {
    "collapsed": true
   },
   "outputs": [],
   "source": [
    "path='/home/maxime/Documentos/Derivatives/'"
   ]
  },
  {
   "cell_type": "markdown",
   "metadata": {},
   "source": [
    "### Данные по опционам"
   ]
  },
  {
   "cell_type": "code",
   "execution_count": 7,
   "metadata": {
    "collapsed": true
   },
   "outputs": [],
   "source": [
    "cboe_options=pd.read_csv(path+'UnderlyingOptionsEODCalcs_2019-02-04.csv',parse_dates=True)"
   ]
  },
  {
   "cell_type": "code",
   "execution_count": 8,
   "metadata": {},
   "outputs": [
    {
     "data": {
      "text/plain": [
       "Index([u'underlying_symbol', u'quote_date', u'root', u'expiration', u'strike',\n",
       "       u'option_type', u'open', u'high', u'low', u'close', u'trade_volume',\n",
       "       u'bid_size_1545', u'bid_1545', u'ask_size_1545', u'ask_1545',\n",
       "       u'underlying_bid_1545', u'underlying_ask_1545',\n",
       "       u'implied_underlying_price_1545', u'active_underlying_price_1545',\n",
       "       u'implied_volatility_1545', u'delta_1545', u'gamma_1545', u'theta_1545',\n",
       "       u'vega_1545', u'rho_1545', u'bid_size_eod', u'bid_eod', u'ask_size_eod',\n",
       "       u'ask_eod', u'underlying_bid_eod', u'underlying_ask_eod', u'vwap',\n",
       "       u'open_interest', u'delivery_code'],\n",
       "      dtype='object')"
      ]
     },
     "execution_count": 8,
     "metadata": {},
     "output_type": "execute_result"
    }
   ],
   "source": [
    "cboe_options.columns"
   ]
  },
  {
   "cell_type": "code",
   "execution_count": 9,
   "metadata": {},
   "outputs": [
    {
     "data": {
      "text/html": [
       "<div>\n",
       "<style scoped>\n",
       "    .dataframe tbody tr th:only-of-type {\n",
       "        vertical-align: middle;\n",
       "    }\n",
       "\n",
       "    .dataframe tbody tr th {\n",
       "        vertical-align: top;\n",
       "    }\n",
       "\n",
       "    .dataframe thead th {\n",
       "        text-align: right;\n",
       "    }\n",
       "</style>\n",
       "<table border=\"1\" class=\"dataframe\">\n",
       "  <thead>\n",
       "    <tr style=\"text-align: right;\">\n",
       "      <th></th>\n",
       "      <th>underlying_symbol</th>\n",
       "      <th>quote_date</th>\n",
       "      <th>root</th>\n",
       "      <th>expiration</th>\n",
       "      <th>strike</th>\n",
       "      <th>option_type</th>\n",
       "      <th>open</th>\n",
       "      <th>high</th>\n",
       "      <th>low</th>\n",
       "      <th>close</th>\n",
       "      <th>...</th>\n",
       "      <th>rho_1545</th>\n",
       "      <th>bid_size_eod</th>\n",
       "      <th>bid_eod</th>\n",
       "      <th>ask_size_eod</th>\n",
       "      <th>ask_eod</th>\n",
       "      <th>underlying_bid_eod</th>\n",
       "      <th>underlying_ask_eod</th>\n",
       "      <th>vwap</th>\n",
       "      <th>open_interest</th>\n",
       "      <th>delivery_code</th>\n",
       "    </tr>\n",
       "  </thead>\n",
       "  <tbody>\n",
       "    <tr>\n",
       "      <th>0</th>\n",
       "      <td>AAPL</td>\n",
       "      <td>2019-02-04</td>\n",
       "      <td>AAPL</td>\n",
       "      <td>2019-02-08</td>\n",
       "      <td>100.0</td>\n",
       "      <td>C</td>\n",
       "      <td>0.0</td>\n",
       "      <td>0.0</td>\n",
       "      <td>0.0</td>\n",
       "      <td>0.0</td>\n",
       "      <td>...</td>\n",
       "      <td>0.9958</td>\n",
       "      <td>15</td>\n",
       "      <td>71.05</td>\n",
       "      <td>42</td>\n",
       "      <td>71.40</td>\n",
       "      <td>171.26</td>\n",
       "      <td>171.27</td>\n",
       "      <td>0.0</td>\n",
       "      <td>12</td>\n",
       "      <td>NaN</td>\n",
       "    </tr>\n",
       "    <tr>\n",
       "      <th>1</th>\n",
       "      <td>AAPL</td>\n",
       "      <td>2019-02-04</td>\n",
       "      <td>AAPL</td>\n",
       "      <td>2019-02-08</td>\n",
       "      <td>100.0</td>\n",
       "      <td>P</td>\n",
       "      <td>0.0</td>\n",
       "      <td>0.0</td>\n",
       "      <td>0.0</td>\n",
       "      <td>0.0</td>\n",
       "      <td>...</td>\n",
       "      <td>-0.0012</td>\n",
       "      <td>0</td>\n",
       "      <td>0.00</td>\n",
       "      <td>102</td>\n",
       "      <td>0.01</td>\n",
       "      <td>171.26</td>\n",
       "      <td>171.27</td>\n",
       "      <td>0.0</td>\n",
       "      <td>464</td>\n",
       "      <td>NaN</td>\n",
       "    </tr>\n",
       "    <tr>\n",
       "      <th>2</th>\n",
       "      <td>AAPL</td>\n",
       "      <td>2019-02-04</td>\n",
       "      <td>AAPL</td>\n",
       "      <td>2019-02-08</td>\n",
       "      <td>105.0</td>\n",
       "      <td>C</td>\n",
       "      <td>0.0</td>\n",
       "      <td>0.0</td>\n",
       "      <td>0.0</td>\n",
       "      <td>0.0</td>\n",
       "      <td>...</td>\n",
       "      <td>1.0550</td>\n",
       "      <td>15</td>\n",
       "      <td>66.05</td>\n",
       "      <td>138</td>\n",
       "      <td>66.50</td>\n",
       "      <td>171.26</td>\n",
       "      <td>171.27</td>\n",
       "      <td>0.0</td>\n",
       "      <td>10</td>\n",
       "      <td>NaN</td>\n",
       "    </tr>\n",
       "    <tr>\n",
       "      <th>3</th>\n",
       "      <td>AAPL</td>\n",
       "      <td>2019-02-04</td>\n",
       "      <td>AAPL</td>\n",
       "      <td>2019-02-08</td>\n",
       "      <td>105.0</td>\n",
       "      <td>P</td>\n",
       "      <td>0.0</td>\n",
       "      <td>0.0</td>\n",
       "      <td>0.0</td>\n",
       "      <td>0.0</td>\n",
       "      <td>...</td>\n",
       "      <td>-0.0013</td>\n",
       "      <td>0</td>\n",
       "      <td>0.00</td>\n",
       "      <td>92</td>\n",
       "      <td>0.01</td>\n",
       "      <td>171.26</td>\n",
       "      <td>171.27</td>\n",
       "      <td>0.0</td>\n",
       "      <td>115</td>\n",
       "      <td>NaN</td>\n",
       "    </tr>\n",
       "    <tr>\n",
       "      <th>4</th>\n",
       "      <td>AAPL</td>\n",
       "      <td>2019-02-04</td>\n",
       "      <td>AAPL</td>\n",
       "      <td>2019-02-08</td>\n",
       "      <td>110.0</td>\n",
       "      <td>C</td>\n",
       "      <td>0.0</td>\n",
       "      <td>0.0</td>\n",
       "      <td>0.0</td>\n",
       "      <td>0.0</td>\n",
       "      <td>...</td>\n",
       "      <td>1.1147</td>\n",
       "      <td>10</td>\n",
       "      <td>61.10</td>\n",
       "      <td>131</td>\n",
       "      <td>61.50</td>\n",
       "      <td>171.26</td>\n",
       "      <td>171.27</td>\n",
       "      <td>0.0</td>\n",
       "      <td>4</td>\n",
       "      <td>NaN</td>\n",
       "    </tr>\n",
       "  </tbody>\n",
       "</table>\n",
       "<p>5 rows × 34 columns</p>\n",
       "</div>"
      ],
      "text/plain": [
       "  underlying_symbol  quote_date  root  expiration  strike option_type  open  \\\n",
       "0              AAPL  2019-02-04  AAPL  2019-02-08   100.0           C   0.0   \n",
       "1              AAPL  2019-02-04  AAPL  2019-02-08   100.0           P   0.0   \n",
       "2              AAPL  2019-02-04  AAPL  2019-02-08   105.0           C   0.0   \n",
       "3              AAPL  2019-02-04  AAPL  2019-02-08   105.0           P   0.0   \n",
       "4              AAPL  2019-02-04  AAPL  2019-02-08   110.0           C   0.0   \n",
       "\n",
       "   high  low  close      ...        rho_1545  bid_size_eod  bid_eod  \\\n",
       "0   0.0  0.0    0.0      ...          0.9958            15    71.05   \n",
       "1   0.0  0.0    0.0      ...         -0.0012             0     0.00   \n",
       "2   0.0  0.0    0.0      ...          1.0550            15    66.05   \n",
       "3   0.0  0.0    0.0      ...         -0.0013             0     0.00   \n",
       "4   0.0  0.0    0.0      ...          1.1147            10    61.10   \n",
       "\n",
       "   ask_size_eod  ask_eod  underlying_bid_eod  underlying_ask_eod  vwap  \\\n",
       "0            42    71.40              171.26              171.27   0.0   \n",
       "1           102     0.01              171.26              171.27   0.0   \n",
       "2           138    66.50              171.26              171.27   0.0   \n",
       "3            92     0.01              171.26              171.27   0.0   \n",
       "4           131    61.50              171.26              171.27   0.0   \n",
       "\n",
       "   open_interest  delivery_code  \n",
       "0             12            NaN  \n",
       "1            464            NaN  \n",
       "2             10            NaN  \n",
       "3            115            NaN  \n",
       "4              4            NaN  \n",
       "\n",
       "[5 rows x 34 columns]"
      ]
     },
     "execution_count": 9,
     "metadata": {},
     "output_type": "execute_result"
    }
   ],
   "source": [
    "cboe_options.head()"
   ]
  },
  {
   "cell_type": "code",
   "execution_count": 10,
   "metadata": {},
   "outputs": [
    {
     "data": {
      "text/plain": [
       "underlying_symbol                 object\n",
       "quote_date                        object\n",
       "root                              object\n",
       "expiration                        object\n",
       "strike                           float64\n",
       "option_type                       object\n",
       "open                             float64\n",
       "high                             float64\n",
       "low                              float64\n",
       "close                            float64\n",
       "trade_volume                       int64\n",
       "bid_size_1545                      int64\n",
       "bid_1545                         float64\n",
       "ask_size_1545                      int64\n",
       "ask_1545                         float64\n",
       "underlying_bid_1545              float64\n",
       "underlying_ask_1545              float64\n",
       "implied_underlying_price_1545    float64\n",
       "active_underlying_price_1545     float64\n",
       "implied_volatility_1545          float64\n",
       "delta_1545                       float64\n",
       "gamma_1545                       float64\n",
       "theta_1545                       float64\n",
       "vega_1545                        float64\n",
       "rho_1545                         float64\n",
       "bid_size_eod                       int64\n",
       "bid_eod                          float64\n",
       "ask_size_eod                       int64\n",
       "ask_eod                          float64\n",
       "underlying_bid_eod               float64\n",
       "underlying_ask_eod               float64\n",
       "vwap                             float64\n",
       "open_interest                      int64\n",
       "delivery_code                    float64\n",
       "dtype: object"
      ]
     },
     "execution_count": 10,
     "metadata": {},
     "output_type": "execute_result"
    }
   ],
   "source": [
    "cboe_options.dtypes"
   ]
  },
  {
   "cell_type": "code",
   "execution_count": 11,
   "metadata": {
    "collapsed": true
   },
   "outputs": [],
   "source": [
    "cboe_options['expiration']=cboe_options['expiration'].apply(lambda x:datetime.strptime(x, '%Y-%m-%d')) \n",
    "### преобразование поля даты в необходимый формат"
   ]
  },
  {
   "cell_type": "code",
   "execution_count": 12,
   "metadata": {
    "collapsed": true
   },
   "outputs": [],
   "source": [
    "cboe_options['quote_date']=cboe_options['quote_date'].apply(lambda x:datetime.strptime(x, '%Y-%m-%d')) "
   ]
  },
  {
   "cell_type": "markdown",
   "metadata": {},
   "source": [
    "### Базовый актив"
   ]
  },
  {
   "cell_type": "code",
   "execution_count": 13,
   "metadata": {
    "collapsed": true
   },
   "outputs": [],
   "source": [
    "msft=pd.read_csv(path+'MSFT.csv')"
   ]
  },
  {
   "cell_type": "code",
   "execution_count": 14,
   "metadata": {},
   "outputs": [
    {
     "data": {
      "text/html": [
       "<div>\n",
       "<style scoped>\n",
       "    .dataframe tbody tr th:only-of-type {\n",
       "        vertical-align: middle;\n",
       "    }\n",
       "\n",
       "    .dataframe tbody tr th {\n",
       "        vertical-align: top;\n",
       "    }\n",
       "\n",
       "    .dataframe thead th {\n",
       "        text-align: right;\n",
       "    }\n",
       "</style>\n",
       "<table border=\"1\" class=\"dataframe\">\n",
       "  <thead>\n",
       "    <tr style=\"text-align: right;\">\n",
       "      <th></th>\n",
       "      <th>Date</th>\n",
       "      <th>Open</th>\n",
       "      <th>High</th>\n",
       "      <th>Low</th>\n",
       "      <th>Close</th>\n",
       "      <th>Adj Close</th>\n",
       "      <th>Volume</th>\n",
       "    </tr>\n",
       "  </thead>\n",
       "  <tbody>\n",
       "    <tr>\n",
       "      <th>0</th>\n",
       "      <td>2019-01-31</td>\n",
       "      <td>103.800003</td>\n",
       "      <td>105.220001</td>\n",
       "      <td>103.180000</td>\n",
       "      <td>104.430000</td>\n",
       "      <td>104.430000</td>\n",
       "      <td>55636400</td>\n",
       "    </tr>\n",
       "    <tr>\n",
       "      <th>1</th>\n",
       "      <td>2019-02-01</td>\n",
       "      <td>103.779999</td>\n",
       "      <td>104.099998</td>\n",
       "      <td>102.349998</td>\n",
       "      <td>102.779999</td>\n",
       "      <td>102.779999</td>\n",
       "      <td>35535700</td>\n",
       "    </tr>\n",
       "    <tr>\n",
       "      <th>2</th>\n",
       "      <td>2019-02-04</td>\n",
       "      <td>102.870003</td>\n",
       "      <td>105.800003</td>\n",
       "      <td>102.769997</td>\n",
       "      <td>105.739998</td>\n",
       "      <td>105.739998</td>\n",
       "      <td>31315100</td>\n",
       "    </tr>\n",
       "    <tr>\n",
       "      <th>3</th>\n",
       "      <td>2019-02-05</td>\n",
       "      <td>106.059998</td>\n",
       "      <td>107.269997</td>\n",
       "      <td>105.959999</td>\n",
       "      <td>107.220001</td>\n",
       "      <td>107.220001</td>\n",
       "      <td>27303200</td>\n",
       "    </tr>\n",
       "  </tbody>\n",
       "</table>\n",
       "</div>"
      ],
      "text/plain": [
       "         Date        Open        High         Low       Close   Adj Close  \\\n",
       "0  2019-01-31  103.800003  105.220001  103.180000  104.430000  104.430000   \n",
       "1  2019-02-01  103.779999  104.099998  102.349998  102.779999  102.779999   \n",
       "2  2019-02-04  102.870003  105.800003  102.769997  105.739998  105.739998   \n",
       "3  2019-02-05  106.059998  107.269997  105.959999  107.220001  107.220001   \n",
       "\n",
       "     Volume  \n",
       "0  55636400  \n",
       "1  35535700  \n",
       "2  31315100  \n",
       "3  27303200  "
      ]
     },
     "execution_count": 14,
     "metadata": {},
     "output_type": "execute_result"
    }
   ],
   "source": [
    "msft"
   ]
  },
  {
   "cell_type": "code",
   "execution_count": 15,
   "metadata": {},
   "outputs": [
    {
     "data": {
      "text/plain": [
       "Date          object\n",
       "Open         float64\n",
       "High         float64\n",
       "Low          float64\n",
       "Close        float64\n",
       "Adj Close    float64\n",
       "Volume         int64\n",
       "dtype: object"
      ]
     },
     "execution_count": 15,
     "metadata": {},
     "output_type": "execute_result"
    }
   ],
   "source": [
    "msft.dtypes"
   ]
  },
  {
   "cell_type": "code",
   "execution_count": 16,
   "metadata": {
    "collapsed": true
   },
   "outputs": [],
   "source": [
    "msft['Date']=msft['Date'].apply(lambda x:datetime.strptime(x, '%Y-%m-%d')) "
   ]
  },
  {
   "cell_type": "markdown",
   "metadata": {
    "collapsed": true
   },
   "source": [
    "## 3. Выбор опционов для анализа "
   ]
  },
  {
   "cell_type": "code",
   "execution_count": 17,
   "metadata": {
    "collapsed": true
   },
   "outputs": [],
   "source": [
    "date='2019-02-04'# дата расчетов"
   ]
  },
  {
   "cell_type": "code",
   "execution_count": 18,
   "metadata": {},
   "outputs": [
    {
     "data": {
      "text/plain": [
       "datetime.datetime(2019, 2, 4, 0, 0)"
      ]
     },
     "execution_count": 18,
     "metadata": {},
     "output_type": "execute_result"
    }
   ],
   "source": [
    "quote_date=datetime.strptime(date, '%Y-%m-%d')# дата расчетов\n",
    "quote_date"
   ]
  },
  {
   "cell_type": "code",
   "execution_count": 19,
   "metadata": {
    "collapsed": true
   },
   "outputs": [],
   "source": [
    "expiration_date='2019-02-15'# дата экспирации"
   ]
  },
  {
   "cell_type": "code",
   "execution_count": 20,
   "metadata": {
    "collapsed": true
   },
   "outputs": [],
   "source": [
    "expiration_date=datetime.strptime(expiration_date,'%Y-%m-%d')"
   ]
  },
  {
   "cell_type": "code",
   "execution_count": 21,
   "metadata": {},
   "outputs": [
    {
     "name": "stdout",
     "output_type": "stream",
     "text": [
      "105.739998\n"
     ]
    }
   ],
   "source": [
    "# цена спот в дату расчета\n",
    "S_0=float(msft[msft.Date==quote_date]['Close'])\n",
    "print(S_0)"
   ]
  },
  {
   "cell_type": "code",
   "execution_count": 22,
   "metadata": {
    "collapsed": true
   },
   "outputs": [],
   "source": [
    "# количество дней до экспирации\n",
    "days=(expiration_date-quote_date).days\n",
    "T=days/250"
   ]
  },
  {
   "cell_type": "code",
   "execution_count": 23,
   "metadata": {
    "collapsed": true
   },
   "outputs": [],
   "source": [
    "div_y=0.0172 # непрерывная дивидендная ставка (можно взять с сайта yahoo)"
   ]
  },
  {
   "cell_type": "code",
   "execution_count": 24,
   "metadata": {
    "collapsed": true
   },
   "outputs": [],
   "source": [
    "# полный набор страйков\n",
    "strikes=np.array(cboe_options[(cboe_options.quote_date==quote_date)&(cboe_options.underlying_symbol=='MSFT')\\\n",
    "             &(cboe_options.expiration==expiration_date)]['strike'].unique())"
   ]
  },
  {
   "cell_type": "code",
   "execution_count": 25,
   "metadata": {},
   "outputs": [
    {
     "data": {
      "text/plain": [
       "array([  50. ,   55. ,   60. ,   65. ,   70. ,   75. ,   75.5,   76. ,\n",
       "         76.5,   77. ,   77.5,   78. ,   78.5,   79. ,   79.5,   80. ,\n",
       "         80.5,   81. ,   81.5,   82. ,   82.5,   83. ,   83.5,   84. ,\n",
       "         84.5,   85. ,   85.5,   86. ,   86.5,   87. ,   87.5,   88. ,\n",
       "         88.5,   89. ,   89.5,   90. ,   90.5,   91. ,   91.5,   92. ,\n",
       "         92.5,   93. ,   94. ,   95. ,   96. ,   97. ,   97.5,   98. ,\n",
       "         99. ,   99.5,  100. ,  101. ,  102. ,  103. ,  104. ,  105. ,\n",
       "        106. ,  107. ,  108. ,  109. ,  110. ,  111. ,  112. ,  113. ,\n",
       "        114. ,  115. ,  116. ,  117. ,  118. ,  119. ,  120. ,  125. ,\n",
       "        130. ,  135. ,  140. ,  145. ,  150. ])"
      ]
     },
     "execution_count": 25,
     "metadata": {},
     "output_type": "execute_result"
    }
   ],
   "source": [
    "strikes"
   ]
  },
  {
   "cell_type": "code",
   "execution_count": 26,
   "metadata": {},
   "outputs": [
    {
     "data": {
      "text/plain": [
       "56"
      ]
     },
     "execution_count": 26,
     "metadata": {},
     "output_type": "execute_result"
    }
   ],
   "source": [
    "# страйк ATM \n",
    "index_ATM=np.argmin(np.abs(strikes-S_0))\n",
    "index_ATM"
   ]
  },
  {
   "cell_type": "code",
   "execution_count": 27,
   "metadata": {
    "collapsed": true
   },
   "outputs": [],
   "source": [
    "# вспомогательный индекс для построения списка страйков\n",
    "strike_range_index=5"
   ]
  },
  {
   "cell_type": "code",
   "execution_count": 28,
   "metadata": {},
   "outputs": [
    {
     "name": "stdout",
     "output_type": "stream",
     "text": [
      "(51, 61)\n"
     ]
    }
   ],
   "source": [
    "# максимальный и минимальный индексы для  списка страйков\n",
    "index_min=max(0,index_ATM-strike_range_index)\n",
    "index_max=min(len(strikes)-1,index_ATM+strike_range_index)\n",
    "print(index_min,index_max)"
   ]
  },
  {
   "cell_type": "code",
   "execution_count": 29,
   "metadata": {},
   "outputs": [
    {
     "data": {
      "text/plain": [
       "110.0"
      ]
     },
     "execution_count": 29,
     "metadata": {},
     "output_type": "execute_result"
    }
   ],
   "source": [
    "# создание списка страйков\n",
    "strikes_range=strikes[index_min:index_max]\n",
    "max(strikes_range)"
   ]
  },
  {
   "cell_type": "code",
   "execution_count": 30,
   "metadata": {
    "collapsed": true
   },
   "outputs": [],
   "source": [
    "# массив данных по выбранным опционам колл\n",
    "cboe_MSFT_call=cboe_options[(cboe_options.quote_date==quote_date)&(cboe_options.underlying_symbol=='MSFT')\\\n",
    "&(cboe_options.option_type=='C')&(cboe_options.expiration==expiration_date)\\\n",
    "&(cboe_options.strike<=max(strikes_range))&(cboe_options.strike>=\\\n",
    "min(strikes_range))][['strike','high','low','close','delta_1545','gamma_1545','vega_1545','implied_volatility_1545']]"
   ]
  },
  {
   "cell_type": "code",
   "execution_count": 31,
   "metadata": {},
   "outputs": [
    {
     "data": {
      "text/html": [
       "<div>\n",
       "<style scoped>\n",
       "    .dataframe tbody tr th:only-of-type {\n",
       "        vertical-align: middle;\n",
       "    }\n",
       "\n",
       "    .dataframe tbody tr th {\n",
       "        vertical-align: top;\n",
       "    }\n",
       "\n",
       "    .dataframe thead th {\n",
       "        text-align: right;\n",
       "    }\n",
       "</style>\n",
       "<table border=\"1\" class=\"dataframe\">\n",
       "  <thead>\n",
       "    <tr style=\"text-align: right;\">\n",
       "      <th></th>\n",
       "      <th>strike</th>\n",
       "      <th>high</th>\n",
       "      <th>low</th>\n",
       "      <th>close</th>\n",
       "      <th>delta_1545</th>\n",
       "      <th>gamma_1545</th>\n",
       "      <th>vega_1545</th>\n",
       "      <th>implied_volatility_1545</th>\n",
       "    </tr>\n",
       "  </thead>\n",
       "  <tbody>\n",
       "    <tr>\n",
       "      <th>1654</th>\n",
       "      <td>101.0</td>\n",
       "      <td>5.00</td>\n",
       "      <td>3.85</td>\n",
       "      <td>4.95</td>\n",
       "      <td>0.8507</td>\n",
       "      <td>0.0521</td>\n",
       "      <td>0.0426</td>\n",
       "      <td>0.2437</td>\n",
       "    </tr>\n",
       "    <tr>\n",
       "      <th>1656</th>\n",
       "      <td>102.0</td>\n",
       "      <td>4.25</td>\n",
       "      <td>2.44</td>\n",
       "      <td>4.25</td>\n",
       "      <td>0.7973</td>\n",
       "      <td>0.0653</td>\n",
       "      <td>0.0517</td>\n",
       "      <td>0.2359</td>\n",
       "    </tr>\n",
       "    <tr>\n",
       "      <th>1658</th>\n",
       "      <td>103.0</td>\n",
       "      <td>3.40</td>\n",
       "      <td>1.85</td>\n",
       "      <td>3.30</td>\n",
       "      <td>0.7307</td>\n",
       "      <td>0.0793</td>\n",
       "      <td>0.0605</td>\n",
       "      <td>0.2274</td>\n",
       "    </tr>\n",
       "    <tr>\n",
       "      <th>1660</th>\n",
       "      <td>104.0</td>\n",
       "      <td>2.67</td>\n",
       "      <td>1.25</td>\n",
       "      <td>2.55</td>\n",
       "      <td>0.6500</td>\n",
       "      <td>0.0929</td>\n",
       "      <td>0.0679</td>\n",
       "      <td>0.2177</td>\n",
       "    </tr>\n",
       "    <tr>\n",
       "      <th>1662</th>\n",
       "      <td>105.0</td>\n",
       "      <td>2.04</td>\n",
       "      <td>0.61</td>\n",
       "      <td>2.02</td>\n",
       "      <td>0.5538</td>\n",
       "      <td>0.1023</td>\n",
       "      <td>0.0724</td>\n",
       "      <td>0.2110</td>\n",
       "    </tr>\n",
       "    <tr>\n",
       "      <th>1664</th>\n",
       "      <td>106.0</td>\n",
       "      <td>1.48</td>\n",
       "      <td>0.60</td>\n",
       "      <td>1.39</td>\n",
       "      <td>0.4490</td>\n",
       "      <td>0.1056</td>\n",
       "      <td>0.0725</td>\n",
       "      <td>0.2045</td>\n",
       "    </tr>\n",
       "    <tr>\n",
       "      <th>1666</th>\n",
       "      <td>107.0</td>\n",
       "      <td>1.01</td>\n",
       "      <td>0.39</td>\n",
       "      <td>0.92</td>\n",
       "      <td>0.3438</td>\n",
       "      <td>0.1005</td>\n",
       "      <td>0.0674</td>\n",
       "      <td>0.1998</td>\n",
       "    </tr>\n",
       "    <tr>\n",
       "      <th>1668</th>\n",
       "      <td>108.0</td>\n",
       "      <td>0.66</td>\n",
       "      <td>0.29</td>\n",
       "      <td>0.59</td>\n",
       "      <td>0.2464</td>\n",
       "      <td>0.0881</td>\n",
       "      <td>0.0578</td>\n",
       "      <td>0.1954</td>\n",
       "    </tr>\n",
       "    <tr>\n",
       "      <th>1670</th>\n",
       "      <td>109.0</td>\n",
       "      <td>0.40</td>\n",
       "      <td>0.18</td>\n",
       "      <td>0.38</td>\n",
       "      <td>0.1669</td>\n",
       "      <td>0.0705</td>\n",
       "      <td>0.0458</td>\n",
       "      <td>0.1936</td>\n",
       "    </tr>\n",
       "    <tr>\n",
       "      <th>1672</th>\n",
       "      <td>110.0</td>\n",
       "      <td>0.30</td>\n",
       "      <td>0.09</td>\n",
       "      <td>0.20</td>\n",
       "      <td>0.1056</td>\n",
       "      <td>0.0520</td>\n",
       "      <td>0.0334</td>\n",
       "      <td>0.1917</td>\n",
       "    </tr>\n",
       "  </tbody>\n",
       "</table>\n",
       "</div>"
      ],
      "text/plain": [
       "      strike  high   low  close  delta_1545  gamma_1545  vega_1545  \\\n",
       "1654   101.0  5.00  3.85   4.95      0.8507      0.0521     0.0426   \n",
       "1656   102.0  4.25  2.44   4.25      0.7973      0.0653     0.0517   \n",
       "1658   103.0  3.40  1.85   3.30      0.7307      0.0793     0.0605   \n",
       "1660   104.0  2.67  1.25   2.55      0.6500      0.0929     0.0679   \n",
       "1662   105.0  2.04  0.61   2.02      0.5538      0.1023     0.0724   \n",
       "1664   106.0  1.48  0.60   1.39      0.4490      0.1056     0.0725   \n",
       "1666   107.0  1.01  0.39   0.92      0.3438      0.1005     0.0674   \n",
       "1668   108.0  0.66  0.29   0.59      0.2464      0.0881     0.0578   \n",
       "1670   109.0  0.40  0.18   0.38      0.1669      0.0705     0.0458   \n",
       "1672   110.0  0.30  0.09   0.20      0.1056      0.0520     0.0334   \n",
       "\n",
       "      implied_volatility_1545  \n",
       "1654                   0.2437  \n",
       "1656                   0.2359  \n",
       "1658                   0.2274  \n",
       "1660                   0.2177  \n",
       "1662                   0.2110  \n",
       "1664                   0.2045  \n",
       "1666                   0.1998  \n",
       "1668                   0.1954  \n",
       "1670                   0.1936  \n",
       "1672                   0.1917  "
      ]
     },
     "execution_count": 31,
     "metadata": {},
     "output_type": "execute_result"
    }
   ],
   "source": [
    "cboe_MSFT_call"
   ]
  },
  {
   "cell_type": "code",
   "execution_count": 32,
   "metadata": {
    "collapsed": true
   },
   "outputs": [],
   "source": [
    "# массив данных по выбранным опционам пут\n",
    "cboe_MSFT_put=cboe_options[(cboe_options.quote_date==quote_date)&(cboe_options.underlying_symbol=='MSFT')\\\n",
    "&(cboe_options.option_type=='P')&(cboe_options.expiration==expiration_date)\\\n",
    "&(cboe_options.strike<=max(strikes_range))&(cboe_options.strike>=\\\n",
    "min(strikes_range))][['strike','high','low','close','delta_1545','gamma_1545','vega_1545','implied_volatility_1545']]"
   ]
  },
  {
   "cell_type": "code",
   "execution_count": 33,
   "metadata": {},
   "outputs": [
    {
     "data": {
      "text/html": [
       "<div>\n",
       "<style scoped>\n",
       "    .dataframe tbody tr th:only-of-type {\n",
       "        vertical-align: middle;\n",
       "    }\n",
       "\n",
       "    .dataframe tbody tr th {\n",
       "        vertical-align: top;\n",
       "    }\n",
       "\n",
       "    .dataframe thead th {\n",
       "        text-align: right;\n",
       "    }\n",
       "</style>\n",
       "<table border=\"1\" class=\"dataframe\">\n",
       "  <thead>\n",
       "    <tr style=\"text-align: right;\">\n",
       "      <th></th>\n",
       "      <th>strike</th>\n",
       "      <th>high</th>\n",
       "      <th>low</th>\n",
       "      <th>close</th>\n",
       "      <th>delta_1545</th>\n",
       "      <th>gamma_1545</th>\n",
       "      <th>vega_1545</th>\n",
       "      <th>implied_volatility_1545</th>\n",
       "    </tr>\n",
       "  </thead>\n",
       "  <tbody>\n",
       "    <tr>\n",
       "      <th>1655</th>\n",
       "      <td>101.0</td>\n",
       "      <td>0.65</td>\n",
       "      <td>0.30</td>\n",
       "      <td>0.30</td>\n",
       "      <td>-0.1432</td>\n",
       "      <td>0.0520</td>\n",
       "      <td>0.0414</td>\n",
       "      <td>0.2374</td>\n",
       "    </tr>\n",
       "    <tr>\n",
       "      <th>1657</th>\n",
       "      <td>102.0</td>\n",
       "      <td>1.12</td>\n",
       "      <td>0.40</td>\n",
       "      <td>0.40</td>\n",
       "      <td>-0.1960</td>\n",
       "      <td>0.0659</td>\n",
       "      <td>0.0507</td>\n",
       "      <td>0.2289</td>\n",
       "    </tr>\n",
       "    <tr>\n",
       "      <th>1659</th>\n",
       "      <td>103.0</td>\n",
       "      <td>1.70</td>\n",
       "      <td>0.57</td>\n",
       "      <td>0.57</td>\n",
       "      <td>-0.2629</td>\n",
       "      <td>0.0810</td>\n",
       "      <td>0.0598</td>\n",
       "      <td>0.2199</td>\n",
       "    </tr>\n",
       "    <tr>\n",
       "      <th>1661</th>\n",
       "      <td>104.0</td>\n",
       "      <td>1.88</td>\n",
       "      <td>0.83</td>\n",
       "      <td>0.83</td>\n",
       "      <td>-0.3474</td>\n",
       "      <td>0.0945</td>\n",
       "      <td>0.0677</td>\n",
       "      <td>0.2133</td>\n",
       "    </tr>\n",
       "    <tr>\n",
       "      <th>1663</th>\n",
       "      <td>105.0</td>\n",
       "      <td>2.83</td>\n",
       "      <td>1.16</td>\n",
       "      <td>1.20</td>\n",
       "      <td>-0.4452</td>\n",
       "      <td>0.1046</td>\n",
       "      <td>0.0724</td>\n",
       "      <td>0.2062</td>\n",
       "    </tr>\n",
       "    <tr>\n",
       "      <th>1665</th>\n",
       "      <td>106.0</td>\n",
       "      <td>3.00</td>\n",
       "      <td>1.60</td>\n",
       "      <td>1.68</td>\n",
       "      <td>-0.5521</td>\n",
       "      <td>0.1074</td>\n",
       "      <td>0.0725</td>\n",
       "      <td>0.2010</td>\n",
       "    </tr>\n",
       "    <tr>\n",
       "      <th>1667</th>\n",
       "      <td>107.0</td>\n",
       "      <td>3.15</td>\n",
       "      <td>2.19</td>\n",
       "      <td>2.23</td>\n",
       "      <td>-0.6582</td>\n",
       "      <td>0.1015</td>\n",
       "      <td>0.0673</td>\n",
       "      <td>0.1974</td>\n",
       "    </tr>\n",
       "    <tr>\n",
       "      <th>1669</th>\n",
       "      <td>108.0</td>\n",
       "      <td>4.60</td>\n",
       "      <td>2.90</td>\n",
       "      <td>2.90</td>\n",
       "      <td>-0.7575</td>\n",
       "      <td>0.0888</td>\n",
       "      <td>0.0573</td>\n",
       "      <td>0.1921</td>\n",
       "    </tr>\n",
       "    <tr>\n",
       "      <th>1671</th>\n",
       "      <td>109.0</td>\n",
       "      <td>3.80</td>\n",
       "      <td>3.80</td>\n",
       "      <td>3.80</td>\n",
       "      <td>-0.8386</td>\n",
       "      <td>0.0705</td>\n",
       "      <td>0.0448</td>\n",
       "      <td>0.1894</td>\n",
       "    </tr>\n",
       "    <tr>\n",
       "      <th>1673</th>\n",
       "      <td>110.0</td>\n",
       "      <td>6.45</td>\n",
       "      <td>4.40</td>\n",
       "      <td>4.49</td>\n",
       "      <td>-0.9115</td>\n",
       "      <td>0.0492</td>\n",
       "      <td>0.0294</td>\n",
       "      <td>0.1779</td>\n",
       "    </tr>\n",
       "  </tbody>\n",
       "</table>\n",
       "</div>"
      ],
      "text/plain": [
       "      strike  high   low  close  delta_1545  gamma_1545  vega_1545  \\\n",
       "1655   101.0  0.65  0.30   0.30     -0.1432      0.0520     0.0414   \n",
       "1657   102.0  1.12  0.40   0.40     -0.1960      0.0659     0.0507   \n",
       "1659   103.0  1.70  0.57   0.57     -0.2629      0.0810     0.0598   \n",
       "1661   104.0  1.88  0.83   0.83     -0.3474      0.0945     0.0677   \n",
       "1663   105.0  2.83  1.16   1.20     -0.4452      0.1046     0.0724   \n",
       "1665   106.0  3.00  1.60   1.68     -0.5521      0.1074     0.0725   \n",
       "1667   107.0  3.15  2.19   2.23     -0.6582      0.1015     0.0673   \n",
       "1669   108.0  4.60  2.90   2.90     -0.7575      0.0888     0.0573   \n",
       "1671   109.0  3.80  3.80   3.80     -0.8386      0.0705     0.0448   \n",
       "1673   110.0  6.45  4.40   4.49     -0.9115      0.0492     0.0294   \n",
       "\n",
       "      implied_volatility_1545  \n",
       "1655                   0.2374  \n",
       "1657                   0.2289  \n",
       "1659                   0.2199  \n",
       "1661                   0.2133  \n",
       "1663                   0.2062  \n",
       "1665                   0.2010  \n",
       "1667                   0.1974  \n",
       "1669                   0.1921  \n",
       "1671                   0.1894  \n",
       "1673                   0.1779  "
      ]
     },
     "execution_count": 33,
     "metadata": {},
     "output_type": "execute_result"
    }
   ],
   "source": [
    "cboe_MSFT_put"
   ]
  },
  {
   "cell_type": "markdown",
   "metadata": {
    "collapsed": true
   },
   "source": [
    "## 4. Модель CRR"
   ]
  },
  {
   "cell_type": "markdown",
   "metadata": {},
   "source": [
    "### Алгоритм  модели биномиального дерева CRR и соответствующие формулы приведены в лекционных материалах. Программная реализация модели осуществляется с помощью создания класса. Класс объединяет методы (функции) и переменные или, иначе, реализует механизм инкапсуляции, являющийся важнейшим элементом объектно-ориентированного программирования."
   ]
  },
  {
   "cell_type": "code",
   "execution_count": 34,
   "metadata": {
    "collapsed": true
   },
   "outputs": [],
   "source": [
    "class CRR:\n",
    "    def __init__(self,S_0,K,r,T,N,sigma,div=0,t=0,is_call=True,is_european=True):\n",
    "        self._S_0=S_0\n",
    "        self._K=K\n",
    "        self._r=r\n",
    "        self._div=div\n",
    "        self._T=T\n",
    "        self._N=N\n",
    "        self._sigma=sigma\n",
    "        self._t=t\n",
    "        self._is_call=is_call  \n",
    "        self._is_european=is_european\n",
    "\n",
    "    def __set_up__(self):\n",
    "        self._dt=T/N\n",
    "        self._df=np.exp(-(self._r-self._div)*self._dt)\n",
    "        self._u=np.exp(self._sigma*np.sqrt(self._dt))\n",
    "        self._d=1/self._u\n",
    "        self._p=(np.exp((self._r-self._div)*self._dt)-self._d)/(self._u-self._d)\n",
    "        self._q=1-self._p\n",
    "    \n",
    "    def __path_gen__(self):\n",
    "            self._S=[np.array([self._S_0])]\n",
    "            for i in range(self._N):\n",
    "                prev=self._S[-1]\n",
    "                st=np.concatenate((prev*self._u,[prev[-1]*self._d]))\n",
    "                self._S.append(st)\n",
    "       \n",
    "    def __initialize_payoffs__(self):\n",
    "            final_state=self._S[N]\n",
    "            return np.maximum(0,(final_state-self._K)) if self._is_call else np.maximum(0,(self._K-final_state))\n",
    "        \n",
    "    def __check_early_ex__(self,i,payoffs):\n",
    "            early_payoffs=(self._S[i]-self._K) if self._is_call else (self._K-self._S[i])\n",
    "            return np.maximum(early_payoffs,payoffs)                                                                \n",
    "        \n",
    "    def __traverse_tree__(self,payoffs):                                        \n",
    "            for i in reversed(range(self._N)):\n",
    "                payoffs=(payoffs[:-1]*self._p+payoffs[1:]*self._q)*self._df\n",
    "                #print(payoffs)\n",
    "                if not self._is_european:\n",
    "                    payoffs=self.__check_early_ex__(i,payoffs)\n",
    "            return payoffs \n",
    "                       \n",
    "    def get_price(self):\n",
    "            self.__set_up__()\n",
    "            self.__path_gen__()                  \n",
    "            payoffs_init=self.__initialize_payoffs__()\n",
    "            payoffs=self.__traverse_tree__(payoffs_init)                 \n",
    "            return payoffs[0] \n",
    "    \n",
    "    def get_path(self):\n",
    "        self.__set_up__()\n",
    "        self.__path_gen__() \n",
    "        return self._S\n",
    "    \n",
    "    def get_prob(self):\n",
    "        self.__set_up__()\n",
    "        return self._p,self._q\n",
    "    \n",
    "    def get_param(self):\n",
    "        self.__set_up__()\n",
    "        return self._u,self._d"
   ]
  },
  {
   "cell_type": "markdown",
   "metadata": {},
   "source": [
    "### Реализация модели CRR "
   ]
  },
  {
   "cell_type": "code",
   "execution_count": 35,
   "metadata": {
    "collapsed": true
   },
   "outputs": [],
   "source": [
    "K=108 # страйк\n",
    "r=0.025 # процентная ставка\n",
    "N=4 # количестов шагов для построения биномиального дерева\n",
    "sigma=0.2# волатильность"
   ]
  },
  {
   "cell_type": "code",
   "execution_count": 36,
   "metadata": {
    "collapsed": true
   },
   "outputs": [],
   "source": [
    "option_call=CRR(S_0,K,r,T,N,sigma,is_call=True,div=div_y,is_european=True)"
   ]
  },
  {
   "cell_type": "code",
   "execution_count": 37,
   "metadata": {},
   "outputs": [
    {
     "data": {
      "text/plain": [
       "0.98610273051703057"
      ]
     },
     "execution_count": 37,
     "metadata": {},
     "output_type": "execute_result"
    }
   ],
   "source": [
    "option_call.get_price()"
   ]
  },
  {
   "cell_type": "code",
   "execution_count": 38,
   "metadata": {
    "collapsed": true
   },
   "outputs": [],
   "source": [
    "S=option_call.get_path()# биномиальное дерево"
   ]
  },
  {
   "cell_type": "code",
   "execution_count": 39,
   "metadata": {},
   "outputs": [
    {
     "data": {
      "text/plain": [
       "[array([ 105.739998]),\n",
       " array([ 107.98144522,  103.54507808]),\n",
       " array([ 110.27040602,  105.739998  ,  101.39571967]),\n",
       " array([ 112.60788758,  107.98144522,  103.54507808,   99.29097701]),\n",
       " array([ 114.99491842,  110.27040602,  105.739998  ,  101.39571967,\n",
       "          97.22992399])]"
      ]
     },
     "execution_count": 39,
     "metadata": {},
     "output_type": "execute_result"
    }
   ],
   "source": [
    "S"
   ]
  },
  {
   "cell_type": "markdown",
   "metadata": {},
   "source": [
    "### Визуализация дерева"
   ]
  },
  {
   "cell_type": "code",
   "execution_count": 40,
   "metadata": {
    "collapsed": true
   },
   "outputs": [],
   "source": [
    "G=nx.Graph()"
   ]
  },
  {
   "cell_type": "code",
   "execution_count": 41,
   "metadata": {
    "collapsed": true
   },
   "outputs": [],
   "source": [
    "for i in range(0,N+1):\n",
    "        for j in range(1,i+2):\n",
    "            if i<N:\n",
    "                G.add_edge((i,j),(i+1,j))\n",
    "                G.add_edge((i,j),(i+1,j+1))"
   ]
  },
  {
   "cell_type": "code",
   "execution_count": 42,
   "metadata": {},
   "outputs": [
    {
     "data": {
      "image/png": "[encoded data removed]",
      "text/plain": [
       "<Figure size 720x432 with 1 Axes>"
      ]
     },
     "metadata": {},
     "output_type": "display_data"
    }
   ],
   "source": [
    "plt.figure(figsize=(10,6))\n",
    "posG={}\n",
    "labels={}\n",
    "i=0\n",
    "for node in   G.nodes():\n",
    "        posG[node]=(node[0],N+2+node[0]-2*node[1])\n",
    "        i,j=node\n",
    "        labels[node]=round(S[i][j-1],2)\n",
    "nx.draw_networkx_nodes(G,posG)\n",
    "nx.draw_networkx_edges(G,posG)\n",
    "_=nx.draw_networkx_labels(G,posG,labels)"
   ]
  },
  {
   "cell_type": "code",
   "execution_count": 43,
   "metadata": {},
   "outputs": [
    {
     "data": {
      "text/plain": [
       "(0.49680126304845612, 0.50319873695154382)"
      ]
     },
     "execution_count": 43,
     "metadata": {},
     "output_type": "execute_result"
    }
   ],
   "source": [
    "option_call.get_prob()# риск-нейтральные вероятности"
   ]
  },
  {
   "cell_type": "code",
   "execution_count": 44,
   "metadata": {},
   "outputs": [
    {
     "data": {
      "text/plain": [
       "(1.0211977233170073, 0.97924229281656261)"
      ]
     },
     "execution_count": 44,
     "metadata": {},
     "output_type": "execute_result"
    }
   ],
   "source": [
    "option_call.get_param()# параметры u и d"
   ]
  },
  {
   "cell_type": "code",
   "execution_count": 45,
   "metadata": {
    "collapsed": true
   },
   "outputs": [],
   "source": [
    "option_put=CRR(S_0,K,r,T,N,sigma,is_call=False,div=div_y,is_european=True)"
   ]
  },
  {
   "cell_type": "code",
   "execution_count": 46,
   "metadata": {},
   "outputs": [
    {
     "data": {
      "text/plain": [
       "3.2090454902464218"
      ]
     },
     "execution_count": 46,
     "metadata": {},
     "output_type": "execute_result"
    }
   ],
   "source": [
    "option_put.get_price()"
   ]
  },
  {
   "cell_type": "markdown",
   "metadata": {},
   "source": [
    "### Паритет пут-колл"
   ]
  },
  {
   "cell_type": "code",
   "execution_count": 47,
   "metadata": {},
   "outputs": [
    {
     "data": {
      "text/plain": [
       "108.86736804656562"
      ]
     },
     "execution_count": 47,
     "metadata": {},
     "output_type": "execute_result"
    }
   ],
   "source": [
    "K*np.exp(-r*(T-0))+option_call.get_price()"
   ]
  },
  {
   "cell_type": "code",
   "execution_count": 48,
   "metadata": {},
   "outputs": [
    {
     "data": {
      "text/plain": [
       "108.8690497332157"
      ]
     },
     "execution_count": 48,
     "metadata": {},
     "output_type": "execute_result"
    }
   ],
   "source": [
    "np.exp(-div_y*(T-0))*S_0+option_put.get_price()"
   ]
  },
  {
   "cell_type": "markdown",
   "metadata": {
    "collapsed": true
   },
   "source": [
    "## 5. Модель BSM (Black Scholes Merton)"
   ]
  },
  {
   "cell_type": "markdown",
   "metadata": {},
   "source": [
    "###  Модель Блэка-Шоулза и соответствующие формулы приведены в лекционных материалах. Программная реализация модели осуществляется с помощью создания класса. "
   ]
  },
  {
   "cell_type": "code",
   "execution_count": 49,
   "metadata": {
    "collapsed": true
   },
   "outputs": [],
   "source": [
    "class BSM:\n",
    "        def __init__(self,S_0,K,r,T,sigma,div=0,t=0,is_call=True):\n",
    "            self._S_0=S_0\n",
    "            self._K=K\n",
    "            self._r=r\n",
    "            self._div=div\n",
    "            self._T=T\n",
    "            self._sigma=sigma\n",
    "            self._t=t\n",
    "            self._is_call=is_call  \n",
    "       \n",
    "        def __d_values__(self):\n",
    "            self._d1=(np.log(self._S_0/self._K)+(self._r-self._div+0.5*self._sigma**2)*(self._T-self._t))/(self._sigma*np.sqrt(self._T-self._t))\n",
    "            self._d2=self._d1-self._sigma*np.sqrt(self._T-self._t)\n",
    "            \n",
    "        def __N_d__(self,d_value):\n",
    "            return stats.norm.cdf(d_value)\n",
    "        \n",
    "        def __price__(self):\n",
    "            return (np.exp(-self._div*\\\n",
    "            (self._T-self._t))*self._S_0*self.__N_d__(self._d1)-np.exp(-self._r*\\\n",
    "            (self._T-self._t))*self._K*self.__N_d__(self._d2)) if self._is_call \\\n",
    "            else (np.exp(-self._r*(self._T-self._t))*self._K*self.__N_d__(-self._d2)- np.exp(-self._div*\\\n",
    "            (self._T-self._t))*self._S_0*self.__N_d__(-self._d1))\n",
    "            \n",
    "        def get_price(self):\n",
    "            self.__d_values__()\n",
    "            price=self.__price__()\n",
    "            return price\n",
    "        \n",
    "        def get_delta(self):\n",
    "            self.__d_values__()\n",
    "            return self.__N_d__(self._d1) if self._is_call else  self.__N_d__(self._d1)-1\n",
    "        \n",
    "        def get_vega(self):\n",
    "            self.__d_values__()\n",
    "            return self._S_0*stats.norm.pdf(self._d1)*np.sqrt(self._T-self._t)"
   ]
  },
  {
   "cell_type": "markdown",
   "metadata": {},
   "source": [
    "### Реализация модели BSM "
   ]
  },
  {
   "cell_type": "code",
   "execution_count": 50,
   "metadata": {
    "collapsed": true
   },
   "outputs": [],
   "source": [
    "K=105\n",
    "r=0.024\n",
    "sigma=0.2# годовое значение\n",
    "call=True"
   ]
  },
  {
   "cell_type": "code",
   "execution_count": 51,
   "metadata": {
    "collapsed": true
   },
   "outputs": [],
   "source": [
    "option_call=BSM(S_0,K,r,T,sigma,div=div_y,is_call=True)"
   ]
  },
  {
   "cell_type": "code",
   "execution_count": 52,
   "metadata": {},
   "outputs": [
    {
     "data": {
      "text/plain": [
       "2.1739809537005854"
      ]
     },
     "execution_count": 52,
     "metadata": {},
     "output_type": "execute_result"
    }
   ],
   "source": [
    "option_call.get_price()"
   ]
  },
  {
   "cell_type": "code",
   "execution_count": 53,
   "metadata": {},
   "outputs": [
    {
     "data": {
      "text/plain": [
       "0.5775029306678946"
      ]
     },
     "execution_count": 53,
     "metadata": {},
     "output_type": "execute_result"
    }
   ],
   "source": [
    "option_call.get_delta() # дельта опциона"
   ]
  },
  {
   "cell_type": "code",
   "execution_count": 54,
   "metadata": {},
   "outputs": [
    {
     "data": {
      "text/plain": [
       "8.6811143624548475"
      ]
     },
     "execution_count": 54,
     "metadata": {},
     "output_type": "execute_result"
    }
   ],
   "source": [
    "option_call.get_vega()# вега опциона"
   ]
  },
  {
   "cell_type": "code",
   "execution_count": 55,
   "metadata": {
    "collapsed": true
   },
   "outputs": [],
   "source": [
    "option_put=BSM(S_0,K,r,T,sigma,div=div_y,is_call=False)"
   ]
  },
  {
   "cell_type": "code",
   "execution_count": 56,
   "metadata": {},
   "outputs": [
    {
     "data": {
      "text/plain": [
       "1.4031552347690379"
      ]
     },
     "execution_count": 56,
     "metadata": {},
     "output_type": "execute_result"
    }
   ],
   "source": [
    "option_put.get_price()"
   ]
  },
  {
   "cell_type": "code",
   "execution_count": 57,
   "metadata": {},
   "outputs": [
    {
     "data": {
      "text/plain": [
       "-0.4224970693321054"
      ]
     },
     "execution_count": 57,
     "metadata": {},
     "output_type": "execute_result"
    }
   ],
   "source": [
    "option_put.get_delta()"
   ]
  },
  {
   "cell_type": "code",
   "execution_count": 58,
   "metadata": {},
   "outputs": [
    {
     "data": {
      "text/plain": [
       "8.6811143624548475"
      ]
     },
     "execution_count": 58,
     "metadata": {},
     "output_type": "execute_result"
    }
   ],
   "source": [
    "option_put.get_vega()"
   ]
  },
  {
   "cell_type": "markdown",
   "metadata": {},
   "source": [
    "### Паритет пут-колл"
   ]
  },
  {
   "cell_type": "code",
   "execution_count": 59,
   "metadata": {},
   "outputs": [
    {
     "data": {
      "text/plain": [
       "107.06315947773831"
      ]
     },
     "execution_count": 59,
     "metadata": {},
     "output_type": "execute_result"
    }
   ],
   "source": [
    "K*np.exp(-r*(T-0))+option_call.get_price()"
   ]
  },
  {
   "cell_type": "code",
   "execution_count": 60,
   "metadata": {},
   "outputs": [
    {
     "data": {
      "text/plain": [
       "107.06315947773831"
      ]
     },
     "execution_count": 60,
     "metadata": {},
     "output_type": "execute_result"
    }
   ],
   "source": [
    "np.exp(-div_y*(T-0))*S_0+option_put.get_price()"
   ]
  },
  {
   "cell_type": "markdown",
   "metadata": {
    "collapsed": true
   },
   "source": [
    "## 5. Опиционные стратегии"
   ]
  },
  {
   "cell_type": "markdown",
   "metadata": {
    "collapsed": true
   },
   "source": [
    "###  Bull spread"
   ]
  },
  {
   "cell_type": "code",
   "execution_count": 61,
   "metadata": {
    "collapsed": true
   },
   "outputs": [],
   "source": [
    "bull_spread_setup=pd.DataFrame(zip(['Call','Call'],[104,108],\n",
    "[CRR(S_0,104,r,T,N,sigma,is_call=True,div=div_y,is_european=False).get_price(),\\\n",
    "CRR(S_0,108,r,T,N,sigma,is_call=True,div=div_y,is_european=False).get_price()],['Buy','Sell']),\\\n",
    "                               columns=['Type','Strike','Price','Buy/Sell'])"
   ]
  },
  {
   "cell_type": "code",
   "execution_count": 62,
   "metadata": {},
   "outputs": [
    {
     "data": {
      "text/html": [
       "<div>\n",
       "<style scoped>\n",
       "    .dataframe tbody tr th:only-of-type {\n",
       "        vertical-align: middle;\n",
       "    }\n",
       "\n",
       "    .dataframe tbody tr th {\n",
       "        vertical-align: top;\n",
       "    }\n",
       "\n",
       "    .dataframe thead th {\n",
       "        text-align: right;\n",
       "    }\n",
       "</style>\n",
       "<table border=\"1\" class=\"dataframe\">\n",
       "  <thead>\n",
       "    <tr style=\"text-align: right;\">\n",
       "      <th></th>\n",
       "      <th>Type</th>\n",
       "      <th>Strike</th>\n",
       "      <th>Price</th>\n",
       "      <th>Buy/Sell</th>\n",
       "    </tr>\n",
       "  </thead>\n",
       "  <tbody>\n",
       "    <tr>\n",
       "      <th>0</th>\n",
       "      <td>Call</td>\n",
       "      <td>104</td>\n",
       "      <td>2.865833</td>\n",
       "      <td>Buy</td>\n",
       "    </tr>\n",
       "    <tr>\n",
       "      <th>1</th>\n",
       "      <td>Call</td>\n",
       "      <td>108</td>\n",
       "      <td>0.984652</td>\n",
       "      <td>Sell</td>\n",
       "    </tr>\n",
       "  </tbody>\n",
       "</table>\n",
       "</div>"
      ],
      "text/plain": [
       "   Type  Strike     Price Buy/Sell\n",
       "0  Call     104  2.865833      Buy\n",
       "1  Call     108  0.984652     Sell"
      ]
     },
     "execution_count": 62,
     "metadata": {},
     "output_type": "execute_result"
    }
   ],
   "source": [
    "bull_spread_setup"
   ]
  },
  {
   "cell_type": "code",
   "execution_count": 63,
   "metadata": {
    "collapsed": true
   },
   "outputs": [],
   "source": [
    "bull_spread_result=pd.DataFrame(zip(range(100,111),np.maximum(range(100,111)-bull_spread_setup.iloc[0,1],0)-bull_spread_setup.iloc[0,2],\\\n",
    "-np.maximum((range(100,111)-bull_spread_setup.iloc[1,1]),0)+bull_spread_setup.iloc[1,2]),columns=['Spot','Call1','Call2'])"
   ]
  },
  {
   "cell_type": "code",
   "execution_count": 64,
   "metadata": {
    "collapsed": true
   },
   "outputs": [],
   "source": [
    "bull_spread_result['Result']=bull_spread_result['Call1']+bull_spread_result['Call2']"
   ]
  },
  {
   "cell_type": "code",
   "execution_count": 65,
   "metadata": {},
   "outputs": [
    {
     "data": {
      "text/html": [
       "<div>\n",
       "<style scoped>\n",
       "    .dataframe tbody tr th:only-of-type {\n",
       "        vertical-align: middle;\n",
       "    }\n",
       "\n",
       "    .dataframe tbody tr th {\n",
       "        vertical-align: top;\n",
       "    }\n",
       "\n",
       "    .dataframe thead th {\n",
       "        text-align: right;\n",
       "    }\n",
       "</style>\n",
       "<table border=\"1\" class=\"dataframe\">\n",
       "  <thead>\n",
       "    <tr style=\"text-align: right;\">\n",
       "      <th></th>\n",
       "      <th>Spot</th>\n",
       "      <th>Call1</th>\n",
       "      <th>Call2</th>\n",
       "      <th>Result</th>\n",
       "    </tr>\n",
       "  </thead>\n",
       "  <tbody>\n",
       "    <tr>\n",
       "      <th>0</th>\n",
       "      <td>100</td>\n",
       "      <td>-2.865833</td>\n",
       "      <td>0.984652</td>\n",
       "      <td>-1.88118</td>\n",
       "    </tr>\n",
       "    <tr>\n",
       "      <th>1</th>\n",
       "      <td>101</td>\n",
       "      <td>-2.865833</td>\n",
       "      <td>0.984652</td>\n",
       "      <td>-1.88118</td>\n",
       "    </tr>\n",
       "    <tr>\n",
       "      <th>2</th>\n",
       "      <td>102</td>\n",
       "      <td>-2.865833</td>\n",
       "      <td>0.984652</td>\n",
       "      <td>-1.88118</td>\n",
       "    </tr>\n",
       "    <tr>\n",
       "      <th>3</th>\n",
       "      <td>103</td>\n",
       "      <td>-2.865833</td>\n",
       "      <td>0.984652</td>\n",
       "      <td>-1.88118</td>\n",
       "    </tr>\n",
       "    <tr>\n",
       "      <th>4</th>\n",
       "      <td>104</td>\n",
       "      <td>-2.865833</td>\n",
       "      <td>0.984652</td>\n",
       "      <td>-1.88118</td>\n",
       "    </tr>\n",
       "    <tr>\n",
       "      <th>5</th>\n",
       "      <td>105</td>\n",
       "      <td>-1.865833</td>\n",
       "      <td>0.984652</td>\n",
       "      <td>-0.88118</td>\n",
       "    </tr>\n",
       "    <tr>\n",
       "      <th>6</th>\n",
       "      <td>106</td>\n",
       "      <td>-0.865833</td>\n",
       "      <td>0.984652</td>\n",
       "      <td>0.11882</td>\n",
       "    </tr>\n",
       "    <tr>\n",
       "      <th>7</th>\n",
       "      <td>107</td>\n",
       "      <td>0.134167</td>\n",
       "      <td>0.984652</td>\n",
       "      <td>1.11882</td>\n",
       "    </tr>\n",
       "    <tr>\n",
       "      <th>8</th>\n",
       "      <td>108</td>\n",
       "      <td>1.134167</td>\n",
       "      <td>0.984652</td>\n",
       "      <td>2.11882</td>\n",
       "    </tr>\n",
       "    <tr>\n",
       "      <th>9</th>\n",
       "      <td>109</td>\n",
       "      <td>2.134167</td>\n",
       "      <td>-0.015348</td>\n",
       "      <td>2.11882</td>\n",
       "    </tr>\n",
       "    <tr>\n",
       "      <th>10</th>\n",
       "      <td>110</td>\n",
       "      <td>3.134167</td>\n",
       "      <td>-1.015348</td>\n",
       "      <td>2.11882</td>\n",
       "    </tr>\n",
       "  </tbody>\n",
       "</table>\n",
       "</div>"
      ],
      "text/plain": [
       "    Spot     Call1     Call2   Result\n",
       "0    100 -2.865833  0.984652 -1.88118\n",
       "1    101 -2.865833  0.984652 -1.88118\n",
       "2    102 -2.865833  0.984652 -1.88118\n",
       "3    103 -2.865833  0.984652 -1.88118\n",
       "4    104 -2.865833  0.984652 -1.88118\n",
       "5    105 -1.865833  0.984652 -0.88118\n",
       "6    106 -0.865833  0.984652  0.11882\n",
       "7    107  0.134167  0.984652  1.11882\n",
       "8    108  1.134167  0.984652  2.11882\n",
       "9    109  2.134167 -0.015348  2.11882\n",
       "10   110  3.134167 -1.015348  2.11882"
      ]
     },
     "execution_count": 65,
     "metadata": {},
     "output_type": "execute_result"
    }
   ],
   "source": [
    "bull_spread_result"
   ]
  },
  {
   "cell_type": "code",
   "execution_count": 66,
   "metadata": {},
   "outputs": [
    {
     "data": {
      "image/png": "[encoded data removed]",
      "text/plain": [
       "<Figure size 720x432 with 1 Axes>"
      ]
     },
     "metadata": {},
     "output_type": "display_data"
    }
   ],
   "source": [
    "plt.figure(figsize=(10,6))\n",
    "plt.plot(bull_spread_result.Spot,bull_spread_result.Result)\n",
    "ax=plt.gca()\n",
    "ax.spines['left'].set_position('center')\n",
    "ax.spines['right'].set_color('none')\n",
    "ax.spines['bottom'].set_position('center')\n",
    "ax.spines['top'].set_color('none')\n",
    "ax.xaxis.set_ticks_position('bottom')\n",
    "ax.yaxis.set_ticks_position('left')\n",
    "ax.yaxis.set_ticks_position('left')\n",
    "_=plt.title('Bull spread',fontsize=18)"
   ]
  },
  {
   "cell_type": "markdown",
   "metadata": {
    "collapsed": true
   },
   "source": [
    "###  Long straddle"
   ]
  },
  {
   "cell_type": "code",
   "execution_count": 67,
   "metadata": {
    "collapsed": true
   },
   "outputs": [],
   "source": [
    "long_straddle_setup=pd.DataFrame(zip(['Call','Put'],[106,106],\n",
    "[CRR(S_0,106,r,T,N,sigma,is_call=True,div=div_y,is_european=False).get_price(),\\\n",
    "CRR(S_0,106,r,T,N,sigma,is_call=False,div=div_y,is_european=False).get_price()],['Buy','Buy']),\\\n",
    "                               columns=['Type','Strike','Price','Buy/Sell'])"
   ]
  },
  {
   "cell_type": "code",
   "execution_count": 68,
   "metadata": {},
   "outputs": [
    {
     "data": {
      "text/html": [
       "<div>\n",
       "<style scoped>\n",
       "    .dataframe tbody tr th:only-of-type {\n",
       "        vertical-align: middle;\n",
       "    }\n",
       "\n",
       "    .dataframe tbody tr th {\n",
       "        vertical-align: top;\n",
       "    }\n",
       "\n",
       "    .dataframe thead th {\n",
       "        text-align: right;\n",
       "    }\n",
       "</style>\n",
       "<table border=\"1\" class=\"dataframe\">\n",
       "  <thead>\n",
       "    <tr style=\"text-align: right;\">\n",
       "      <th></th>\n",
       "      <th>Type</th>\n",
       "      <th>Strike</th>\n",
       "      <th>Price</th>\n",
       "      <th>Buy/Sell</th>\n",
       "    </tr>\n",
       "  </thead>\n",
       "  <tbody>\n",
       "    <tr>\n",
       "      <th>0</th>\n",
       "      <td>Call</td>\n",
       "      <td>106</td>\n",
       "      <td>1.599122</td>\n",
       "      <td>Buy</td>\n",
       "    </tr>\n",
       "    <tr>\n",
       "      <th>1</th>\n",
       "      <td>Put</td>\n",
       "      <td>106</td>\n",
       "      <td>1.833427</td>\n",
       "      <td>Buy</td>\n",
       "    </tr>\n",
       "  </tbody>\n",
       "</table>\n",
       "</div>"
      ],
      "text/plain": [
       "   Type  Strike     Price Buy/Sell\n",
       "0  Call     106  1.599122      Buy\n",
       "1   Put     106  1.833427      Buy"
      ]
     },
     "execution_count": 68,
     "metadata": {},
     "output_type": "execute_result"
    }
   ],
   "source": [
    "long_straddle_setup"
   ]
  },
  {
   "cell_type": "code",
   "execution_count": 69,
   "metadata": {
    "collapsed": true
   },
   "outputs": [],
   "source": [
    "long_straddle_result=pd.DataFrame(zip(range(100,111),np.maximum(range(100,111)-long_straddle_setup.iloc[0,1],0)-long_straddle_setup.iloc[0,2],\\\n",
    "np.maximum(long_straddle_setup.iloc[1,1]-(range(100,111)),0)-long_straddle_setup.iloc[1,2]),columns=['Spot','Call','Put'])"
   ]
  },
  {
   "cell_type": "code",
   "execution_count": 70,
   "metadata": {
    "collapsed": true
   },
   "outputs": [],
   "source": [
    "long_straddle_result['Result']=long_straddle_result['Call']+long_straddle_result['Put']"
   ]
  },
  {
   "cell_type": "code",
   "execution_count": 71,
   "metadata": {},
   "outputs": [
    {
     "data": {
      "text/html": [
       "<div>\n",
       "<style scoped>\n",
       "    .dataframe tbody tr th:only-of-type {\n",
       "        vertical-align: middle;\n",
       "    }\n",
       "\n",
       "    .dataframe tbody tr th {\n",
       "        vertical-align: top;\n",
       "    }\n",
       "\n",
       "    .dataframe thead th {\n",
       "        text-align: right;\n",
       "    }\n",
       "</style>\n",
       "<table border=\"1\" class=\"dataframe\">\n",
       "  <thead>\n",
       "    <tr style=\"text-align: right;\">\n",
       "      <th></th>\n",
       "      <th>Spot</th>\n",
       "      <th>Call</th>\n",
       "      <th>Put</th>\n",
       "      <th>Result</th>\n",
       "    </tr>\n",
       "  </thead>\n",
       "  <tbody>\n",
       "    <tr>\n",
       "      <th>0</th>\n",
       "      <td>100</td>\n",
       "      <td>-1.599122</td>\n",
       "      <td>4.166573</td>\n",
       "      <td>2.567451</td>\n",
       "    </tr>\n",
       "    <tr>\n",
       "      <th>1</th>\n",
       "      <td>101</td>\n",
       "      <td>-1.599122</td>\n",
       "      <td>3.166573</td>\n",
       "      <td>1.567451</td>\n",
       "    </tr>\n",
       "    <tr>\n",
       "      <th>2</th>\n",
       "      <td>102</td>\n",
       "      <td>-1.599122</td>\n",
       "      <td>2.166573</td>\n",
       "      <td>0.567451</td>\n",
       "    </tr>\n",
       "    <tr>\n",
       "      <th>3</th>\n",
       "      <td>103</td>\n",
       "      <td>-1.599122</td>\n",
       "      <td>1.166573</td>\n",
       "      <td>-0.432549</td>\n",
       "    </tr>\n",
       "    <tr>\n",
       "      <th>4</th>\n",
       "      <td>104</td>\n",
       "      <td>-1.599122</td>\n",
       "      <td>0.166573</td>\n",
       "      <td>-1.432549</td>\n",
       "    </tr>\n",
       "    <tr>\n",
       "      <th>5</th>\n",
       "      <td>105</td>\n",
       "      <td>-1.599122</td>\n",
       "      <td>-0.833427</td>\n",
       "      <td>-2.432549</td>\n",
       "    </tr>\n",
       "    <tr>\n",
       "      <th>6</th>\n",
       "      <td>106</td>\n",
       "      <td>-1.599122</td>\n",
       "      <td>-1.833427</td>\n",
       "      <td>-3.432549</td>\n",
       "    </tr>\n",
       "    <tr>\n",
       "      <th>7</th>\n",
       "      <td>107</td>\n",
       "      <td>-0.599122</td>\n",
       "      <td>-1.833427</td>\n",
       "      <td>-2.432549</td>\n",
       "    </tr>\n",
       "    <tr>\n",
       "      <th>8</th>\n",
       "      <td>108</td>\n",
       "      <td>0.400878</td>\n",
       "      <td>-1.833427</td>\n",
       "      <td>-1.432549</td>\n",
       "    </tr>\n",
       "    <tr>\n",
       "      <th>9</th>\n",
       "      <td>109</td>\n",
       "      <td>1.400878</td>\n",
       "      <td>-1.833427</td>\n",
       "      <td>-0.432549</td>\n",
       "    </tr>\n",
       "    <tr>\n",
       "      <th>10</th>\n",
       "      <td>110</td>\n",
       "      <td>2.400878</td>\n",
       "      <td>-1.833427</td>\n",
       "      <td>0.567451</td>\n",
       "    </tr>\n",
       "  </tbody>\n",
       "</table>\n",
       "</div>"
      ],
      "text/plain": [
       "    Spot      Call       Put    Result\n",
       "0    100 -1.599122  4.166573  2.567451\n",
       "1    101 -1.599122  3.166573  1.567451\n",
       "2    102 -1.599122  2.166573  0.567451\n",
       "3    103 -1.599122  1.166573 -0.432549\n",
       "4    104 -1.599122  0.166573 -1.432549\n",
       "5    105 -1.599122 -0.833427 -2.432549\n",
       "6    106 -1.599122 -1.833427 -3.432549\n",
       "7    107 -0.599122 -1.833427 -2.432549\n",
       "8    108  0.400878 -1.833427 -1.432549\n",
       "9    109  1.400878 -1.833427 -0.432549\n",
       "10   110  2.400878 -1.833427  0.567451"
      ]
     },
     "execution_count": 71,
     "metadata": {},
     "output_type": "execute_result"
    }
   ],
   "source": [
    "long_straddle_result"
   ]
  },
  {
   "cell_type": "code",
   "execution_count": 72,
   "metadata": {},
   "outputs": [
    {
     "data": {
      "image/png": "[encoded data removed]",
      "text/plain": [
       "<Figure size 720x432 with 1 Axes>"
      ]
     },
     "metadata": {},
     "output_type": "display_data"
    }
   ],
   "source": [
    "fig=plt.figure(figsize=(10,6))\n",
    "plt.plot(long_straddle_result.Spot,long_straddle_result.Result)\n",
    "ax=plt.gca()\n",
    "ax.spines['left'].set_position('center')\n",
    "ax.spines['right'].set_color('none')\n",
    "ax.spines['bottom'].set_position('center')\n",
    "ax.spines['top'].set_color('none')\n",
    "ax.xaxis.set_ticks_position('bottom')\n",
    "ax.yaxis.set_ticks_position('left')\n",
    "_=plt.title('Long Straddle',fontsize=18)"
   ]
  },
  {
   "cell_type": "markdown",
   "metadata": {
    "collapsed": true
   },
   "source": [
    "## 6. Сравнение теоретических и рыночных цен"
   ]
  },
  {
   "cell_type": "markdown",
   "metadata": {},
   "source": [
    "### В данном разделе задания рассчитаем теоретические цены опционов с помощью моделей CRR и BSM  и сравним их с рыночными ценами"
   ]
  },
  {
   "cell_type": "code",
   "execution_count": 73,
   "metadata": {
    "collapsed": true
   },
   "outputs": [],
   "source": [
    "N=1000# количество шагов для модели CRR"
   ]
  },
  {
   "cell_type": "markdown",
   "metadata": {
    "collapsed": true
   },
   "source": [
    "### Call"
   ]
  },
  {
   "cell_type": "code",
   "execution_count": 74,
   "metadata": {
    "collapsed": true
   },
   "outputs": [],
   "source": [
    "cboe_MSFT_call['American_div_Bin']=cboe_MSFT_call.apply\\\n",
    "(lambda row: np.round(CRR(S_0,row['strike'],r,T,N,row['vega_1545'],is_call=True,div=div_y,is_european=False).get_price(),2),axis=1)"
   ]
  },
  {
   "cell_type": "code",
   "execution_count": 75,
   "metadata": {
    "collapsed": true
   },
   "outputs": [],
   "source": [
    "cboe_MSFT_call['European_div_Bin']=cboe_MSFT_call.apply\\\n",
    "(lambda row: np.round(CRR(S_0,row['strike'],r,T,N,row['vega_1545'],is_call=True,div=div_y,is_european=True).get_price(),2),axis=1)"
   ]
  },
  {
   "cell_type": "code",
   "execution_count": 76,
   "metadata": {
    "collapsed": true
   },
   "outputs": [],
   "source": [
    "cboe_MSFT_call['BSM_div']=cboe_MSFT_call.apply(lambda row: np.round(BSM(S_0,row['strike'],r,T,row['vega_1545'],is_call=True).get_price(),2),axis=1)"
   ]
  },
  {
   "cell_type": "code",
   "execution_count": 77,
   "metadata": {},
   "outputs": [
    {
     "data": {
      "text/html": [
       "<div>\n",
       "<style scoped>\n",
       "    .dataframe tbody tr th:only-of-type {\n",
       "        vertical-align: middle;\n",
       "    }\n",
       "\n",
       "    .dataframe tbody tr th {\n",
       "        vertical-align: top;\n",
       "    }\n",
       "\n",
       "    .dataframe thead th {\n",
       "        text-align: right;\n",
       "    }\n",
       "</style>\n",
       "<table border=\"1\" class=\"dataframe\">\n",
       "  <thead>\n",
       "    <tr style=\"text-align: right;\">\n",
       "      <th></th>\n",
       "      <th>strike</th>\n",
       "      <th>high</th>\n",
       "      <th>low</th>\n",
       "      <th>close</th>\n",
       "      <th>delta_1545</th>\n",
       "      <th>gamma_1545</th>\n",
       "      <th>vega_1545</th>\n",
       "      <th>implied_volatility_1545</th>\n",
       "      <th>American_div_Bin</th>\n",
       "      <th>European_div_Bin</th>\n",
       "      <th>BSM_div</th>\n",
       "    </tr>\n",
       "  </thead>\n",
       "  <tbody>\n",
       "    <tr>\n",
       "      <th>1654</th>\n",
       "      <td>101.0</td>\n",
       "      <td>5.00</td>\n",
       "      <td>3.85</td>\n",
       "      <td>4.95</td>\n",
       "      <td>0.8507</td>\n",
       "      <td>0.0521</td>\n",
       "      <td>0.0426</td>\n",
       "      <td>0.2437</td>\n",
       "      <td>4.77</td>\n",
       "      <td>4.77</td>\n",
       "      <td>4.85</td>\n",
       "    </tr>\n",
       "    <tr>\n",
       "      <th>1656</th>\n",
       "      <td>102.0</td>\n",
       "      <td>4.25</td>\n",
       "      <td>2.44</td>\n",
       "      <td>4.25</td>\n",
       "      <td>0.7973</td>\n",
       "      <td>0.0653</td>\n",
       "      <td>0.0517</td>\n",
       "      <td>0.2359</td>\n",
       "      <td>3.77</td>\n",
       "      <td>3.77</td>\n",
       "      <td>3.85</td>\n",
       "    </tr>\n",
       "    <tr>\n",
       "      <th>1658</th>\n",
       "      <td>103.0</td>\n",
       "      <td>3.40</td>\n",
       "      <td>1.85</td>\n",
       "      <td>3.30</td>\n",
       "      <td>0.7307</td>\n",
       "      <td>0.0793</td>\n",
       "      <td>0.0605</td>\n",
       "      <td>0.2274</td>\n",
       "      <td>2.78</td>\n",
       "      <td>2.78</td>\n",
       "      <td>2.86</td>\n",
       "    </tr>\n",
       "    <tr>\n",
       "      <th>1660</th>\n",
       "      <td>104.0</td>\n",
       "      <td>2.67</td>\n",
       "      <td>1.25</td>\n",
       "      <td>2.55</td>\n",
       "      <td>0.6500</td>\n",
       "      <td>0.0929</td>\n",
       "      <td>0.0679</td>\n",
       "      <td>0.2177</td>\n",
       "      <td>1.86</td>\n",
       "      <td>1.86</td>\n",
       "      <td>1.93</td>\n",
       "    </tr>\n",
       "    <tr>\n",
       "      <th>1662</th>\n",
       "      <td>105.0</td>\n",
       "      <td>2.04</td>\n",
       "      <td>0.61</td>\n",
       "      <td>2.02</td>\n",
       "      <td>0.5538</td>\n",
       "      <td>0.1023</td>\n",
       "      <td>0.0724</td>\n",
       "      <td>0.2110</td>\n",
       "      <td>1.10</td>\n",
       "      <td>1.10</td>\n",
       "      <td>1.15</td>\n",
       "    </tr>\n",
       "    <tr>\n",
       "      <th>1664</th>\n",
       "      <td>106.0</td>\n",
       "      <td>1.48</td>\n",
       "      <td>0.60</td>\n",
       "      <td>1.39</td>\n",
       "      <td>0.4490</td>\n",
       "      <td>0.1056</td>\n",
       "      <td>0.0725</td>\n",
       "      <td>0.2045</td>\n",
       "      <td>0.53</td>\n",
       "      <td>0.53</td>\n",
       "      <td>0.57</td>\n",
       "    </tr>\n",
       "    <tr>\n",
       "      <th>1666</th>\n",
       "      <td>107.0</td>\n",
       "      <td>1.01</td>\n",
       "      <td>0.39</td>\n",
       "      <td>0.92</td>\n",
       "      <td>0.3438</td>\n",
       "      <td>0.1005</td>\n",
       "      <td>0.0674</td>\n",
       "      <td>0.1998</td>\n",
       "      <td>0.18</td>\n",
       "      <td>0.18</td>\n",
       "      <td>0.19</td>\n",
       "    </tr>\n",
       "    <tr>\n",
       "      <th>1668</th>\n",
       "      <td>108.0</td>\n",
       "      <td>0.66</td>\n",
       "      <td>0.29</td>\n",
       "      <td>0.59</td>\n",
       "      <td>0.2464</td>\n",
       "      <td>0.0881</td>\n",
       "      <td>0.0578</td>\n",
       "      <td>0.1954</td>\n",
       "      <td>0.02</td>\n",
       "      <td>0.02</td>\n",
       "      <td>0.03</td>\n",
       "    </tr>\n",
       "    <tr>\n",
       "      <th>1670</th>\n",
       "      <td>109.0</td>\n",
       "      <td>0.40</td>\n",
       "      <td>0.18</td>\n",
       "      <td>0.38</td>\n",
       "      <td>0.1669</td>\n",
       "      <td>0.0705</td>\n",
       "      <td>0.0458</td>\n",
       "      <td>0.1936</td>\n",
       "      <td>0.00</td>\n",
       "      <td>0.00</td>\n",
       "      <td>0.00</td>\n",
       "    </tr>\n",
       "    <tr>\n",
       "      <th>1672</th>\n",
       "      <td>110.0</td>\n",
       "      <td>0.30</td>\n",
       "      <td>0.09</td>\n",
       "      <td>0.20</td>\n",
       "      <td>0.1056</td>\n",
       "      <td>0.0520</td>\n",
       "      <td>0.0334</td>\n",
       "      <td>0.1917</td>\n",
       "      <td>0.00</td>\n",
       "      <td>0.00</td>\n",
       "      <td>0.00</td>\n",
       "    </tr>\n",
       "  </tbody>\n",
       "</table>\n",
       "</div>"
      ],
      "text/plain": [
       "      strike  high   low  close  delta_1545  gamma_1545  vega_1545  \\\n",
       "1654   101.0  5.00  3.85   4.95      0.8507      0.0521     0.0426   \n",
       "1656   102.0  4.25  2.44   4.25      0.7973      0.0653     0.0517   \n",
       "1658   103.0  3.40  1.85   3.30      0.7307      0.0793     0.0605   \n",
       "1660   104.0  2.67  1.25   2.55      0.6500      0.0929     0.0679   \n",
       "1662   105.0  2.04  0.61   2.02      0.5538      0.1023     0.0724   \n",
       "1664   106.0  1.48  0.60   1.39      0.4490      0.1056     0.0725   \n",
       "1666   107.0  1.01  0.39   0.92      0.3438      0.1005     0.0674   \n",
       "1668   108.0  0.66  0.29   0.59      0.2464      0.0881     0.0578   \n",
       "1670   109.0  0.40  0.18   0.38      0.1669      0.0705     0.0458   \n",
       "1672   110.0  0.30  0.09   0.20      0.1056      0.0520     0.0334   \n",
       "\n",
       "      implied_volatility_1545  American_div_Bin  European_div_Bin  BSM_div  \n",
       "1654                   0.2437              4.77              4.77     4.85  \n",
       "1656                   0.2359              3.77              3.77     3.85  \n",
       "1658                   0.2274              2.78              2.78     2.86  \n",
       "1660                   0.2177              1.86              1.86     1.93  \n",
       "1662                   0.2110              1.10              1.10     1.15  \n",
       "1664                   0.2045              0.53              0.53     0.57  \n",
       "1666                   0.1998              0.18              0.18     0.19  \n",
       "1668                   0.1954              0.02              0.02     0.03  \n",
       "1670                   0.1936              0.00              0.00     0.00  \n",
       "1672                   0.1917              0.00              0.00     0.00  "
      ]
     },
     "execution_count": 77,
     "metadata": {},
     "output_type": "execute_result"
    }
   ],
   "source": [
    "cboe_MSFT_call"
   ]
  },
  {
   "cell_type": "markdown",
   "metadata": {
    "collapsed": true
   },
   "source": [
    "### Put"
   ]
  },
  {
   "cell_type": "code",
   "execution_count": 78,
   "metadata": {
    "collapsed": true
   },
   "outputs": [],
   "source": [
    "cboe_MSFT_put['American_div_Bin']=cboe_MSFT_put.apply\\\n",
    "(lambda row: np.round(CRR(S_0,row['strike'],r,T,N,row['vega_1545'],is_call=False,div=div_y,is_european=False).get_price(),2),axis=1)"
   ]
  },
  {
   "cell_type": "code",
   "execution_count": 79,
   "metadata": {
    "collapsed": true
   },
   "outputs": [],
   "source": [
    "cboe_MSFT_put['European_div_Bin']=cboe_MSFT_put.apply\\\n",
    "(lambda row: np.round(CRR(S_0,row['strike'],r,T,N,row['vega_1545'],is_call=False,div=div_y,is_european=True).get_price(),2),axis=1)"
   ]
  },
  {
   "cell_type": "code",
   "execution_count": 80,
   "metadata": {
    "collapsed": true
   },
   "outputs": [],
   "source": [
    "cboe_MSFT_put['BSM_div']=cboe_MSFT_put.apply(lambda row: np.round(BSM(S_0,row['strike'],r,T,row['vega_1545'],is_call=False).get_price(),2),axis=1)"
   ]
  },
  {
   "cell_type": "code",
   "execution_count": 81,
   "metadata": {},
   "outputs": [
    {
     "data": {
      "text/html": [
       "<div>\n",
       "<style scoped>\n",
       "    .dataframe tbody tr th:only-of-type {\n",
       "        vertical-align: middle;\n",
       "    }\n",
       "\n",
       "    .dataframe tbody tr th {\n",
       "        vertical-align: top;\n",
       "    }\n",
       "\n",
       "    .dataframe thead th {\n",
       "        text-align: right;\n",
       "    }\n",
       "</style>\n",
       "<table border=\"1\" class=\"dataframe\">\n",
       "  <thead>\n",
       "    <tr style=\"text-align: right;\">\n",
       "      <th></th>\n",
       "      <th>strike</th>\n",
       "      <th>high</th>\n",
       "      <th>low</th>\n",
       "      <th>close</th>\n",
       "      <th>delta_1545</th>\n",
       "      <th>gamma_1545</th>\n",
       "      <th>vega_1545</th>\n",
       "      <th>implied_volatility_1545</th>\n",
       "      <th>American_div_Bin</th>\n",
       "      <th>European_div_Bin</th>\n",
       "      <th>BSM_div</th>\n",
       "    </tr>\n",
       "  </thead>\n",
       "  <tbody>\n",
       "    <tr>\n",
       "      <th>1655</th>\n",
       "      <td>101.0</td>\n",
       "      <td>0.65</td>\n",
       "      <td>0.30</td>\n",
       "      <td>0.30</td>\n",
       "      <td>-0.1432</td>\n",
       "      <td>0.0520</td>\n",
       "      <td>0.0414</td>\n",
       "      <td>0.2374</td>\n",
       "      <td>0.00</td>\n",
       "      <td>0.00</td>\n",
       "      <td>0.00</td>\n",
       "    </tr>\n",
       "    <tr>\n",
       "      <th>1657</th>\n",
       "      <td>102.0</td>\n",
       "      <td>1.12</td>\n",
       "      <td>0.40</td>\n",
       "      <td>0.40</td>\n",
       "      <td>-0.1960</td>\n",
       "      <td>0.0659</td>\n",
       "      <td>0.0507</td>\n",
       "      <td>0.2289</td>\n",
       "      <td>0.00</td>\n",
       "      <td>0.00</td>\n",
       "      <td>0.00</td>\n",
       "    </tr>\n",
       "    <tr>\n",
       "      <th>1659</th>\n",
       "      <td>103.0</td>\n",
       "      <td>1.70</td>\n",
       "      <td>0.57</td>\n",
       "      <td>0.57</td>\n",
       "      <td>-0.2629</td>\n",
       "      <td>0.0810</td>\n",
       "      <td>0.0598</td>\n",
       "      <td>0.2199</td>\n",
       "      <td>0.01</td>\n",
       "      <td>0.01</td>\n",
       "      <td>0.01</td>\n",
       "    </tr>\n",
       "    <tr>\n",
       "      <th>1661</th>\n",
       "      <td>104.0</td>\n",
       "      <td>1.88</td>\n",
       "      <td>0.83</td>\n",
       "      <td>0.83</td>\n",
       "      <td>-0.3474</td>\n",
       "      <td>0.0945</td>\n",
       "      <td>0.0677</td>\n",
       "      <td>0.2133</td>\n",
       "      <td>0.09</td>\n",
       "      <td>0.09</td>\n",
       "      <td>0.08</td>\n",
       "    </tr>\n",
       "    <tr>\n",
       "      <th>1663</th>\n",
       "      <td>105.0</td>\n",
       "      <td>2.83</td>\n",
       "      <td>1.16</td>\n",
       "      <td>1.20</td>\n",
       "      <td>-0.4452</td>\n",
       "      <td>0.1046</td>\n",
       "      <td>0.0724</td>\n",
       "      <td>0.2062</td>\n",
       "      <td>0.33</td>\n",
       "      <td>0.33</td>\n",
       "      <td>0.30</td>\n",
       "    </tr>\n",
       "    <tr>\n",
       "      <th>1665</th>\n",
       "      <td>106.0</td>\n",
       "      <td>3.00</td>\n",
       "      <td>1.60</td>\n",
       "      <td>1.68</td>\n",
       "      <td>-0.5521</td>\n",
       "      <td>0.1074</td>\n",
       "      <td>0.0725</td>\n",
       "      <td>0.2010</td>\n",
       "      <td>0.77</td>\n",
       "      <td>0.76</td>\n",
       "      <td>0.72</td>\n",
       "    </tr>\n",
       "    <tr>\n",
       "      <th>1667</th>\n",
       "      <td>107.0</td>\n",
       "      <td>3.15</td>\n",
       "      <td>2.19</td>\n",
       "      <td>2.23</td>\n",
       "      <td>-0.6582</td>\n",
       "      <td>0.1015</td>\n",
       "      <td>0.0673</td>\n",
       "      <td>0.1974</td>\n",
       "      <td>1.41</td>\n",
       "      <td>1.40</td>\n",
       "      <td>1.34</td>\n",
       "    </tr>\n",
       "    <tr>\n",
       "      <th>1669</th>\n",
       "      <td>108.0</td>\n",
       "      <td>4.60</td>\n",
       "      <td>2.90</td>\n",
       "      <td>2.90</td>\n",
       "      <td>-0.7575</td>\n",
       "      <td>0.0888</td>\n",
       "      <td>0.0573</td>\n",
       "      <td>0.1921</td>\n",
       "      <td>2.27</td>\n",
       "      <td>2.25</td>\n",
       "      <td>2.17</td>\n",
       "    </tr>\n",
       "    <tr>\n",
       "      <th>1671</th>\n",
       "      <td>109.0</td>\n",
       "      <td>3.80</td>\n",
       "      <td>3.80</td>\n",
       "      <td>3.80</td>\n",
       "      <td>-0.8386</td>\n",
       "      <td>0.0705</td>\n",
       "      <td>0.0448</td>\n",
       "      <td>0.1894</td>\n",
       "      <td>3.26</td>\n",
       "      <td>3.23</td>\n",
       "      <td>3.15</td>\n",
       "    </tr>\n",
       "    <tr>\n",
       "      <th>1673</th>\n",
       "      <td>110.0</td>\n",
       "      <td>6.45</td>\n",
       "      <td>4.40</td>\n",
       "      <td>4.49</td>\n",
       "      <td>-0.9115</td>\n",
       "      <td>0.0492</td>\n",
       "      <td>0.0294</td>\n",
       "      <td>0.1779</td>\n",
       "      <td>4.26</td>\n",
       "      <td>4.23</td>\n",
       "      <td>4.14</td>\n",
       "    </tr>\n",
       "  </tbody>\n",
       "</table>\n",
       "</div>"
      ],
      "text/plain": [
       "      strike  high   low  close  delta_1545  gamma_1545  vega_1545  \\\n",
       "1655   101.0  0.65  0.30   0.30     -0.1432      0.0520     0.0414   \n",
       "1657   102.0  1.12  0.40   0.40     -0.1960      0.0659     0.0507   \n",
       "1659   103.0  1.70  0.57   0.57     -0.2629      0.0810     0.0598   \n",
       "1661   104.0  1.88  0.83   0.83     -0.3474      0.0945     0.0677   \n",
       "1663   105.0  2.83  1.16   1.20     -0.4452      0.1046     0.0724   \n",
       "1665   106.0  3.00  1.60   1.68     -0.5521      0.1074     0.0725   \n",
       "1667   107.0  3.15  2.19   2.23     -0.6582      0.1015     0.0673   \n",
       "1669   108.0  4.60  2.90   2.90     -0.7575      0.0888     0.0573   \n",
       "1671   109.0  3.80  3.80   3.80     -0.8386      0.0705     0.0448   \n",
       "1673   110.0  6.45  4.40   4.49     -0.9115      0.0492     0.0294   \n",
       "\n",
       "      implied_volatility_1545  American_div_Bin  European_div_Bin  BSM_div  \n",
       "1655                   0.2374              0.00              0.00     0.00  \n",
       "1657                   0.2289              0.00              0.00     0.00  \n",
       "1659                   0.2199              0.01              0.01     0.01  \n",
       "1661                   0.2133              0.09              0.09     0.08  \n",
       "1663                   0.2062              0.33              0.33     0.30  \n",
       "1665                   0.2010              0.77              0.76     0.72  \n",
       "1667                   0.1974              1.41              1.40     1.34  \n",
       "1669                   0.1921              2.27              2.25     2.17  \n",
       "1671                   0.1894              3.26              3.23     3.15  \n",
       "1673                   0.1779              4.26              4.23     4.14  "
      ]
     },
     "execution_count": 81,
     "metadata": {},
     "output_type": "execute_result"
    }
   ],
   "source": [
    "cboe_MSFT_put"
   ]
  },
  {
   "cell_type": "markdown",
   "metadata": {
    "collapsed": true
   },
   "source": [
    "## 7. Показатель чувствительности $\\Delta$"
   ]
  },
  {
   "cell_type": "markdown",
   "metadata": {
    "collapsed": true
   },
   "source": [
    "###  Delta - hedging. Расчет показателя $\\Delta$ приведен в лекционных материалах."
   ]
  },
  {
   "cell_type": "markdown",
   "metadata": {},
   "source": [
    "### $C=\\Delta S-B$\n",
    "### $P=\\Delta S+B$"
   ]
  },
  {
   "cell_type": "markdown",
   "metadata": {},
   "source": [
    "### На каждом шаге мы ребалансируем портфель с учетом равенства:\n",
    "### $dP=\\Delta dS$ (для опциона колл расчет аналогичный)\n",
    "### Ребалансировка учитывает проценты по денежной позиции"
   ]
  },
  {
   "cell_type": "markdown",
   "metadata": {
    "collapsed": true
   },
   "source": [
    "### В данном задании будем моделировать динамику актива с помощью геометрического броуновского движения"
   ]
  },
  {
   "cell_type": "markdown",
   "metadata": {
    "collapsed": true
   },
   "source": [
    "### $S_{i+1}=S_iexp((r-0.5\\sigma^2)\\Delta_t+\\sigma\\sqrt{\\Delta_t}Z_t)$"
   ]
  },
  {
   "cell_type": "code",
   "execution_count": 82,
   "metadata": {
    "collapsed": true
   },
   "outputs": [],
   "source": [
    "def GBM(n_step,S_0,r,sigma,dt):\n",
    "    S=np.zeros(n_step)\n",
    "    S[0]=S_0\n",
    "    rand=np.random.standard_normal(n_step)\n",
    "    for i in range(1,n_step):\n",
    "        S[i]=S[i-1]*np.exp((r-0.5*sigma**2)*dt+sigma*np.sqrt(dt)*rand[i])\n",
    "    return S    "
   ]
  },
  {
   "cell_type": "markdown",
   "metadata": {},
   "source": [
    "### Реализуем пошаговый процесс репикации опциона (создания портфеля, воспроизводящего стоимость опциона)"
   ]
  },
  {
   "cell_type": "code",
   "execution_count": 112,
   "metadata": {
    "collapsed": true
   },
   "outputs": [],
   "source": [
    "r=0.0024\n",
    "T=30/250\n",
    "sigma=0.2# годовое значение\n",
    "n_step=int(T*250)\n",
    "dt=1/250"
   ]
  },
  {
   "cell_type": "code",
   "execution_count": 113,
   "metadata": {
    "collapsed": true
   },
   "outputs": [],
   "source": [
    "S=np.zeros(n_step) # массив цен акци\n",
    "Delta=np.zeros(n_step)# массив дельт\n",
    "Option_theor=np.zeros(n_step)# массив теоретических цен\n",
    "S_Delta=np.zeros(n_step)# произведение цен и дельт\n",
    "Bond=np.zeros(n_step)# денежная позиция\n",
    "Replicate=np.zeros(n_step)# репликация"
   ]
  },
  {
   "cell_type": "markdown",
   "metadata": {},
   "source": [
    "### Расчет первоначальных значений параметров"
   ]
  },
  {
   "cell_type": "code",
   "execution_count": 114,
   "metadata": {
    "collapsed": true
   },
   "outputs": [],
   "source": [
    "S[0]=S_0"
   ]
  },
  {
   "cell_type": "code",
   "execution_count": 115,
   "metadata": {
    "collapsed": true
   },
   "outputs": [],
   "source": [
    "option=BSM(S_0,K,r,T,sigma,t=0,is_call=False)"
   ]
  },
  {
   "cell_type": "code",
   "execution_count": 116,
   "metadata": {},
   "outputs": [
    {
     "name": "stdout",
     "output_type": "stream",
     "text": [
      "2.5424482978\n"
     ]
    }
   ],
   "source": [
    "Option_theor[0]=option.get_price()\n",
    "Replicate[0]=Option_theor[0]\n",
    "print(Option_theor[0])"
   ]
  },
  {
   "cell_type": "code",
   "execution_count": 117,
   "metadata": {},
   "outputs": [
    {
     "name": "stdout",
     "output_type": "stream",
     "text": [
      "-0.444265008114\n"
     ]
    }
   ],
   "source": [
    "Delta[0]=option.get_delta()\n",
    "S_Delta[0]=S[0]*Delta[0]\n",
    "print(Delta[0])"
   ]
  },
  {
   "cell_type": "code",
   "execution_count": 118,
   "metadata": {},
   "outputs": [
    {
     "name": "stdout",
     "output_type": "stream",
     "text": [
      "49.5190293672\n"
     ]
    }
   ],
   "source": [
    "Bond[0]=Option_theor[0]-S_Delta[0]\n",
    "print(Bond[0])"
   ]
  },
  {
   "cell_type": "code",
   "execution_count": 119,
   "metadata": {
    "collapsed": true
   },
   "outputs": [],
   "source": [
    "S=GBM(n_step,S_0,r,sigma,dt)# моделирование динамики"
   ]
  },
  {
   "cell_type": "code",
   "execution_count": 120,
   "metadata": {},
   "outputs": [
    {
     "data": {
      "image/png": "[encoded data removed]",
      "text/plain": [
       "<Figure size 720x432 with 1 Axes>"
      ]
     },
     "metadata": {},
     "output_type": "display_data"
    }
   ],
   "source": [
    "plt.figure(figsize=(10,6))\n",
    "_=plt.plot(S)\n",
    "_=plt.title(u'Моделирование динамики акций MSFT',fontsize=18)"
   ]
  },
  {
   "cell_type": "markdown",
   "metadata": {},
   "source": [
    "### Пошаговая репликация"
   ]
  },
  {
   "cell_type": "code",
   "execution_count": 121,
   "metadata": {
    "collapsed": true
   },
   "outputs": [],
   "source": [
    "for i in range(1,n_step):\n",
    "    option=BSM(S[i],K,r,T,sigma,is_call=False,t=i/250)\n",
    "    Option_theor[i]=option.get_price()\n",
    "    Delta[i]=option.get_delta()\n",
    "    S_Delta[i]=S[i]*Delta[i]\n",
    "    Replicate[i]=Replicate[i-1]+(S[i]-S[i-1])*Delta[i-1]+Bond[i-1]*(np.exp(r/250)-1)\n",
    "    Bond[i]=Option_theor[i]-S_Delta[i]"
   ]
  },
  {
   "cell_type": "code",
   "execution_count": 122,
   "metadata": {},
   "outputs": [
    {
     "data": {
      "text/html": [
       "<div>\n",
       "<style scoped>\n",
       "    .dataframe tbody tr th:only-of-type {\n",
       "        vertical-align: middle;\n",
       "    }\n",
       "\n",
       "    .dataframe tbody tr th {\n",
       "        vertical-align: top;\n",
       "    }\n",
       "\n",
       "    .dataframe thead th {\n",
       "        text-align: right;\n",
       "    }\n",
       "</style>\n",
       "<table border=\"1\" class=\"dataframe\">\n",
       "  <thead>\n",
       "    <tr style=\"text-align: right;\">\n",
       "      <th></th>\n",
       "      <th>S</th>\n",
       "      <th>Theor_price</th>\n",
       "      <th>Replicate</th>\n",
       "      <th>Delta</th>\n",
       "      <th>Delta*Price</th>\n",
       "      <th>Bond</th>\n",
       "    </tr>\n",
       "  </thead>\n",
       "  <tbody>\n",
       "    <tr>\n",
       "      <th>0</th>\n",
       "      <td>105.739998</td>\n",
       "      <td>2.542448</td>\n",
       "      <td>2.542448</td>\n",
       "      <td>-0.444265</td>\n",
       "      <td>-46.976581</td>\n",
       "      <td>49.519029</td>\n",
       "    </tr>\n",
       "    <tr>\n",
       "      <th>1</th>\n",
       "      <td>106.802292</td>\n",
       "      <td>2.053369</td>\n",
       "      <td>2.070984</td>\n",
       "      <td>-0.386676</td>\n",
       "      <td>-41.297852</td>\n",
       "      <td>43.351222</td>\n",
       "    </tr>\n",
       "    <tr>\n",
       "      <th>2</th>\n",
       "      <td>104.557346</td>\n",
       "      <td>3.009034</td>\n",
       "      <td>2.939466</td>\n",
       "      <td>-0.510226</td>\n",
       "      <td>-53.347878</td>\n",
       "      <td>56.356911</td>\n",
       "    </tr>\n",
       "    <tr>\n",
       "      <th>3</th>\n",
       "      <td>105.068196</td>\n",
       "      <td>2.705822</td>\n",
       "      <td>2.679358</td>\n",
       "      <td>-0.481382</td>\n",
       "      <td>-50.577936</td>\n",
       "      <td>53.283759</td>\n",
       "    </tr>\n",
       "    <tr>\n",
       "      <th>4</th>\n",
       "      <td>105.817318</td>\n",
       "      <td>2.310544</td>\n",
       "      <td>2.319256</td>\n",
       "      <td>-0.437884</td>\n",
       "      <td>-46.335675</td>\n",
       "      <td>48.646219</td>\n",
       "    </tr>\n",
       "  </tbody>\n",
       "</table>\n",
       "</div>"
      ],
      "text/plain": [
       "            S  Theor_price  Replicate     Delta  Delta*Price       Bond\n",
       "0  105.739998     2.542448   2.542448 -0.444265   -46.976581  49.519029\n",
       "1  106.802292     2.053369   2.070984 -0.386676   -41.297852  43.351222\n",
       "2  104.557346     3.009034   2.939466 -0.510226   -53.347878  56.356911\n",
       "3  105.068196     2.705822   2.679358 -0.481382   -50.577936  53.283759\n",
       "4  105.817318     2.310544   2.319256 -0.437884   -46.335675  48.646219"
      ]
     },
     "execution_count": 122,
     "metadata": {},
     "output_type": "execute_result"
    }
   ],
   "source": [
    "pd.DataFrame(zip(S,Option_theor,Replicate,Delta,S_Delta,Bond),\\\n",
    "             columns=['S','Theor_price','Replicate','Delta','Delta*Price','Bond']).head()"
   ]
  },
  {
   "cell_type": "markdown",
   "metadata": {
    "collapsed": true
   },
   "source": [
    "## 8. Показатель чувствительности Vega"
   ]
  },
  {
   "cell_type": "markdown",
   "metadata": {},
   "source": [
    "### Расчет показателя vega приведен в лекционных материалах"
   ]
  },
  {
   "cell_type": "code",
   "execution_count": 97,
   "metadata": {},
   "outputs": [
    {
     "data": {
      "text/plain": [
       "array([ 101.,  102.,  103.,  104.,  105.,  106.,  107.,  108.,  109.,  110.])"
      ]
     },
     "execution_count": 97,
     "metadata": {},
     "output_type": "execute_result"
    }
   ],
   "source": [
    "strikes_range"
   ]
  },
  {
   "cell_type": "code",
   "execution_count": 98,
   "metadata": {
    "collapsed": true
   },
   "outputs": [],
   "source": [
    "prices_market=np.array((cboe_MSFT_call.high+cboe_MSFT_call.low)/2)"
   ]
  },
  {
   "cell_type": "code",
   "execution_count": 99,
   "metadata": {},
   "outputs": [
    {
     "data": {
      "text/plain": [
       "array([ 4.425,  3.345,  2.625,  1.96 ,  1.325,  1.04 ,  0.7  ,  0.475,\n",
       "        0.29 ,  0.195])"
      ]
     },
     "execution_count": 99,
     "metadata": {},
     "output_type": "execute_result"
    }
   ],
   "source": [
    "prices_market"
   ]
  },
  {
   "cell_type": "markdown",
   "metadata": {},
   "source": [
    "### Нахождение оптимального згачения IV методои Ньютона-Рафсона"
   ]
  },
  {
   "cell_type": "markdown",
   "metadata": {},
   "source": [
    "### $\\sigma_{i+1}=\\sigma_{i}-\\frac{c(\\sigma_{i})-c_m}{Vega}$"
   ]
  },
  {
   "cell_type": "markdown",
   "metadata": {},
   "source": [
    "### Для корректной реализации алгоритма необходимо, чтобы рыночная стоимость была не меньше внутренней стоимости"
   ]
  },
  {
   "cell_type": "code",
   "execution_count": 100,
   "metadata": {
    "collapsed": true
   },
   "outputs": [],
   "source": [
    "# Newton-Raphson\n",
    "T=days/250\n",
    "sigma_list=[]\n",
    "tol=0.001\n",
    "for  strike,price in zip(strikes_range,prices_market):\n",
    "    if (strike+price)>S_0:\n",
    "        sigma=0.3\n",
    "        diff=1000\n",
    "        while (diff>tol):\n",
    "            option=BSM(S_0,strike,r,T,sigma,div=div_y)\n",
    "            Price_theor=option.get_price()\n",
    "            Vega = option.get_vega()\n",
    "            sigma_prev=sigma\n",
    "            sigma=sigma_prev-(Price_theor-price)/Vega\n",
    "            diff=abs(price-Price_theor) \n",
    "        sigma_list.append((sigma,strike,Vega))     "
   ]
  },
  {
   "cell_type": "markdown",
   "metadata": {},
   "source": [
    "### Массив значений показателя вега для каждого страйка"
   ]
  },
  {
   "cell_type": "code",
   "execution_count": 101,
   "metadata": {},
   "outputs": [
    {
     "data": {
      "text/plain": [
       "[(0.10084287049459857, 104.0, 6.6079476293180459),\n",
       " (0.10802093790259858, 105.0, 8.4780137784015395),\n",
       " (0.1351971564975768, 106.0, 8.8084641190542339),\n",
       " (0.14093950553924933, 107.0, 8.1423048529540569),\n",
       " (0.14842596323524512, 108.0, 7.0028910345540689),\n",
       " (0.15017954916369639, 109.0, 5.534330152299173),\n",
       " (0.15781784743843214, 110.0, 4.327163279545891)]"
      ]
     },
     "execution_count": 101,
     "metadata": {},
     "output_type": "execute_result"
    }
   ],
   "source": [
    "sigma_list "
   ]
  },
  {
   "cell_type": "code",
   "execution_count": 102,
   "metadata": {},
   "outputs": [
    {
     "data": {
      "image/png": "[encoded data removed]",
      "text/plain": [
       "<Figure size 720x432 with 1 Axes>"
      ]
     },
     "metadata": {},
     "output_type": "display_data"
    }
   ],
   "source": [
    "plt.figure(figsize=(10,6))\n",
    "_=plt.plot(cboe_MSFT_call.strike,cboe_MSFT_call.implied_volatility_1545)\n",
    "_=plt.xlabel('Strike', fontsize=18)\n",
    "_=plt.ylabel('IV', fontsize=18)\n",
    "_=plt.title('Implied Volatility',fontsize=18)"
   ]
  },
  {
   "cell_type": "markdown",
   "metadata": {
    "collapsed": true
   },
   "source": [
    "## 9.Задание"
   ]
  },
  {
   "cell_type": "markdown",
   "metadata": {
    "collapsed": true
   },
   "source": [
    "### 1. Выбрать для  анализа рынка опционов одну компанию. Для данной компании выбрать одну дату экспирации и сформировать цепочку страйков (примерно 5 страйков в каждую сторону от ATM).\n",
    "### 2. Рассчитать теоретические стоимости опционов с помощью моделей CRR и BSM и сравнить их с рыночными ценами. \n",
    "### 3. Рассчитать параметры для двух опционных стратегий и визуализировать результат\n",
    "### 4. Провести моделирование динамики цены акции и реализовать процедуру дельта-хеджирования\n",
    "### 5. Расситать показатель IV для цепочки страйков\n",
    "### 6. Сделать общие выводы по результатам проведенного исследования\n"
   ]
  },
  {
   "cell_type": "code",
   "execution_count": null,
   "metadata": {
    "collapsed": true
   },
   "outputs": [],
   "source": []
  }
 ],
 "metadata": {
  "kernelspec": {
   "display_name": "Python 2",
   "language": "python",
   "name": "python2"
  },
  "language_info": {
   "codemirror_mode": {
    "name": "ipython",
    "version": 2
   },
   "file_extension": ".py",
   "mimetype": "text/x-python",
   "name": "python",
   "nbconvert_exporter": "python",
   "pygments_lexer": "ipython2",
   "version": "2.7.15"
  }
 },
 "nbformat": 4,
 "nbformat_minor": 2
}
