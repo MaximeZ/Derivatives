{
 "cells": [
  {
   "cell_type": "markdown",
   "metadata": {
    "collapsed": true
   },
   "source": [
    "# Задание 4. Расчет форвардных валютных курсов и процентных ставок"
   ]
  },
  {
   "cell_type": "markdown",
   "metadata": {
    "collapsed": true
   },
   "source": [
    "## Цель задания:\n",
    "### 1. Получить навыки работы с источниками информации о денежном рынке\n",
    "### 2. Преобразовать данные по  разным инструментам в сопоставимый формат\n",
    "### 3. Построить кривые доходности и форвардную кривую для валютного курса \n",
    "### 4. Рассчитать форвардные ставки\n",
    "### 5. Рассчитать форвардные курсы"
   ]
  },
  {
   "cell_type": "markdown",
   "metadata": {},
   "source": [
    "## 1.Загрузка библиотек"
   ]
  },
  {
   "cell_type": "code",
   "execution_count": 1,
   "metadata": {
    "collapsed": true
   },
   "outputs": [],
   "source": [
    "import numpy as np\n",
    "import pandas as pd"
   ]
  },
  {
   "cell_type": "code",
   "execution_count": 2,
   "metadata": {
    "collapsed": true
   },
   "outputs": [],
   "source": [
    "from __future__ import division"
   ]
  },
  {
   "cell_type": "code",
   "execution_count": 3,
   "metadata": {
    "collapsed": true
   },
   "outputs": [],
   "source": [
    "from datetime import datetime,timedelta"
   ]
  },
  {
   "cell_type": "code",
   "execution_count": 4,
   "metadata": {
    "collapsed": true
   },
   "outputs": [],
   "source": [
    "from collections import OrderedDict "
   ]
  },
  {
   "cell_type": "code",
   "execution_count": 5,
   "metadata": {
    "collapsed": true
   },
   "outputs": [],
   "source": [
    "import matplotlib.pyplot as plt # графическая библиотека\n",
    "%matplotlib inline "
   ]
  },
  {
   "cell_type": "markdown",
   "metadata": {
    "collapsed": true
   },
   "source": [
    "## 2.Загрузка данных и их преобразование в необходимый формат"
   ]
  },
  {
   "cell_type": "markdown",
   "metadata": {},
   "source": [
    "### LIBOR (сайт http://iborate.com/ )"
   ]
  },
  {
   "cell_type": "code",
   "execution_count": 6,
   "metadata": {
    "collapsed": true
   },
   "outputs": [],
   "source": [
    "path='/home/maxime/Documentos/Derivatives/LIBOR/'"
   ]
  },
  {
   "cell_type": "code",
   "execution_count": 7,
   "metadata": {
    "collapsed": true
   },
   "outputs": [],
   "source": [
    "LIBOR=pd.read_csv(path+'LIBOR USD.csv')"
   ]
  },
  {
   "cell_type": "code",
   "execution_count": 8,
   "metadata": {},
   "outputs": [
    {
     "data": {
      "text/html": [
       "<div>\n",
       "<style scoped>\n",
       "    .dataframe tbody tr th:only-of-type {\n",
       "        vertical-align: middle;\n",
       "    }\n",
       "\n",
       "    .dataframe tbody tr th {\n",
       "        vertical-align: top;\n",
       "    }\n",
       "\n",
       "    .dataframe thead th {\n",
       "        text-align: right;\n",
       "    }\n",
       "</style>\n",
       "<table border=\"1\" class=\"dataframe\">\n",
       "  <thead>\n",
       "    <tr style=\"text-align: right;\">\n",
       "      <th></th>\n",
       "      <th>Date</th>\n",
       "      <th>Week day</th>\n",
       "      <th>ON</th>\n",
       "      <th>1W</th>\n",
       "      <th>1M</th>\n",
       "      <th>2M</th>\n",
       "      <th>3M</th>\n",
       "      <th>6M</th>\n",
       "      <th>12M</th>\n",
       "    </tr>\n",
       "  </thead>\n",
       "  <tbody>\n",
       "    <tr>\n",
       "      <th>0</th>\n",
       "      <td>31.12.2018</td>\n",
       "      <td>Mon</td>\n",
       "      <td>2.37825</td>\n",
       "      <td>2.41138</td>\n",
       "      <td>2.50269</td>\n",
       "      <td>2.61375</td>\n",
       "      <td>2.80763</td>\n",
       "      <td>2.87563</td>\n",
       "      <td>3.00544</td>\n",
       "    </tr>\n",
       "    <tr>\n",
       "      <th>1</th>\n",
       "      <td>28.12.2018</td>\n",
       "      <td>Fri</td>\n",
       "      <td>2.39238</td>\n",
       "      <td>2.41588</td>\n",
       "      <td>2.51988</td>\n",
       "      <td>2.61950</td>\n",
       "      <td>2.79700</td>\n",
       "      <td>2.87313</td>\n",
       "      <td>3.01313</td>\n",
       "    </tr>\n",
       "    <tr>\n",
       "      <th>2</th>\n",
       "      <td>27.12.2018</td>\n",
       "      <td>Thu</td>\n",
       "      <td>2.39100</td>\n",
       "      <td>2.41963</td>\n",
       "      <td>2.52238</td>\n",
       "      <td>2.61900</td>\n",
       "      <td>2.80300</td>\n",
       "      <td>2.88300</td>\n",
       "      <td>3.03238</td>\n",
       "    </tr>\n",
       "    <tr>\n",
       "      <th>3</th>\n",
       "      <td>24.12.2018</td>\n",
       "      <td>Mon</td>\n",
       "      <td>2.38988</td>\n",
       "      <td>2.41863</td>\n",
       "      <td>2.50563</td>\n",
       "      <td>2.61175</td>\n",
       "      <td>2.81344</td>\n",
       "      <td>2.89375</td>\n",
       "      <td>3.04788</td>\n",
       "    </tr>\n",
       "    <tr>\n",
       "      <th>4</th>\n",
       "      <td>21.12.2018</td>\n",
       "      <td>Fri</td>\n",
       "      <td>2.39163</td>\n",
       "      <td>2.41600</td>\n",
       "      <td>2.50625</td>\n",
       "      <td>2.61188</td>\n",
       "      <td>2.82163</td>\n",
       "      <td>2.90788</td>\n",
       "      <td>3.07313</td>\n",
       "    </tr>\n",
       "  </tbody>\n",
       "</table>\n",
       "</div>"
      ],
      "text/plain": [
       "         Date Week day       ON       1W       1M       2M       3M       6M  \\\n",
       "0  31.12.2018      Mon  2.37825  2.41138  2.50269  2.61375  2.80763  2.87563   \n",
       "1  28.12.2018      Fri  2.39238  2.41588  2.51988  2.61950  2.79700  2.87313   \n",
       "2  27.12.2018      Thu  2.39100  2.41963  2.52238  2.61900  2.80300  2.88300   \n",
       "3  24.12.2018      Mon  2.38988  2.41863  2.50563  2.61175  2.81344  2.89375   \n",
       "4  21.12.2018      Fri  2.39163  2.41600  2.50625  2.61188  2.82163  2.90788   \n",
       "\n",
       "       12M  \n",
       "0  3.00544  \n",
       "1  3.01313  \n",
       "2  3.03238  \n",
       "3  3.04788  \n",
       "4  3.07313  "
      ]
     },
     "execution_count": 8,
     "metadata": {},
     "output_type": "execute_result"
    }
   ],
   "source": [
    "LIBOR.head()"
   ]
  },
  {
   "cell_type": "code",
   "execution_count": 9,
   "metadata": {
    "collapsed": true
   },
   "outputs": [],
   "source": [
    "LIBOR['Date']=LIBOR['Date'].apply(lambda x:datetime.strptime(x, '%d.%m.%Y')) \n",
    "### преобразование поля даты в необходимый формат"
   ]
  },
  {
   "cell_type": "code",
   "execution_count": 10,
   "metadata": {},
   "outputs": [
    {
     "data": {
      "text/plain": [
       "Date        datetime64[ns]\n",
       "Week day            object\n",
       "ON                 float64\n",
       "1W                 float64\n",
       "1M                 float64\n",
       "2M                 float64\n",
       "3M                 float64\n",
       "6M                 float64\n",
       "12M                float64\n",
       "dtype: object"
      ]
     },
     "execution_count": 10,
     "metadata": {},
     "output_type": "execute_result"
    }
   ],
   "source": [
    "LIBOR.dtypes"
   ]
  },
  {
   "cell_type": "code",
   "execution_count": 11,
   "metadata": {},
   "outputs": [
    {
     "data": {
      "text/plain": [
       "(504, 9)"
      ]
     },
     "execution_count": 11,
     "metadata": {},
     "output_type": "execute_result"
    }
   ],
   "source": [
    "LIBOR.shape"
   ]
  },
  {
   "cell_type": "code",
   "execution_count": 12,
   "metadata": {},
   "outputs": [
    {
     "data": {
      "text/plain": [
       "Date         0\n",
       "Week day     0\n",
       "ON          10\n",
       "1W           0\n",
       "1M           0\n",
       "2M           0\n",
       "3M           0\n",
       "6M           0\n",
       "12M          0\n",
       "dtype: int64"
      ]
     },
     "execution_count": 12,
     "metadata": {},
     "output_type": "execute_result"
    }
   ],
   "source": [
    "LIBOR.isna().sum()"
   ]
  },
  {
   "cell_type": "code",
   "execution_count": 13,
   "metadata": {
    "collapsed": true
   },
   "outputs": [],
   "source": [
    "LIBOR=LIBOR.drop('Week day',axis=1)### удалим ненужные поля"
   ]
  },
  {
   "cell_type": "markdown",
   "metadata": {},
   "source": [
    "### Курс рубль/доллар (сайт ЦБ РФ )"
   ]
  },
  {
   "cell_type": "code",
   "execution_count": 14,
   "metadata": {
    "collapsed": true
   },
   "outputs": [],
   "source": [
    "USD_RUB=pd.read_excel(path+'RC_F01_01_2017_T01_01_2019.xlsx',sheet_name='RC',header=None,skiprows=1,\n",
    "                      usecols=[1,2],names=['Date','USD_RUB'])"
   ]
  },
  {
   "cell_type": "code",
   "execution_count": 15,
   "metadata": {},
   "outputs": [
    {
     "data": {
      "text/plain": [
       "Date       datetime64[ns]\n",
       "USD_RUB           float64\n",
       "dtype: object"
      ]
     },
     "execution_count": 15,
     "metadata": {},
     "output_type": "execute_result"
    }
   ],
   "source": [
    "USD_RUB.dtypes"
   ]
  },
  {
   "cell_type": "markdown",
   "metadata": {},
   "source": [
    "### Для курса рубль/доллар необходимо \"перенести\" курс, установленный на выходные, на понедельник"
   ]
  },
  {
   "cell_type": "code",
   "execution_count": 16,
   "metadata": {
    "collapsed": true
   },
   "outputs": [],
   "source": [
    "USD_RUB['Weekday']=USD_RUB['Date'].dt.day_name()### дополнительное поле с днем недели"
   ]
  },
  {
   "cell_type": "code",
   "execution_count": 17,
   "metadata": {},
   "outputs": [
    {
     "data": {
      "text/plain": [
       "array(['Tuesday', 'Wednesday', 'Thursday', 'Friday', 'Saturday', 'Sunday'], dtype=object)"
      ]
     },
     "execution_count": 17,
     "metadata": {},
     "output_type": "execute_result"
    }
   ],
   "source": [
    "USD_RUB['Weekday'].unique()"
   ]
  },
  {
   "cell_type": "code",
   "execution_count": 18,
   "metadata": {},
   "outputs": [
    {
     "data": {
      "text/plain": [
       "(99, 3)"
      ]
     },
     "execution_count": 18,
     "metadata": {},
     "output_type": "execute_result"
    }
   ],
   "source": [
    "USD_RUB[USD_RUB['Weekday']=='Saturday'].shape"
   ]
  },
  {
   "cell_type": "code",
   "execution_count": 19,
   "metadata": {},
   "outputs": [
    {
     "data": {
      "text/plain": [
       "(3, 3)"
      ]
     },
     "execution_count": 19,
     "metadata": {},
     "output_type": "execute_result"
    }
   ],
   "source": [
    "USD_RUB[USD_RUB['Weekday']=='Sunday'].shape"
   ]
  },
  {
   "cell_type": "code",
   "execution_count": 20,
   "metadata": {},
   "outputs": [
    {
     "data": {
      "text/plain": [
       "(494, 3)"
      ]
     },
     "execution_count": 20,
     "metadata": {},
     "output_type": "execute_result"
    }
   ],
   "source": [
    "USD_RUB.shape"
   ]
  },
  {
   "cell_type": "code",
   "execution_count": 21,
   "metadata": {
    "collapsed": true
   },
   "outputs": [],
   "source": [
    "USD_RUB['Date']=USD_RUB['Date'].apply(lambda x: x+timedelta(days=2) if x.day_name()=='Saturday'  else x)\n",
    "### перенос курса с субботы на понедельник"
   ]
  },
  {
   "cell_type": "code",
   "execution_count": 22,
   "metadata": {},
   "outputs": [
    {
     "data": {
      "text/html": [
       "<div>\n",
       "<style scoped>\n",
       "    .dataframe tbody tr th:only-of-type {\n",
       "        vertical-align: middle;\n",
       "    }\n",
       "\n",
       "    .dataframe tbody tr th {\n",
       "        vertical-align: top;\n",
       "    }\n",
       "\n",
       "    .dataframe thead th {\n",
       "        text-align: right;\n",
       "    }\n",
       "</style>\n",
       "<table border=\"1\" class=\"dataframe\">\n",
       "  <thead>\n",
       "    <tr style=\"text-align: right;\">\n",
       "      <th></th>\n",
       "      <th>Date</th>\n",
       "      <th>USD_RUB</th>\n",
       "      <th>Weekday</th>\n",
       "    </tr>\n",
       "  </thead>\n",
       "  <tbody>\n",
       "    <tr>\n",
       "      <th>0</th>\n",
       "      <td>2017-01-10</td>\n",
       "      <td>59.8961</td>\n",
       "      <td>Tuesday</td>\n",
       "    </tr>\n",
       "    <tr>\n",
       "      <th>1</th>\n",
       "      <td>2017-01-11</td>\n",
       "      <td>59.9533</td>\n",
       "      <td>Wednesday</td>\n",
       "    </tr>\n",
       "    <tr>\n",
       "      <th>2</th>\n",
       "      <td>2017-01-12</td>\n",
       "      <td>60.1614</td>\n",
       "      <td>Thursday</td>\n",
       "    </tr>\n",
       "    <tr>\n",
       "      <th>3</th>\n",
       "      <td>2017-01-13</td>\n",
       "      <td>59.4978</td>\n",
       "      <td>Friday</td>\n",
       "    </tr>\n",
       "    <tr>\n",
       "      <th>4</th>\n",
       "      <td>2017-01-16</td>\n",
       "      <td>59.3700</td>\n",
       "      <td>Saturday</td>\n",
       "    </tr>\n",
       "  </tbody>\n",
       "</table>\n",
       "</div>"
      ],
      "text/plain": [
       "        Date  USD_RUB    Weekday\n",
       "0 2017-01-10  59.8961    Tuesday\n",
       "1 2017-01-11  59.9533  Wednesday\n",
       "2 2017-01-12  60.1614   Thursday\n",
       "3 2017-01-13  59.4978     Friday\n",
       "4 2017-01-16  59.3700   Saturday"
      ]
     },
     "execution_count": 22,
     "metadata": {},
     "output_type": "execute_result"
    }
   ],
   "source": [
    "USD_RUB.head()"
   ]
  },
  {
   "cell_type": "code",
   "execution_count": 23,
   "metadata": {},
   "outputs": [
    {
     "data": {
      "text/plain": [
       "Date       datetime64[ns]\n",
       "USD_RUB           float64\n",
       "Weekday            object\n",
       "dtype: object"
      ]
     },
     "execution_count": 23,
     "metadata": {},
     "output_type": "execute_result"
    }
   ],
   "source": [
    "USD_RUB.dtypes"
   ]
  },
  {
   "cell_type": "code",
   "execution_count": 24,
   "metadata": {},
   "outputs": [
    {
     "data": {
      "text/plain": [
       "Date       0\n",
       "USD_RUB    0\n",
       "Weekday    0\n",
       "dtype: int64"
      ]
     },
     "execution_count": 24,
     "metadata": {},
     "output_type": "execute_result"
    }
   ],
   "source": [
    "USD_RUB.isna().sum()"
   ]
  },
  {
   "cell_type": "code",
   "execution_count": 25,
   "metadata": {
    "collapsed": true
   },
   "outputs": [],
   "source": [
    "USD_RUB=USD_RUB.drop('Weekday',axis=1)"
   ]
  },
  {
   "cell_type": "markdown",
   "metadata": {},
   "source": [
    "### MOSPRIME (сайт http://mosprime.com/ - Национальная валютная ассоциация )"
   ]
  },
  {
   "cell_type": "code",
   "execution_count": 26,
   "metadata": {
    "collapsed": true
   },
   "outputs": [],
   "source": [
    "MOSPRIME=pd.read_csv(path+'mosprime_export_2017.01.09-2018.12.29.csv',skiprows=4,delimiter=';',names=\n",
    "                    ['Date','ON','1W','2W','1M','2M','3M','6M'])"
   ]
  },
  {
   "cell_type": "code",
   "execution_count": 27,
   "metadata": {},
   "outputs": [
    {
     "data": {
      "text/plain": [
       "Date    object\n",
       "ON      object\n",
       "1W      object\n",
       "2W      object\n",
       "1M      object\n",
       "2M      object\n",
       "3M      object\n",
       "6M      object\n",
       "dtype: object"
      ]
     },
     "execution_count": 27,
     "metadata": {},
     "output_type": "execute_result"
    }
   ],
   "source": [
    "MOSPRIME.dtypes"
   ]
  },
  {
   "cell_type": "code",
   "execution_count": 28,
   "metadata": {},
   "outputs": [
    {
     "data": {
      "text/html": [
       "<div>\n",
       "<style scoped>\n",
       "    .dataframe tbody tr th:only-of-type {\n",
       "        vertical-align: middle;\n",
       "    }\n",
       "\n",
       "    .dataframe tbody tr th {\n",
       "        vertical-align: top;\n",
       "    }\n",
       "\n",
       "    .dataframe thead th {\n",
       "        text-align: right;\n",
       "    }\n",
       "</style>\n",
       "<table border=\"1\" class=\"dataframe\">\n",
       "  <thead>\n",
       "    <tr style=\"text-align: right;\">\n",
       "      <th></th>\n",
       "      <th>Date</th>\n",
       "      <th>ON</th>\n",
       "      <th>1W</th>\n",
       "      <th>2W</th>\n",
       "      <th>1M</th>\n",
       "      <th>2M</th>\n",
       "      <th>3M</th>\n",
       "      <th>6M</th>\n",
       "    </tr>\n",
       "  </thead>\n",
       "  <tbody>\n",
       "    <tr>\n",
       "      <th>0</th>\n",
       "      <td>09.01.2017</td>\n",
       "      <td>10,46</td>\n",
       "      <td>10,44</td>\n",
       "      <td>10,47</td>\n",
       "      <td>10,52</td>\n",
       "      <td>10,58</td>\n",
       "      <td>10,58</td>\n",
       "      <td>10,58</td>\n",
       "    </tr>\n",
       "    <tr>\n",
       "      <th>1</th>\n",
       "      <td>10.01.2017</td>\n",
       "      <td>10,21</td>\n",
       "      <td>10,40</td>\n",
       "      <td>10,48</td>\n",
       "      <td>10,53</td>\n",
       "      <td>10,59</td>\n",
       "      <td>10,59</td>\n",
       "      <td>10,59</td>\n",
       "    </tr>\n",
       "    <tr>\n",
       "      <th>2</th>\n",
       "      <td>11.01.2017</td>\n",
       "      <td>10,23</td>\n",
       "      <td>10,40</td>\n",
       "      <td>10,48</td>\n",
       "      <td>10,53</td>\n",
       "      <td>10,59</td>\n",
       "      <td>10,59</td>\n",
       "      <td>10,59</td>\n",
       "    </tr>\n",
       "    <tr>\n",
       "      <th>3</th>\n",
       "      <td>12.01.2017</td>\n",
       "      <td>10,23</td>\n",
       "      <td>10,42</td>\n",
       "      <td>10,48</td>\n",
       "      <td>10,53</td>\n",
       "      <td>10,59</td>\n",
       "      <td>10,59</td>\n",
       "      <td>10,59</td>\n",
       "    </tr>\n",
       "    <tr>\n",
       "      <th>4</th>\n",
       "      <td>13.01.2017</td>\n",
       "      <td>10,27</td>\n",
       "      <td>10,40</td>\n",
       "      <td>10,45</td>\n",
       "      <td>10,51</td>\n",
       "      <td>10,58</td>\n",
       "      <td>10,59</td>\n",
       "      <td>10,59</td>\n",
       "    </tr>\n",
       "  </tbody>\n",
       "</table>\n",
       "</div>"
      ],
      "text/plain": [
       "         Date     ON     1W     2W     1M     2M     3M     6M\n",
       "0  09.01.2017  10,46  10,44  10,47  10,52  10,58  10,58  10,58\n",
       "1  10.01.2017  10,21  10,40  10,48  10,53  10,59  10,59  10,59\n",
       "2  11.01.2017  10,23  10,40  10,48  10,53  10,59  10,59  10,59\n",
       "3  12.01.2017  10,23  10,42  10,48  10,53  10,59  10,59  10,59\n",
       "4  13.01.2017  10,27  10,40  10,45  10,51  10,58  10,59  10,59"
      ]
     },
     "execution_count": 28,
     "metadata": {},
     "output_type": "execute_result"
    }
   ],
   "source": [
    "MOSPRIME.head()"
   ]
  },
  {
   "cell_type": "code",
   "execution_count": 29,
   "metadata": {
    "collapsed": true
   },
   "outputs": [],
   "source": [
    "MOSPRIME['Date']=MOSPRIME['Date'].apply(lambda x:datetime.strptime(x, '%d.%m.%Y'))\n",
    "# преобразование поля даты в необходимый формат"
   ]
  },
  {
   "cell_type": "code",
   "execution_count": 30,
   "metadata": {},
   "outputs": [
    {
     "data": {
      "text/html": [
       "<div>\n",
       "<style scoped>\n",
       "    .dataframe tbody tr th:only-of-type {\n",
       "        vertical-align: middle;\n",
       "    }\n",
       "\n",
       "    .dataframe tbody tr th {\n",
       "        vertical-align: top;\n",
       "    }\n",
       "\n",
       "    .dataframe thead th {\n",
       "        text-align: right;\n",
       "    }\n",
       "</style>\n",
       "<table border=\"1\" class=\"dataframe\">\n",
       "  <thead>\n",
       "    <tr style=\"text-align: right;\">\n",
       "      <th></th>\n",
       "      <th>Date</th>\n",
       "      <th>ON</th>\n",
       "      <th>1W</th>\n",
       "      <th>2W</th>\n",
       "      <th>1M</th>\n",
       "      <th>2M</th>\n",
       "      <th>3M</th>\n",
       "      <th>6M</th>\n",
       "    </tr>\n",
       "  </thead>\n",
       "  <tbody>\n",
       "    <tr>\n",
       "      <th>489</th>\n",
       "      <td>2018-12-25</td>\n",
       "      <td>7,94</td>\n",
       "      <td>8,05</td>\n",
       "      <td>8,13</td>\n",
       "      <td>8,28</td>\n",
       "      <td>8,58</td>\n",
       "      <td>8,61</td>\n",
       "      <td>8,70</td>\n",
       "    </tr>\n",
       "    <tr>\n",
       "      <th>490</th>\n",
       "      <td>2018-12-26</td>\n",
       "      <td>7,90</td>\n",
       "      <td>8,03</td>\n",
       "      <td>8,13</td>\n",
       "      <td>8,28</td>\n",
       "      <td>8,58</td>\n",
       "      <td>8,61</td>\n",
       "      <td>8,70</td>\n",
       "    </tr>\n",
       "    <tr>\n",
       "      <th>491</th>\n",
       "      <td>2018-12-27</td>\n",
       "      <td>7,90</td>\n",
       "      <td>8,03</td>\n",
       "      <td>8,12</td>\n",
       "      <td>8,26</td>\n",
       "      <td>8,58</td>\n",
       "      <td>8,65</td>\n",
       "      <td>8,71</td>\n",
       "    </tr>\n",
       "    <tr>\n",
       "      <th>492</th>\n",
       "      <td>2018-12-28</td>\n",
       "      <td>7,65</td>\n",
       "      <td>7,94</td>\n",
       "      <td>8,08</td>\n",
       "      <td>8,24</td>\n",
       "      <td>8,55</td>\n",
       "      <td>8,59</td>\n",
       "      <td>8,68</td>\n",
       "    </tr>\n",
       "    <tr>\n",
       "      <th>493</th>\n",
       "      <td>2018-12-29</td>\n",
       "      <td>-</td>\n",
       "      <td>7,98</td>\n",
       "      <td>8,10</td>\n",
       "      <td>8,22</td>\n",
       "      <td>8,55</td>\n",
       "      <td>8,58</td>\n",
       "      <td>8,67</td>\n",
       "    </tr>\n",
       "  </tbody>\n",
       "</table>\n",
       "</div>"
      ],
      "text/plain": [
       "          Date    ON    1W    2W    1M    2M    3M    6M\n",
       "489 2018-12-25  7,94  8,05  8,13  8,28  8,58  8,61  8,70\n",
       "490 2018-12-26  7,90  8,03  8,13  8,28  8,58  8,61  8,70\n",
       "491 2018-12-27  7,90  8,03  8,12  8,26  8,58  8,65  8,71\n",
       "492 2018-12-28  7,65  7,94  8,08  8,24  8,55  8,59  8,68\n",
       "493 2018-12-29     -  7,98  8,10  8,22  8,55  8,58  8,67"
      ]
     },
     "execution_count": 30,
     "metadata": {},
     "output_type": "execute_result"
    }
   ],
   "source": [
    "MOSPRIME.tail()"
   ]
  },
  {
   "cell_type": "code",
   "execution_count": 31,
   "metadata": {
    "collapsed": true
   },
   "outputs": [],
   "source": [
    "MOSPRIME[['ON','1W','2W','1M','2M','3M','6M']]=MOSPRIME[['ON','1W','2W','1M','2M','3M','6M']].applymap(\n",
    "    lambda x:(str(x).replace(',','.')))"
   ]
  },
  {
   "cell_type": "code",
   "execution_count": 32,
   "metadata": {
    "collapsed": true
   },
   "outputs": [],
   "source": [
    "MOSPRIME[['ON','1W','2W','1M','2M','3M','6M']]=MOSPRIME[['ON','1W','2W','1M','2M','3M','6M']].apply(\n",
    "    pd.to_numeric, errors='coerce')\n",
    "# преобразование полей  в числовой формат"
   ]
  },
  {
   "cell_type": "code",
   "execution_count": 33,
   "metadata": {},
   "outputs": [
    {
     "data": {
      "text/plain": [
       "(494, 8)"
      ]
     },
     "execution_count": 33,
     "metadata": {},
     "output_type": "execute_result"
    }
   ],
   "source": [
    "MOSPRIME.shape"
   ]
  },
  {
   "cell_type": "code",
   "execution_count": 34,
   "metadata": {},
   "outputs": [
    {
     "data": {
      "text/plain": [
       "Date    0\n",
       "ON      2\n",
       "1W      0\n",
       "2W      0\n",
       "1M      0\n",
       "2M      0\n",
       "3M      0\n",
       "6M      0\n",
       "dtype: int64"
      ]
     },
     "execution_count": 34,
     "metadata": {},
     "output_type": "execute_result"
    }
   ],
   "source": [
    "MOSPRIME.isna().sum()"
   ]
  },
  {
   "cell_type": "code",
   "execution_count": 35,
   "metadata": {
    "collapsed": true
   },
   "outputs": [],
   "source": [
    "term_dict=OrderedDict([(30,'1M'),(60,'2M'),(90,'3M'),(180,'6M'),(360,'12M')])\n",
    "# упорядоченный словарь для \"манипуляции\" сроками"
   ]
  },
  {
   "cell_type": "code",
   "execution_count": 36,
   "metadata": {},
   "outputs": [
    {
     "data": {
      "text/plain": [
       "[30, 60, 90, 180]"
      ]
     },
     "execution_count": 36,
     "metadata": {},
     "output_type": "execute_result"
    }
   ],
   "source": [
    "list(term_dict.keys())[:-1]"
   ]
  },
  {
   "cell_type": "markdown",
   "metadata": {},
   "source": [
    "### Совмещение трех массивов по датам"
   ]
  },
  {
   "cell_type": "code",
   "execution_count": 37,
   "metadata": {
    "collapsed": true
   },
   "outputs": [],
   "source": [
    "date_set=(set(USD_RUB.Date).intersection(set(MOSPRIME.Date))).intersection(set(LIBOR.Date))\n",
    "# пересечение дат во всех трех массивах"
   ]
  },
  {
   "cell_type": "code",
   "execution_count": 38,
   "metadata": {
    "collapsed": true
   },
   "outputs": [],
   "source": [
    "LIBOR=LIBOR[LIBOR['Date'].isin(date_set)]\n",
    "# оставляем даты, содержащиеся во всех трех массивах"
   ]
  },
  {
   "cell_type": "code",
   "execution_count": 39,
   "metadata": {},
   "outputs": [
    {
     "data": {
      "text/plain": [
       "(463, 8)"
      ]
     },
     "execution_count": 39,
     "metadata": {},
     "output_type": "execute_result"
    }
   ],
   "source": [
    "LIBOR.shape"
   ]
  },
  {
   "cell_type": "code",
   "execution_count": 40,
   "metadata": {
    "collapsed": true
   },
   "outputs": [],
   "source": [
    "USD_RUB=USD_RUB[USD_RUB['Date'].isin(date_set)]\n",
    "# оставляем даты, содержащиеся во всех трех массивах"
   ]
  },
  {
   "cell_type": "code",
   "execution_count": 41,
   "metadata": {},
   "outputs": [
    {
     "data": {
      "text/plain": [
       "(463, 2)"
      ]
     },
     "execution_count": 41,
     "metadata": {},
     "output_type": "execute_result"
    }
   ],
   "source": [
    "USD_RUB.shape"
   ]
  },
  {
   "cell_type": "code",
   "execution_count": 42,
   "metadata": {
    "collapsed": true
   },
   "outputs": [],
   "source": [
    "MOSPRIME=MOSPRIME[MOSPRIME['Date'].isin(date_set)]\n",
    "# оставляем даты, содержащиеся во всех трех базах"
   ]
  },
  {
   "cell_type": "code",
   "execution_count": 43,
   "metadata": {},
   "outputs": [
    {
     "data": {
      "text/plain": [
       "(463, 8)"
      ]
     },
     "execution_count": 43,
     "metadata": {},
     "output_type": "execute_result"
    }
   ],
   "source": [
    "MOSPRIME.shape"
   ]
  },
  {
   "cell_type": "code",
   "execution_count": 44,
   "metadata": {
    "collapsed": true
   },
   "outputs": [],
   "source": [
    "date_list=list(date_set)\n",
    "# создание вспомогательного отсортированного списка дат"
   ]
  },
  {
   "cell_type": "code",
   "execution_count": 45,
   "metadata": {
    "collapsed": true
   },
   "outputs": [],
   "source": [
    "date_list.sort()"
   ]
  },
  {
   "cell_type": "code",
   "execution_count": 46,
   "metadata": {},
   "outputs": [
    {
     "data": {
      "text/plain": [
       "Timestamp('2018-12-28 00:00:00')"
      ]
     },
     "execution_count": 46,
     "metadata": {},
     "output_type": "execute_result"
    }
   ],
   "source": [
    "date_list[len(date_list)-1]"
   ]
  },
  {
   "cell_type": "code",
   "execution_count": 119,
   "metadata": {},
   "outputs": [
    {
     "data": {
      "text/plain": [
       "463"
      ]
     },
     "execution_count": 119,
     "metadata": {},
     "output_type": "execute_result"
    }
   ],
   "source": [
    "len(date_list)"
   ]
  },
  {
   "cell_type": "code",
   "execution_count": 47,
   "metadata": {
    "collapsed": true
   },
   "outputs": [],
   "source": [
    "base=360\n",
    "# количество дней в году"
   ]
  },
  {
   "cell_type": "markdown",
   "metadata": {
    "collapsed": true
   },
   "source": [
    "## 3.Полезные функции"
   ]
  },
  {
   "cell_type": "code",
   "execution_count": 48,
   "metadata": {
    "collapsed": true
   },
   "outputs": [],
   "source": [
    "# расчет форвардных ставок\n",
    "def forward_rate(r_t1,r_t2,t1,t2,base=360):\n",
    "    return (1/(t2/base-t1/base))*((1+r_t2*(t2/base))/(1+r_t1*(t1/base))-1)"
   ]
  },
  {
   "cell_type": "code",
   "execution_count": 49,
   "metadata": {
    "collapsed": true
   },
   "outputs": [],
   "source": [
    "# преобразование даты из текстового формата в формат datetime\n",
    "def date_set_func(date):\n",
    "    return datetime.strptime(date, '%Y-%m-%d')"
   ]
  },
  {
   "cell_type": "code",
   "execution_count": 50,
   "metadata": {
    "collapsed": true
   },
   "outputs": [],
   "source": [
    "# вычисление форвардных дат\n",
    "def dates_forward_func(date,time):\n",
    "    return [date+timedelta(t) for t in time]"
   ]
  },
  {
   "cell_type": "code",
   "execution_count": 51,
   "metadata": {
    "collapsed": true
   },
   "outputs": [],
   "source": [
    "# корректировка форвардных дат с учетом нерабочих дней\n",
    "def date_corrected(dates,date):\n",
    "    d=date\n",
    "    i=1\n",
    "    while((i<5)&(date<=date_list[len(date_list)-1])):\n",
    "        d=date+timedelta(i)\n",
    "        if d in dates:\n",
    "            break\n",
    "        else:\n",
    "            i=i+1\n",
    "    return (d)          "
   ]
  },
  {
   "cell_type": "code",
   "execution_count": 52,
   "metadata": {
    "collapsed": true
   },
   "outputs": [],
   "source": [
    "# создание вспомогательного массива форвардных дат \n",
    "def dates_forward_corrected_func(dates_forward):\n",
    "    dates_forward_corrected=[]\n",
    "    for d in dates_forward:\n",
    "        if d<date_list[len(date_list)-1]: \n",
    "            if d not in date_list:\n",
    "                #print('not')\n",
    "                dates_forward_corrected.append(date_corrected(date_list,d))\n",
    "            else:\n",
    "                dates_forward_corrected.append(d)\n",
    "        else:\n",
    "            dates_forward_corrected.append(d)\n",
    "    return  dates_forward_corrected"
   ]
  },
  {
   "cell_type": "code",
   "execution_count": 53,
   "metadata": {
    "collapsed": true
   },
   "outputs": [],
   "source": [
    "# определение курсов и ставок, актуальных на  форвардные даты \n",
    "def df_realized_func(data,dates_forward_corrected,columns):\n",
    "    df=data[data['Date'].isin(dates_forward_corrected)]\n",
    "    df_long=pd.melt(df,id_vars=['Date'])\n",
    "    df_long.columns=['Date','Inst','Realized']\n",
    "    return df_long"
   ]
  },
  {
   "cell_type": "code",
   "execution_count": 54,
   "metadata": {
    "collapsed": true
   },
   "outputs": [],
   "source": [
    "# получение процентных ставок, актуальных на дату расчета\n",
    "def rates_func(date, data,columns):\n",
    "    return (data[data.Date==date][columns]/100).values[0]"
   ]
  },
  {
   "cell_type": "code",
   "execution_count": 55,
   "metadata": {
    "collapsed": true
   },
   "outputs": [],
   "source": [
    "# вычисление форваодных ставок и создание массива\n",
    "def forward_rates_func (time,date,rates,df_forward_dates):\n",
    "    Forward_rates=[]\n",
    "    for i in range(0,len(time)-1):\n",
    "        for k in range(i+1,len(time)):\n",
    "            #print(time[k])\n",
    "            Date=date+timedelta(time[k])\n",
    "            Notation=(str(time[i])+'x'+str(time[k]))\n",
    "            Term=str(int((time[k]-time[i])/30))+'M'\n",
    "            Rate=100*forward_rate(rates[i],rates[k],time[i],time[k])\n",
    "            Forward_rates.append([Date,Term,Notation,Rate])\n",
    "    df=pd.DataFrame(Forward_rates,columns=['Date','Inst','Notation','Forward_rate'])  \n",
    "    df=df.merge(df_forward_dates)\n",
    "    df['Date']=df['Correct_date']\n",
    "    df.drop('Correct_date',axis=1,inplace=True)\n",
    "    return df"
   ]
  },
  {
   "cell_type": "markdown",
   "metadata": {
    "collapsed": true
   },
   "source": [
    "## 4.Форвардные ставки MOSPRIME"
   ]
  },
  {
   "cell_type": "code",
   "execution_count": 56,
   "metadata": {
    "collapsed": true
   },
   "outputs": [],
   "source": [
    "date_str='2017-08-14' # выбор даты расчета"
   ]
  },
  {
   "cell_type": "code",
   "execution_count": 57,
   "metadata": {
    "collapsed": true
   },
   "outputs": [],
   "source": [
    "date=date_set_func(date_str)# преобразование даты в формат datetime"
   ]
  },
  {
   "cell_type": "code",
   "execution_count": 58,
   "metadata": {},
   "outputs": [
    {
     "data": {
      "text/plain": [
       "True"
      ]
     },
     "execution_count": 58,
     "metadata": {},
     "output_type": "execute_result"
    }
   ],
   "source": [
    "date in date_list# проверка, что такая дата есть в массиве "
   ]
  },
  {
   "cell_type": "markdown",
   "metadata": {},
   "source": [
    "### Построение кривой доходности"
   ]
  },
  {
   "cell_type": "code",
   "execution_count": 59,
   "metadata": {
    "collapsed": true
   },
   "outputs": [],
   "source": [
    "y=MOSPRIME[MOSPRIME.Date==date][MOSPRIME.columns[1:]].values[0]"
   ]
  },
  {
   "cell_type": "code",
   "execution_count": 60,
   "metadata": {},
   "outputs": [
    {
     "data": {
      "image/png": "[encoded data removed]",
      "text/plain": [
       "<matplotlib.figure.Figure at 0x7f6cec7162d0>"
      ]
     },
     "metadata": {},
     "output_type": "display_data"
    }
   ],
   "source": [
    "plt.figure(figsize=(10,6))\n",
    "x=MOSPRIME.columns[1:]\n",
    "_=plt.plot(y)\n",
    "_=plt.title('Yield curve MOSPRIME '+date_str)\n",
    "_=plt.xticks(range(len(x)), x)"
   ]
  },
  {
   "cell_type": "code",
   "execution_count": 61,
   "metadata": {
    "collapsed": true
   },
   "outputs": [],
   "source": [
    "columns=list(term_dict.values())[:-1]\n",
    "# вспомогательный массив для условий форвардных контрактов"
   ]
  },
  {
   "cell_type": "code",
   "execution_count": 62,
   "metadata": {},
   "outputs": [
    {
     "data": {
      "text/plain": [
       "['1M', '2M', '3M', '6M']"
      ]
     },
     "execution_count": 62,
     "metadata": {},
     "output_type": "execute_result"
    }
   ],
   "source": [
    "columns"
   ]
  },
  {
   "cell_type": "code",
   "execution_count": 63,
   "metadata": {
    "collapsed": true
   },
   "outputs": [],
   "source": [
    "time=list(term_dict.keys())[:-1]\n",
    "# вспомогательный массив для условий форвардных контрактов"
   ]
  },
  {
   "cell_type": "code",
   "execution_count": 64,
   "metadata": {
    "collapsed": true
   },
   "outputs": [],
   "source": [
    "dates_forward=dates_forward_func(date,time)\n",
    "# определение форвардных дат"
   ]
  },
  {
   "cell_type": "code",
   "execution_count": 65,
   "metadata": {
    "collapsed": true
   },
   "outputs": [],
   "source": [
    "dates_forward_corrected=dates_forward_corrected_func(dates_forward)\n",
    "# корректировка форвардных дат"
   ]
  },
  {
   "cell_type": "code",
   "execution_count": 66,
   "metadata": {
    "collapsed": true
   },
   "outputs": [],
   "source": [
    "df_forward_dates=pd.DataFrame(zip(dates_forward,dates_forward_corrected),columns=['Date','Correct_date'])"
   ]
  },
  {
   "cell_type": "code",
   "execution_count": 67,
   "metadata": {},
   "outputs": [
    {
     "data": {
      "text/html": [
       "<div>\n",
       "<style scoped>\n",
       "    .dataframe tbody tr th:only-of-type {\n",
       "        vertical-align: middle;\n",
       "    }\n",
       "\n",
       "    .dataframe tbody tr th {\n",
       "        vertical-align: top;\n",
       "    }\n",
       "\n",
       "    .dataframe thead th {\n",
       "        text-align: right;\n",
       "    }\n",
       "</style>\n",
       "<table border=\"1\" class=\"dataframe\">\n",
       "  <thead>\n",
       "    <tr style=\"text-align: right;\">\n",
       "      <th></th>\n",
       "      <th>Date</th>\n",
       "      <th>Correct_date</th>\n",
       "    </tr>\n",
       "  </thead>\n",
       "  <tbody>\n",
       "    <tr>\n",
       "      <th>0</th>\n",
       "      <td>2017-09-13</td>\n",
       "      <td>2017-09-13</td>\n",
       "    </tr>\n",
       "    <tr>\n",
       "      <th>1</th>\n",
       "      <td>2017-10-13</td>\n",
       "      <td>2017-10-13</td>\n",
       "    </tr>\n",
       "    <tr>\n",
       "      <th>2</th>\n",
       "      <td>2017-11-12</td>\n",
       "      <td>2017-11-13</td>\n",
       "    </tr>\n",
       "    <tr>\n",
       "      <th>3</th>\n",
       "      <td>2018-02-10</td>\n",
       "      <td>2018-02-12</td>\n",
       "    </tr>\n",
       "  </tbody>\n",
       "</table>\n",
       "</div>"
      ],
      "text/plain": [
       "        Date Correct_date\n",
       "0 2017-09-13   2017-09-13\n",
       "1 2017-10-13   2017-10-13\n",
       "2 2017-11-12   2017-11-13\n",
       "3 2018-02-10   2018-02-12"
      ]
     },
     "execution_count": 67,
     "metadata": {},
     "output_type": "execute_result"
    }
   ],
   "source": [
    "df_forward_dates"
   ]
  },
  {
   "cell_type": "code",
   "execution_count": 68,
   "metadata": {
    "collapsed": true
   },
   "outputs": [],
   "source": [
    "df_realized_long=df_realized_func(MOSPRIME,dates_forward_corrected,columns)\n",
    "# массив актуальных ставок на форвардные даты"
   ]
  },
  {
   "cell_type": "code",
   "execution_count": 69,
   "metadata": {},
   "outputs": [
    {
     "data": {
      "text/html": [
       "<div>\n",
       "<style scoped>\n",
       "    .dataframe tbody tr th:only-of-type {\n",
       "        vertical-align: middle;\n",
       "    }\n",
       "\n",
       "    .dataframe tbody tr th {\n",
       "        vertical-align: top;\n",
       "    }\n",
       "\n",
       "    .dataframe thead th {\n",
       "        text-align: right;\n",
       "    }\n",
       "</style>\n",
       "<table border=\"1\" class=\"dataframe\">\n",
       "  <thead>\n",
       "    <tr style=\"text-align: right;\">\n",
       "      <th></th>\n",
       "      <th>Date</th>\n",
       "      <th>Inst</th>\n",
       "      <th>Realized</th>\n",
       "    </tr>\n",
       "  </thead>\n",
       "  <tbody>\n",
       "    <tr>\n",
       "      <th>0</th>\n",
       "      <td>2017-09-13</td>\n",
       "      <td>ON</td>\n",
       "      <td>8.62</td>\n",
       "    </tr>\n",
       "    <tr>\n",
       "      <th>1</th>\n",
       "      <td>2017-10-13</td>\n",
       "      <td>ON</td>\n",
       "      <td>8.48</td>\n",
       "    </tr>\n",
       "    <tr>\n",
       "      <th>2</th>\n",
       "      <td>2017-11-13</td>\n",
       "      <td>ON</td>\n",
       "      <td>8.22</td>\n",
       "    </tr>\n",
       "    <tr>\n",
       "      <th>3</th>\n",
       "      <td>2018-02-12</td>\n",
       "      <td>ON</td>\n",
       "      <td>7.21</td>\n",
       "    </tr>\n",
       "    <tr>\n",
       "      <th>4</th>\n",
       "      <td>2017-09-13</td>\n",
       "      <td>1W</td>\n",
       "      <td>8.74</td>\n",
       "    </tr>\n",
       "  </tbody>\n",
       "</table>\n",
       "</div>"
      ],
      "text/plain": [
       "        Date Inst  Realized\n",
       "0 2017-09-13   ON      8.62\n",
       "1 2017-10-13   ON      8.48\n",
       "2 2017-11-13   ON      8.22\n",
       "3 2018-02-12   ON      7.21\n",
       "4 2017-09-13   1W      8.74"
      ]
     },
     "execution_count": 69,
     "metadata": {},
     "output_type": "execute_result"
    }
   ],
   "source": [
    "df_realized_long.head()"
   ]
  },
  {
   "cell_type": "code",
   "execution_count": 70,
   "metadata": {
    "collapsed": true
   },
   "outputs": [],
   "source": [
    "rates=rates_func(date, MOSPRIME,columns)"
   ]
  },
  {
   "cell_type": "code",
   "execution_count": 71,
   "metadata": {},
   "outputs": [
    {
     "data": {
      "text/plain": [
       "array([ 0.0915,  0.092 ,  0.0918,  0.0903])"
      ]
     },
     "execution_count": 71,
     "metadata": {},
     "output_type": "execute_result"
    }
   ],
   "source": [
    "rates"
   ]
  },
  {
   "cell_type": "code",
   "execution_count": 72,
   "metadata": {
    "collapsed": true
   },
   "outputs": [],
   "source": [
    "df_forward_rates=forward_rates_func (time,date,rates,df_forward_dates)\n",
    "# массив форвардных ставок"
   ]
  },
  {
   "cell_type": "markdown",
   "metadata": {},
   "source": [
    "### Форвардные ставки рассчитываются по формуле простых процентов"
   ]
  },
  {
   "cell_type": "markdown",
   "metadata": {},
   "source": [
    "## $\\frac{1}{t_2t_1}(\\frac{(1+r_2t_2)}{(1+r_1t_1)}-1)$"
   ]
  },
  {
   "cell_type": "code",
   "execution_count": 73,
   "metadata": {
    "collapsed": true
   },
   "outputs": [],
   "source": [
    "df_forward_rates=df_forward_rates.merge(df_realized_long,left_on=['Date','Inst'],right_on=['Date','Inst']\n",
    "                                        ,how='left')"
   ]
  },
  {
   "cell_type": "code",
   "execution_count": 74,
   "metadata": {},
   "outputs": [
    {
     "data": {
      "text/html": [
       "<div>\n",
       "<style scoped>\n",
       "    .dataframe tbody tr th:only-of-type {\n",
       "        vertical-align: middle;\n",
       "    }\n",
       "\n",
       "    .dataframe tbody tr th {\n",
       "        vertical-align: top;\n",
       "    }\n",
       "\n",
       "    .dataframe thead th {\n",
       "        text-align: right;\n",
       "    }\n",
       "</style>\n",
       "<table border=\"1\" class=\"dataframe\">\n",
       "  <thead>\n",
       "    <tr style=\"text-align: right;\">\n",
       "      <th></th>\n",
       "      <th>Forward_date</th>\n",
       "      <th>Inst</th>\n",
       "      <th>Notation</th>\n",
       "      <th>Forward_rate</th>\n",
       "      <th>Realized</th>\n",
       "    </tr>\n",
       "  </thead>\n",
       "  <tbody>\n",
       "    <tr>\n",
       "      <th>0</th>\n",
       "      <td>2017-10-13</td>\n",
       "      <td>1M</td>\n",
       "      <td>30x60</td>\n",
       "      <td>9.180002</td>\n",
       "      <td>8.57</td>\n",
       "    </tr>\n",
       "    <tr>\n",
       "      <th>1</th>\n",
       "      <td>2017-11-13</td>\n",
       "      <td>2M</td>\n",
       "      <td>30x90</td>\n",
       "      <td>9.125419</td>\n",
       "      <td>8.36</td>\n",
       "    </tr>\n",
       "    <tr>\n",
       "      <th>2</th>\n",
       "      <td>2017-11-13</td>\n",
       "      <td>1M</td>\n",
       "      <td>60x90</td>\n",
       "      <td>9.001970</td>\n",
       "      <td>8.36</td>\n",
       "    </tr>\n",
       "    <tr>\n",
       "      <th>3</th>\n",
       "      <td>2018-02-12</td>\n",
       "      <td>5M</td>\n",
       "      <td>30x180</td>\n",
       "      <td>8.937849</td>\n",
       "      <td>NaN</td>\n",
       "    </tr>\n",
       "    <tr>\n",
       "      <th>4</th>\n",
       "      <td>2018-02-12</td>\n",
       "      <td>4M</td>\n",
       "      <td>60x180</td>\n",
       "      <td>8.809915</td>\n",
       "      <td>NaN</td>\n",
       "    </tr>\n",
       "    <tr>\n",
       "      <th>5</th>\n",
       "      <td>2018-02-12</td>\n",
       "      <td>3M</td>\n",
       "      <td>90x180</td>\n",
       "      <td>8.680776</td>\n",
       "      <td>7.44</td>\n",
       "    </tr>\n",
       "  </tbody>\n",
       "</table>\n",
       "</div>"
      ],
      "text/plain": [
       "  Forward_date Inst Notation  Forward_rate  Realized\n",
       "0   2017-10-13   1M    30x60      9.180002      8.57\n",
       "1   2017-11-13   2M    30x90      9.125419      8.36\n",
       "2   2017-11-13   1M    60x90      9.001970      8.36\n",
       "3   2018-02-12   5M   30x180      8.937849       NaN\n",
       "4   2018-02-12   4M   60x180      8.809915       NaN\n",
       "5   2018-02-12   3M   90x180      8.680776      7.44"
      ]
     },
     "execution_count": 74,
     "metadata": {},
     "output_type": "execute_result"
    }
   ],
   "source": [
    "df_forward_rates.rename({'Date':'Forward_date'},axis=1)\n",
    "# итоговый массив форвардных ставок и ставок, актуальных на будущую дату\n",
    "#NaN означает либо отустсвие котироок инструмента либо то,что будущая дата еще не наступила"
   ]
  },
  {
   "cell_type": "markdown",
   "metadata": {
    "collapsed": true
   },
   "source": [
    "## 5.Форвардные ставки LIBOR"
   ]
  },
  {
   "cell_type": "markdown",
   "metadata": {},
   "source": [
    "### Данная часть задания выполняется по аналогии с предыдущей с учетом набора инструментов LIBOR "
   ]
  },
  {
   "cell_type": "code",
   "execution_count": 75,
   "metadata": {
    "collapsed": true
   },
   "outputs": [],
   "source": [
    "date_str='2017-08-14'"
   ]
  },
  {
   "cell_type": "code",
   "execution_count": 76,
   "metadata": {
    "collapsed": true
   },
   "outputs": [],
   "source": [
    "date=date_set_func(date_str)"
   ]
  },
  {
   "cell_type": "code",
   "execution_count": 77,
   "metadata": {},
   "outputs": [
    {
     "data": {
      "text/plain": [
       "True"
      ]
     },
     "execution_count": 77,
     "metadata": {},
     "output_type": "execute_result"
    }
   ],
   "source": [
    "date in date_list"
   ]
  },
  {
   "cell_type": "code",
   "execution_count": 78,
   "metadata": {
    "collapsed": true
   },
   "outputs": [],
   "source": [
    "y=LIBOR[LIBOR.Date==date][LIBOR.columns[1:]].values[0]"
   ]
  },
  {
   "cell_type": "code",
   "execution_count": 79,
   "metadata": {},
   "outputs": [
    {
     "data": {
      "image/png": "[encoded data removed]",
      "text/plain": [
       "<matplotlib.figure.Figure at 0x7f6ccaf7bb90>"
      ]
     },
     "metadata": {},
     "output_type": "display_data"
    }
   ],
   "source": [
    "plt.figure(figsize=(10,6))\n",
    "x=LIBOR.columns[1:]\n",
    "_=plt.plot(y)\n",
    "_=plt.title('Yield curve LIBOR '+date_str)\n",
    "_=plt.xticks(range(len(x)), x)"
   ]
  },
  {
   "cell_type": "code",
   "execution_count": 80,
   "metadata": {
    "collapsed": true
   },
   "outputs": [],
   "source": [
    "columns=list(term_dict.values())"
   ]
  },
  {
   "cell_type": "code",
   "execution_count": 81,
   "metadata": {},
   "outputs": [
    {
     "data": {
      "text/plain": [
       "['1M', '2M', '3M', '6M', '12M']"
      ]
     },
     "execution_count": 81,
     "metadata": {},
     "output_type": "execute_result"
    }
   ],
   "source": [
    "columns"
   ]
  },
  {
   "cell_type": "code",
   "execution_count": 82,
   "metadata": {
    "collapsed": true
   },
   "outputs": [],
   "source": [
    "time=list(term_dict.keys())"
   ]
  },
  {
   "cell_type": "code",
   "execution_count": 83,
   "metadata": {},
   "outputs": [
    {
     "data": {
      "text/plain": [
       "[30, 60, 90, 180, 360]"
      ]
     },
     "execution_count": 83,
     "metadata": {},
     "output_type": "execute_result"
    }
   ],
   "source": [
    "time"
   ]
  },
  {
   "cell_type": "code",
   "execution_count": 84,
   "metadata": {
    "collapsed": true
   },
   "outputs": [],
   "source": [
    "dates_forward=dates_forward_func(date,time)"
   ]
  },
  {
   "cell_type": "code",
   "execution_count": 85,
   "metadata": {
    "collapsed": true
   },
   "outputs": [],
   "source": [
    "dates_forward_corrected=dates_forward_corrected_func(dates_forward)"
   ]
  },
  {
   "cell_type": "code",
   "execution_count": 86,
   "metadata": {
    "collapsed": true
   },
   "outputs": [],
   "source": [
    "df_forward_dates=pd.DataFrame(zip(dates_forward,dates_forward_corrected),columns=['Date','Correct_date'])"
   ]
  },
  {
   "cell_type": "code",
   "execution_count": 87,
   "metadata": {},
   "outputs": [
    {
     "data": {
      "text/html": [
       "<div>\n",
       "<style scoped>\n",
       "    .dataframe tbody tr th:only-of-type {\n",
       "        vertical-align: middle;\n",
       "    }\n",
       "\n",
       "    .dataframe tbody tr th {\n",
       "        vertical-align: top;\n",
       "    }\n",
       "\n",
       "    .dataframe thead th {\n",
       "        text-align: right;\n",
       "    }\n",
       "</style>\n",
       "<table border=\"1\" class=\"dataframe\">\n",
       "  <thead>\n",
       "    <tr style=\"text-align: right;\">\n",
       "      <th></th>\n",
       "      <th>Date</th>\n",
       "      <th>Correct_date</th>\n",
       "    </tr>\n",
       "  </thead>\n",
       "  <tbody>\n",
       "    <tr>\n",
       "      <th>0</th>\n",
       "      <td>2017-09-13</td>\n",
       "      <td>2017-09-13</td>\n",
       "    </tr>\n",
       "    <tr>\n",
       "      <th>1</th>\n",
       "      <td>2017-10-13</td>\n",
       "      <td>2017-10-13</td>\n",
       "    </tr>\n",
       "    <tr>\n",
       "      <th>2</th>\n",
       "      <td>2017-11-12</td>\n",
       "      <td>2017-11-13</td>\n",
       "    </tr>\n",
       "    <tr>\n",
       "      <th>3</th>\n",
       "      <td>2018-02-10</td>\n",
       "      <td>2018-02-12</td>\n",
       "    </tr>\n",
       "    <tr>\n",
       "      <th>4</th>\n",
       "      <td>2018-08-09</td>\n",
       "      <td>2018-08-09</td>\n",
       "    </tr>\n",
       "  </tbody>\n",
       "</table>\n",
       "</div>"
      ],
      "text/plain": [
       "        Date Correct_date\n",
       "0 2017-09-13   2017-09-13\n",
       "1 2017-10-13   2017-10-13\n",
       "2 2017-11-12   2017-11-13\n",
       "3 2018-02-10   2018-02-12\n",
       "4 2018-08-09   2018-08-09"
      ]
     },
     "execution_count": 87,
     "metadata": {},
     "output_type": "execute_result"
    }
   ],
   "source": [
    "df_forward_dates"
   ]
  },
  {
   "cell_type": "code",
   "execution_count": 88,
   "metadata": {
    "collapsed": true
   },
   "outputs": [],
   "source": [
    "df_realized_long=df_realized_func(LIBOR,dates_forward_corrected,columns)"
   ]
  },
  {
   "cell_type": "code",
   "execution_count": 89,
   "metadata": {},
   "outputs": [
    {
     "data": {
      "text/html": [
       "<div>\n",
       "<style scoped>\n",
       "    .dataframe tbody tr th:only-of-type {\n",
       "        vertical-align: middle;\n",
       "    }\n",
       "\n",
       "    .dataframe tbody tr th {\n",
       "        vertical-align: top;\n",
       "    }\n",
       "\n",
       "    .dataframe thead th {\n",
       "        text-align: right;\n",
       "    }\n",
       "</style>\n",
       "<table border=\"1\" class=\"dataframe\">\n",
       "  <thead>\n",
       "    <tr style=\"text-align: right;\">\n",
       "      <th></th>\n",
       "      <th>Date</th>\n",
       "      <th>Inst</th>\n",
       "      <th>Realized</th>\n",
       "    </tr>\n",
       "  </thead>\n",
       "  <tbody>\n",
       "    <tr>\n",
       "      <th>0</th>\n",
       "      <td>2018-08-09</td>\n",
       "      <td>ON</td>\n",
       "      <td>1.91625</td>\n",
       "    </tr>\n",
       "    <tr>\n",
       "      <th>1</th>\n",
       "      <td>2018-02-12</td>\n",
       "      <td>ON</td>\n",
       "      <td>1.44250</td>\n",
       "    </tr>\n",
       "    <tr>\n",
       "      <th>2</th>\n",
       "      <td>2017-11-13</td>\n",
       "      <td>ON</td>\n",
       "      <td>1.18278</td>\n",
       "    </tr>\n",
       "    <tr>\n",
       "      <th>3</th>\n",
       "      <td>2017-10-13</td>\n",
       "      <td>ON</td>\n",
       "      <td>1.18444</td>\n",
       "    </tr>\n",
       "    <tr>\n",
       "      <th>4</th>\n",
       "      <td>2017-09-13</td>\n",
       "      <td>ON</td>\n",
       "      <td>1.17722</td>\n",
       "    </tr>\n",
       "  </tbody>\n",
       "</table>\n",
       "</div>"
      ],
      "text/plain": [
       "        Date Inst  Realized\n",
       "0 2018-08-09   ON   1.91625\n",
       "1 2018-02-12   ON   1.44250\n",
       "2 2017-11-13   ON   1.18278\n",
       "3 2017-10-13   ON   1.18444\n",
       "4 2017-09-13   ON   1.17722"
      ]
     },
     "execution_count": 89,
     "metadata": {},
     "output_type": "execute_result"
    }
   ],
   "source": [
    "df_realized_long.head()"
   ]
  },
  {
   "cell_type": "code",
   "execution_count": 90,
   "metadata": {
    "collapsed": true
   },
   "outputs": [],
   "source": [
    "rates=rates_func(date, LIBOR,columns)"
   ]
  },
  {
   "cell_type": "code",
   "execution_count": 91,
   "metadata": {
    "collapsed": true
   },
   "outputs": [],
   "source": [
    "df_forward_rates=forward_rates_func (time,date,rates,df_forward_dates)"
   ]
  },
  {
   "cell_type": "code",
   "execution_count": 92,
   "metadata": {
    "collapsed": true
   },
   "outputs": [],
   "source": [
    "df_forward_rates=df_forward_rates.merge(df_realized_long,left_on=['Date','Inst'],right_on=['Date','Inst']\n",
    "                                        ,how='left')"
   ]
  },
  {
   "cell_type": "code",
   "execution_count": 93,
   "metadata": {},
   "outputs": [
    {
     "data": {
      "text/html": [
       "<div>\n",
       "<style scoped>\n",
       "    .dataframe tbody tr th:only-of-type {\n",
       "        vertical-align: middle;\n",
       "    }\n",
       "\n",
       "    .dataframe tbody tr th {\n",
       "        vertical-align: top;\n",
       "    }\n",
       "\n",
       "    .dataframe thead th {\n",
       "        text-align: right;\n",
       "    }\n",
       "</style>\n",
       "<table border=\"1\" class=\"dataframe\">\n",
       "  <thead>\n",
       "    <tr style=\"text-align: right;\">\n",
       "      <th></th>\n",
       "      <th>Forward_date</th>\n",
       "      <th>Inst</th>\n",
       "      <th>Notation</th>\n",
       "      <th>Forward_rate</th>\n",
       "      <th>Realized</th>\n",
       "    </tr>\n",
       "  </thead>\n",
       "  <tbody>\n",
       "    <tr>\n",
       "      <th>0</th>\n",
       "      <td>2017-10-13</td>\n",
       "      <td>1M</td>\n",
       "      <td>30x60</td>\n",
       "      <td>1.295335</td>\n",
       "      <td>1.23667</td>\n",
       "    </tr>\n",
       "    <tr>\n",
       "      <th>1</th>\n",
       "      <td>2017-11-13</td>\n",
       "      <td>2M</td>\n",
       "      <td>30x90</td>\n",
       "      <td>1.355978</td>\n",
       "      <td>1.35600</td>\n",
       "    </tr>\n",
       "    <tr>\n",
       "      <th>2</th>\n",
       "      <td>2017-11-13</td>\n",
       "      <td>1M</td>\n",
       "      <td>60x90</td>\n",
       "      <td>1.415093</td>\n",
       "      <td>1.25028</td>\n",
       "    </tr>\n",
       "    <tr>\n",
       "      <th>3</th>\n",
       "      <td>2018-02-12</td>\n",
       "      <td>5M</td>\n",
       "      <td>30x180</td>\n",
       "      <td>1.492917</td>\n",
       "      <td>NaN</td>\n",
       "    </tr>\n",
       "    <tr>\n",
       "      <th>4</th>\n",
       "      <td>2018-02-12</td>\n",
       "      <td>4M</td>\n",
       "      <td>60x180</td>\n",
       "      <td>1.540649</td>\n",
       "      <td>NaN</td>\n",
       "    </tr>\n",
       "    <tr>\n",
       "      <th>5</th>\n",
       "      <td>2018-02-12</td>\n",
       "      <td>3M</td>\n",
       "      <td>90x180</td>\n",
       "      <td>1.580637</td>\n",
       "      <td>1.83338</td>\n",
       "    </tr>\n",
       "    <tr>\n",
       "      <th>6</th>\n",
       "      <td>2018-08-09</td>\n",
       "      <td>11M</td>\n",
       "      <td>30x360</td>\n",
       "      <td>1.760644</td>\n",
       "      <td>NaN</td>\n",
       "    </tr>\n",
       "    <tr>\n",
       "      <th>7</th>\n",
       "      <td>2018-08-09</td>\n",
       "      <td>10M</td>\n",
       "      <td>60x360</td>\n",
       "      <td>1.805226</td>\n",
       "      <td>NaN</td>\n",
       "    </tr>\n",
       "    <tr>\n",
       "      <th>8</th>\n",
       "      <td>2018-08-09</td>\n",
       "      <td>9M</td>\n",
       "      <td>90x360</td>\n",
       "      <td>1.846397</td>\n",
       "      <td>NaN</td>\n",
       "    </tr>\n",
       "    <tr>\n",
       "      <th>9</th>\n",
       "      <td>2018-08-09</td>\n",
       "      <td>6M</td>\n",
       "      <td>180x360</td>\n",
       "      <td>1.971487</td>\n",
       "      <td>2.51713</td>\n",
       "    </tr>\n",
       "  </tbody>\n",
       "</table>\n",
       "</div>"
      ],
      "text/plain": [
       "  Forward_date Inst Notation  Forward_rate  Realized\n",
       "0   2017-10-13   1M    30x60      1.295335   1.23667\n",
       "1   2017-11-13   2M    30x90      1.355978   1.35600\n",
       "2   2017-11-13   1M    60x90      1.415093   1.25028\n",
       "3   2018-02-12   5M   30x180      1.492917       NaN\n",
       "4   2018-02-12   4M   60x180      1.540649       NaN\n",
       "5   2018-02-12   3M   90x180      1.580637   1.83338\n",
       "6   2018-08-09  11M   30x360      1.760644       NaN\n",
       "7   2018-08-09  10M   60x360      1.805226       NaN\n",
       "8   2018-08-09   9M   90x360      1.846397       NaN\n",
       "9   2018-08-09   6M  180x360      1.971487   2.51713"
      ]
     },
     "execution_count": 93,
     "metadata": {},
     "output_type": "execute_result"
    }
   ],
   "source": [
    "df_forward_rates.rename({'Date':'Forward_date'},axis=1)"
   ]
  },
  {
   "cell_type": "markdown",
   "metadata": {
    "collapsed": true
   },
   "source": [
    "## 6.Форвардный курс "
   ]
  },
  {
   "cell_type": "markdown",
   "metadata": {},
   "source": [
    "### Данная часть задания выполняется по аналогии с предыдущими, за исключением расчета форвардного курса"
   ]
  },
  {
   "cell_type": "code",
   "execution_count": 94,
   "metadata": {
    "collapsed": true
   },
   "outputs": [],
   "source": [
    "date_str='2017-08-14'"
   ]
  },
  {
   "cell_type": "code",
   "execution_count": 95,
   "metadata": {
    "collapsed": true
   },
   "outputs": [],
   "source": [
    "date=date_set_func(date_str)"
   ]
  },
  {
   "cell_type": "code",
   "execution_count": 96,
   "metadata": {
    "collapsed": true
   },
   "outputs": [],
   "source": [
    "columns='USD_RUB'"
   ]
  },
  {
   "cell_type": "code",
   "execution_count": 97,
   "metadata": {
    "collapsed": true
   },
   "outputs": [],
   "source": [
    "columns_rate=list(term_dict.values())[:-1]\n",
    "# параметры и условия выбирааем исходя из параметров MOSPRIME"
   ]
  },
  {
   "cell_type": "code",
   "execution_count": 98,
   "metadata": {
    "collapsed": true
   },
   "outputs": [],
   "source": [
    "time=list(term_dict.keys())[:-1]"
   ]
  },
  {
   "cell_type": "code",
   "execution_count": 99,
   "metadata": {},
   "outputs": [
    {
     "data": {
      "text/plain": [
       "[30, 60, 90, 180]"
      ]
     },
     "execution_count": 99,
     "metadata": {},
     "output_type": "execute_result"
    }
   ],
   "source": [
    "time"
   ]
  },
  {
   "cell_type": "code",
   "execution_count": 100,
   "metadata": {
    "collapsed": true
   },
   "outputs": [],
   "source": [
    "dates_forward=dates_forward_func(date,time)"
   ]
  },
  {
   "cell_type": "code",
   "execution_count": 101,
   "metadata": {
    "collapsed": true
   },
   "outputs": [],
   "source": [
    "dates_forward_corrected=dates_forward_corrected_func(dates_forward)"
   ]
  },
  {
   "cell_type": "code",
   "execution_count": 102,
   "metadata": {
    "collapsed": true
   },
   "outputs": [],
   "source": [
    "df_realized_long=df_realized_func(USD_RUB,dates_forward_corrected,columns)"
   ]
  },
  {
   "cell_type": "code",
   "execution_count": 103,
   "metadata": {
    "collapsed": true
   },
   "outputs": [],
   "source": [
    "df_realized_long.drop('Inst',axis=1,inplace=True)"
   ]
  },
  {
   "cell_type": "code",
   "execution_count": 104,
   "metadata": {
    "collapsed": true
   },
   "outputs": [],
   "source": [
    "df_realized_long.rename({'Date':'Forward_date'},axis=1,inplace=True)"
   ]
  },
  {
   "cell_type": "code",
   "execution_count": 105,
   "metadata": {
    "collapsed": true
   },
   "outputs": [],
   "source": [
    "df_realized_long['Inst']=columns_rate"
   ]
  },
  {
   "cell_type": "code",
   "execution_count": 106,
   "metadata": {},
   "outputs": [
    {
     "data": {
      "text/html": [
       "<div>\n",
       "<style scoped>\n",
       "    .dataframe tbody tr th:only-of-type {\n",
       "        vertical-align: middle;\n",
       "    }\n",
       "\n",
       "    .dataframe tbody tr th {\n",
       "        vertical-align: top;\n",
       "    }\n",
       "\n",
       "    .dataframe thead th {\n",
       "        text-align: right;\n",
       "    }\n",
       "</style>\n",
       "<table border=\"1\" class=\"dataframe\">\n",
       "  <thead>\n",
       "    <tr style=\"text-align: right;\">\n",
       "      <th></th>\n",
       "      <th>Forward_date</th>\n",
       "      <th>Realized</th>\n",
       "      <th>Inst</th>\n",
       "    </tr>\n",
       "  </thead>\n",
       "  <tbody>\n",
       "    <tr>\n",
       "      <th>0</th>\n",
       "      <td>2017-09-13</td>\n",
       "      <td>57.2656</td>\n",
       "      <td>1M</td>\n",
       "    </tr>\n",
       "    <tr>\n",
       "      <th>1</th>\n",
       "      <td>2017-10-13</td>\n",
       "      <td>57.6869</td>\n",
       "      <td>2M</td>\n",
       "    </tr>\n",
       "    <tr>\n",
       "      <th>2</th>\n",
       "      <td>2017-11-13</td>\n",
       "      <td>59.2808</td>\n",
       "      <td>3M</td>\n",
       "    </tr>\n",
       "    <tr>\n",
       "      <th>3</th>\n",
       "      <td>2018-02-12</td>\n",
       "      <td>58.1718</td>\n",
       "      <td>6M</td>\n",
       "    </tr>\n",
       "  </tbody>\n",
       "</table>\n",
       "</div>"
      ],
      "text/plain": [
       "  Forward_date  Realized Inst\n",
       "0   2017-09-13   57.2656   1M\n",
       "1   2017-10-13   57.6869   2M\n",
       "2   2017-11-13   59.2808   3M\n",
       "3   2018-02-12   58.1718   6M"
      ]
     },
     "execution_count": 106,
     "metadata": {},
     "output_type": "execute_result"
    }
   ],
   "source": [
    "df_realized_long"
   ]
  },
  {
   "cell_type": "code",
   "execution_count": 107,
   "metadata": {
    "collapsed": true
   },
   "outputs": [],
   "source": [
    "rates_MP=rates_func(date, MOSPRIME,columns_rate)\n",
    "# рублевые ставки"
   ]
  },
  {
   "cell_type": "code",
   "execution_count": 108,
   "metadata": {},
   "outputs": [
    {
     "data": {
      "text/plain": [
       "array([ 0.0915,  0.092 ,  0.0918,  0.0903])"
      ]
     },
     "execution_count": 108,
     "metadata": {},
     "output_type": "execute_result"
    }
   ],
   "source": [
    "rates_MP"
   ]
  },
  {
   "cell_type": "code",
   "execution_count": 109,
   "metadata": {
    "collapsed": true
   },
   "outputs": [],
   "source": [
    "rates_LIBOR=rates_func(date, LIBOR,columns_rate)\n",
    "#  ставки LIBOR"
   ]
  },
  {
   "cell_type": "code",
   "execution_count": 110,
   "metadata": {
    "collapsed": true
   },
   "outputs": [],
   "source": [
    "spot_ex_rate=USD_RUB[USD_RUB.Date==date]['USD_RUB']\n",
    "#  курс спот"
   ]
  },
  {
   "cell_type": "code",
   "execution_count": 111,
   "metadata": {},
   "outputs": [
    {
     "data": {
      "text/plain": [
       "60.1873"
      ]
     },
     "execution_count": 111,
     "metadata": {},
     "output_type": "execute_result"
    }
   ],
   "source": [
    "float(spot_ex_rate)"
   ]
  },
  {
   "cell_type": "markdown",
   "metadata": {},
   "source": [
    "$F=Sexp((r_{rub}-r_{usd})t/360)$"
   ]
  },
  {
   "cell_type": "code",
   "execution_count": 112,
   "metadata": {
    "collapsed": true
   },
   "outputs": [],
   "source": [
    "df_ex_rate=pd.DataFrame(zip(columns_rate,float(spot_ex_rate)*np.exp((rates_MP-rates_LIBOR)*time/base)),\n",
    "                       columns=['Inst','Forward_ex_rate'])\n",
    "### расчет форвардного курса "
   ]
  },
  {
   "cell_type": "code",
   "execution_count": 113,
   "metadata": {
    "collapsed": true
   },
   "outputs": [],
   "source": [
    "df_ex_rate=df_ex_rate.merge(df_realized_long)"
   ]
  },
  {
   "cell_type": "code",
   "execution_count": 114,
   "metadata": {},
   "outputs": [
    {
     "data": {
      "text/html": [
       "<div>\n",
       "<style scoped>\n",
       "    .dataframe tbody tr th:only-of-type {\n",
       "        vertical-align: middle;\n",
       "    }\n",
       "\n",
       "    .dataframe tbody tr th {\n",
       "        vertical-align: top;\n",
       "    }\n",
       "\n",
       "    .dataframe thead th {\n",
       "        text-align: right;\n",
       "    }\n",
       "</style>\n",
       "<table border=\"1\" class=\"dataframe\">\n",
       "  <thead>\n",
       "    <tr style=\"text-align: right;\">\n",
       "      <th></th>\n",
       "      <th>Inst</th>\n",
       "      <th>Forward_ex_rate</th>\n",
       "      <th>Forward_date</th>\n",
       "      <th>Realized</th>\n",
       "    </tr>\n",
       "  </thead>\n",
       "  <tbody>\n",
       "    <tr>\n",
       "      <th>0</th>\n",
       "      <td>1M</td>\n",
       "      <td>60.585962</td>\n",
       "      <td>2017-09-13</td>\n",
       "      <td>57.2656</td>\n",
       "    </tr>\n",
       "    <tr>\n",
       "      <th>1</th>\n",
       "      <td>2M</td>\n",
       "      <td>60.988846</td>\n",
       "      <td>2017-10-13</td>\n",
       "      <td>57.6869</td>\n",
       "    </tr>\n",
       "    <tr>\n",
       "      <th>2</th>\n",
       "      <td>3M</td>\n",
       "      <td>61.382571</td>\n",
       "      <td>2017-11-13</td>\n",
       "      <td>59.2808</td>\n",
       "    </tr>\n",
       "    <tr>\n",
       "      <th>3</th>\n",
       "      <td>6M</td>\n",
       "      <td>62.512177</td>\n",
       "      <td>2018-02-12</td>\n",
       "      <td>58.1718</td>\n",
       "    </tr>\n",
       "  </tbody>\n",
       "</table>\n",
       "</div>"
      ],
      "text/plain": [
       "  Inst  Forward_ex_rate Forward_date  Realized\n",
       "0   1M        60.585962   2017-09-13   57.2656\n",
       "1   2M        60.988846   2017-10-13   57.6869\n",
       "2   3M        61.382571   2017-11-13   59.2808\n",
       "3   6M        62.512177   2018-02-12   58.1718"
      ]
     },
     "execution_count": 114,
     "metadata": {},
     "output_type": "execute_result"
    }
   ],
   "source": [
    "df_ex_rate"
   ]
  },
  {
   "cell_type": "markdown",
   "metadata": {},
   "source": [
    "### Построение форвардной кривой"
   ]
  },
  {
   "cell_type": "code",
   "execution_count": 115,
   "metadata": {
    "scrolled": true
   },
   "outputs": [
    {
     "data": {
      "image/png": "[encoded data removed]",
      "text/plain": [
       "<matplotlib.figure.Figure at 0x7f6cc9b28690>"
      ]
     },
     "metadata": {},
     "output_type": "display_data"
    }
   ],
   "source": [
    "plt.figure(figsize=(10,6))\n",
    "x=df_ex_rate.Inst\n",
    "_=plt.plot(df_ex_rate.Forward_ex_rate)\n",
    "_=plt.plot(df_ex_rate.Realized)\n",
    "_=plt.xticks(range(len(x)), x)\n",
    "_=plt.title('Forward rate RUB/USD')\n",
    "_=plt.legend()"
   ]
  },
  {
   "cell_type": "code",
   "execution_count": 116,
   "metadata": {
    "collapsed": true
   },
   "outputs": [],
   "source": [
    "## Задание"
   ]
  },
  {
   "cell_type": "code",
   "execution_count": 117,
   "metadata": {
    "collapsed": true
   },
   "outputs": [],
   "source": [
    "### 1. Выбрать любой внешний источник финансовой информации и выгрузить котировки интсрументов денежного рынка\n",
    "### 2. Рассчитать фовардные ставки для двух валют\n",
    "### 3. Рассчитать фовардные курсы для одной пары валют\n",
    "### 4. Сравнить фовардные курсы и ставки с фактическими \n",
    "### Максимальный балл за задание получат слушатели, которые провели расчеты для валют, отличных от USD (например EUR, YEN, CHF, GBP)"
   ]
  }
 ],
 "metadata": {
  "kernelspec": {
   "display_name": "Python 2",
   "language": "python",
   "name": "python2"
  },
  "language_info": {
   "codemirror_mode": {
    "name": "ipython",
    "version": 2
   },
   "file_extension": ".py",
   "mimetype": "text/x-python",
   "name": "python",
   "nbconvert_exporter": "python",
   "pygments_lexer": "ipython2",
   "version": "2.7.15"
  }
 },
 "nbformat": 4,
 "nbformat_minor": 2
}
